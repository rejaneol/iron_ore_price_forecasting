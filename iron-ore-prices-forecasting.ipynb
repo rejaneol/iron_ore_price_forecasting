{
 "cells": [
  {
   "cell_type": "markdown",
   "metadata": {},
   "source": [
    "# Iron Ore Prices Forecasting Project\n",
    "\n",
    "This project aims to develop a model to predict the iron ore prices.  \n",
    "Iron Ore is a commodity used to produce steel. Commodity prices are subject to the high volatility typical of market prices."
   ]
  },
  {
   "cell_type": "markdown",
   "metadata": {},
   "source": [
    "##### Project Structure\n",
    "\n",
    "1. Motivation  \n",
    "2. The Data\n",
    "3. Exploratory Data Analysis\n",
    "4. Modeling  \n",
    "4.1 POC Modeling  \n",
    "4.2 Final Model  \n",
    "5. Results\n",
    "6. Conclusion\n",
    "7. Acknowlegdments"
   ]
  },
  {
   "cell_type": "markdown",
   "metadata": {},
   "source": [
    "## 1. Motivation\n",
    "\n",
    "Overview:  \n",
    "Visualizing the Rise in Commodity Prices  \n",
    "https://elements.visualcapitalist.com/visualizing-the-rise-in-commodity-prices/  \n",
    "\n",
    "https://www.weforum.org/agenda/2021/06/global-steel-production/"
   ]
  },
  {
   "cell_type": "markdown",
   "metadata": {},
   "source": [
    "##### Importing packages"
   ]
  },
  {
   "cell_type": "code",
   "execution_count": 1,
   "metadata": {},
   "outputs": [],
   "source": [
    "import pandas as pd\n",
    "import numpy as np\n",
    "#import statsmodels as sm\n",
    "import statsmodels.api as sm\n",
    "\n",
    "import matplotlib.pyplot as plt\n",
    "import seaborn as sns"
   ]
  },
  {
   "cell_type": "code",
   "execution_count": 2,
   "metadata": {},
   "outputs": [],
   "source": [
    "from statsmodels.tsa import arima, stattools, seasonal, statespace\n",
    "from statsmodels.tsa.statespace import sarimax"
   ]
  },
  {
   "cell_type": "code",
   "execution_count": 3,
   "metadata": {},
   "outputs": [],
   "source": [
    "from sklearn.model_selection import GridSearchCV\n",
    "from sklearn.ensemble import RandomForestClassifier\n",
    "from sklearn.model_selection import TimeSeriesSplit"
   ]
  },
  {
   "cell_type": "markdown",
   "metadata": {},
   "source": [
    "## 2. The Data \n",
    "The data that is interesting to predict and forecaste iron ore prices are the prices itselt (the main series) and some exogenous variables related to the subject, like steel prices, scrap prices (a raw material that can replace iron ore at certain content), industrial production, and GDP growth of the main consumers."
   ]
  },
  {
   "cell_type": "markdown",
   "metadata": {},
   "source": [
    "### 2.1 Data sources:  \n",
    "- Iron Ore Prices:  \n",
    "MarketIndex.com.au/iron-ore  \n",
    "\n",
    "https://www.worldbank.org/en/research/commodity-markets#1\n",
    "\n",
    "https://www.indexmundi.com/commodities/?commodity=iron-ore&months=240  (obs Terms of Use)  \n",
    "Description: Iron ore (any origin) fines, spot price, c.f.r. China, 62% Fe beginning December 2008; previously 63.5%  \n",
    "Unit: US Dollars per Dry Metric Ton  \n",
    "\n",
    "https://www.investing.com/commodities/iron-ore-62-cfr-futures-historical-data  \n",
    "\n",
    "- Rain Fall in Australia:  \n",
    "https://www.kaggle.com/jsphyg/weather-dataset-rattle-package  \n",
    "http://www.bom.gov.au/climate/data/  \n",
    "- Scrap Prices (LME Steel Scrap)  \n",
    "https://www.lme.com/Market-Data/Reports-and-data/Historical-data-for-cash-settled-futures\n",
    "- Steel Prices  \n",
    "https://www.lme.com/Market-Data/Reports-and-data/Historical-data-for-cash-settled-futures\n",
    "https://www.lme.com/-/media/Files/Market-data/Historic-Data/2021/Cash-settled-futures/Closing-prices/HC-Closing-Prices.xlsx  \n",
    "https://br.investing.com/commodities/us-steel-coil-futures-historical-data\n",
    "- World Steel Production  \n",
    "https://www.worldsteel.org/steel-by-topic/statistics/annual-production-steel-data/P1_crude_steel_total_pub/CHN/IND  \n",
    "- GDP  \n",
    "https://data.oecd.org/gdp/quarterly-gdp.htm  \n",
    "OECD (2021), Quarterly GDP (indicator). doi: 10.1787/b86d1fc8-en"
   ]
  },
  {
   "cell_type": "markdown",
   "metadata": {},
   "source": [
    "### 2.2 Iron Ore Prices "
   ]
  },
  {
   "cell_type": "code",
   "execution_count": 4,
   "metadata": {
    "scrolled": false
   },
   "outputs": [
    {
     "name": "stdout",
     "output_type": "stream",
     "text": [
      "<class 'pandas.core.frame.DataFrame'>\n",
      "RangeIndex: 740 entries, 0 to 739\n",
      "Data columns (total 2 columns):\n",
      " #   Column      Non-Null Count  Dtype  \n",
      "---  ------      --------------  -----  \n",
      " 0   Unnamed: 0  740 non-null    object \n",
      " 1   IRON_ORE    740 non-null    float64\n",
      "dtypes: float64(1), object(1)\n",
      "memory usage: 11.7+ KB\n",
      "None\n"
     ]
    },
    {
     "data": {
      "text/html": [
       "<div>\n",
       "<style scoped>\n",
       "    .dataframe tbody tr th:only-of-type {\n",
       "        vertical-align: middle;\n",
       "    }\n",
       "\n",
       "    .dataframe tbody tr th {\n",
       "        vertical-align: top;\n",
       "    }\n",
       "\n",
       "    .dataframe thead th {\n",
       "        text-align: right;\n",
       "    }\n",
       "</style>\n",
       "<table border=\"1\" class=\"dataframe\">\n",
       "  <thead>\n",
       "    <tr style=\"text-align: right;\">\n",
       "      <th></th>\n",
       "      <th>Unnamed: 0</th>\n",
       "      <th>IRON_ORE</th>\n",
       "    </tr>\n",
       "  </thead>\n",
       "  <tbody>\n",
       "    <tr>\n",
       "      <th>0</th>\n",
       "      <td>1960M01</td>\n",
       "      <td>11.42</td>\n",
       "    </tr>\n",
       "    <tr>\n",
       "      <th>1</th>\n",
       "      <td>1960M02</td>\n",
       "      <td>11.42</td>\n",
       "    </tr>\n",
       "    <tr>\n",
       "      <th>2</th>\n",
       "      <td>1960M03</td>\n",
       "      <td>11.42</td>\n",
       "    </tr>\n",
       "    <tr>\n",
       "      <th>3</th>\n",
       "      <td>1960M04</td>\n",
       "      <td>11.42</td>\n",
       "    </tr>\n",
       "    <tr>\n",
       "      <th>4</th>\n",
       "      <td>1960M05</td>\n",
       "      <td>11.42</td>\n",
       "    </tr>\n",
       "  </tbody>\n",
       "</table>\n",
       "</div>"
      ],
      "text/plain": [
       "  Unnamed: 0  IRON_ORE\n",
       "0    1960M01     11.42\n",
       "1    1960M02     11.42\n",
       "2    1960M03     11.42\n",
       "3    1960M04     11.42\n",
       "4    1960M05     11.42"
      ]
     },
     "execution_count": 4,
     "metadata": {},
     "output_type": "execute_result"
    }
   ],
   "source": [
    "# Iron Ore Prices Historical Data\n",
    "\n",
    "\"\"\"\n",
    "# source: Australia \n",
    "df = pd.read_excel('..\\data\\commodities-workbook.xlsx',\n",
    "                   sheet_name = 'Iron Ore',\n",
    "                 index_col = 0,\n",
    "                   header=10\n",
    "                 )\n",
    "\"\"\"\n",
    "df = pd.read_excel('..\\data\\CMO-Historical-Data-Monthly.xlsx',\n",
    "                   sheet_name = 'Monthly Prices',\n",
    "                #index_col = 0,\n",
    "                   header=6,\n",
    "                   usecols = 'A,BL'\n",
    "                 )\n",
    "print(df.info())\n",
    "df.head()"
   ]
  },
  {
   "cell_type": "code",
   "execution_count": 5,
   "metadata": {},
   "outputs": [
    {
     "data": {
      "text/html": [
       "<div>\n",
       "<style scoped>\n",
       "    .dataframe tbody tr th:only-of-type {\n",
       "        vertical-align: middle;\n",
       "    }\n",
       "\n",
       "    .dataframe tbody tr th {\n",
       "        vertical-align: top;\n",
       "    }\n",
       "\n",
       "    .dataframe thead th {\n",
       "        text-align: right;\n",
       "    }\n",
       "</style>\n",
       "<table border=\"1\" class=\"dataframe\">\n",
       "  <thead>\n",
       "    <tr style=\"text-align: right;\">\n",
       "      <th></th>\n",
       "      <th>Price</th>\n",
       "    </tr>\n",
       "    <tr>\n",
       "      <th>Data</th>\n",
       "      <th></th>\n",
       "    </tr>\n",
       "  </thead>\n",
       "  <tbody>\n",
       "    <tr>\n",
       "      <th>1960-01-31</th>\n",
       "      <td>11.42</td>\n",
       "    </tr>\n",
       "    <tr>\n",
       "      <th>1960-02-29</th>\n",
       "      <td>11.42</td>\n",
       "    </tr>\n",
       "    <tr>\n",
       "      <th>1960-03-31</th>\n",
       "      <td>11.42</td>\n",
       "    </tr>\n",
       "    <tr>\n",
       "      <th>1960-04-30</th>\n",
       "      <td>11.42</td>\n",
       "    </tr>\n",
       "    <tr>\n",
       "      <th>1960-05-31</th>\n",
       "      <td>11.42</td>\n",
       "    </tr>\n",
       "  </tbody>\n",
       "</table>\n",
       "</div>"
      ],
      "text/plain": [
       "            Price\n",
       "Data             \n",
       "1960-01-31  11.42\n",
       "1960-02-29  11.42\n",
       "1960-03-31  11.42\n",
       "1960-04-30  11.42\n",
       "1960-05-31  11.42"
      ]
     },
     "execution_count": 5,
     "metadata": {},
     "output_type": "execute_result"
    }
   ],
   "source": [
    "# Some adjustings to timestamp format and column names\n",
    "\n",
    "new_columns_names = ['Data', 'Price']\n",
    "df.columns = new_columns_names\n",
    "\n",
    "df['Data'] = pd.to_datetime(df['Data'].str.replace('M','-'), format='%Y-%m') \\\n",
    "+ pd.offsets.MonthEnd() # to calendar end of the month\n",
    "\n",
    "df.set_index('Data', inplace=True)\n",
    "\n",
    "df.head()"
   ]
  },
  {
   "cell_type": "markdown",
   "metadata": {},
   "source": [
    "### 2.3 Additional data\n",
    "\n",
    "Data for some possible exogenous variables:  \n",
    "- Steel Scrap Prices  \n",
    "- Steel Prices  \n",
    "- GDP  \n",
    "- Future Prices for Iron Ore"
   ]
  },
  {
   "cell_type": "code",
   "execution_count": 6,
   "metadata": {},
   "outputs": [
    {
     "name": "stdout",
     "output_type": "stream",
     "text": [
      "<class 'pandas.core.frame.DataFrame'>\n",
      "DatetimeIndex: 1438 entries, 2015-11-23 to 2021-07-30\n",
      "Data columns (total 15 columns):\n",
      " #   Column  Non-Null Count  Dtype  \n",
      "---  ------  --------------  -----  \n",
      " 0   M1      1438 non-null   float64\n",
      " 1   M2      1438 non-null   float64\n",
      " 2   M3      1438 non-null   float64\n",
      " 3   M4      1438 non-null   float64\n",
      " 4   M5      1438 non-null   float64\n",
      " 5   M6      1438 non-null   float64\n",
      " 6   M7      1438 non-null   float64\n",
      " 7   M8      1438 non-null   float64\n",
      " 8   M9      1438 non-null   float64\n",
      " 9   M10     1438 non-null   float64\n",
      " 10  M11     1438 non-null   float64\n",
      " 11  M12     1438 non-null   float64\n",
      " 12  M13     1438 non-null   float64\n",
      " 13  M14     1438 non-null   float64\n",
      " 14  M15     1438 non-null   float64\n",
      "dtypes: float64(15)\n",
      "memory usage: 179.8 KB\n",
      "None\n"
     ]
    },
    {
     "data": {
      "text/html": [
       "<div>\n",
       "<style scoped>\n",
       "    .dataframe tbody tr th:only-of-type {\n",
       "        vertical-align: middle;\n",
       "    }\n",
       "\n",
       "    .dataframe tbody tr th {\n",
       "        vertical-align: top;\n",
       "    }\n",
       "\n",
       "    .dataframe thead th {\n",
       "        text-align: right;\n",
       "    }\n",
       "</style>\n",
       "<table border=\"1\" class=\"dataframe\">\n",
       "  <thead>\n",
       "    <tr style=\"text-align: right;\">\n",
       "      <th></th>\n",
       "      <th>M1</th>\n",
       "      <th>M2</th>\n",
       "      <th>M3</th>\n",
       "      <th>M4</th>\n",
       "      <th>M5</th>\n",
       "      <th>M6</th>\n",
       "      <th>M7</th>\n",
       "      <th>M8</th>\n",
       "      <th>M9</th>\n",
       "      <th>M10</th>\n",
       "      <th>M11</th>\n",
       "      <th>M12</th>\n",
       "      <th>M13</th>\n",
       "      <th>M14</th>\n",
       "      <th>M15</th>\n",
       "    </tr>\n",
       "    <tr>\n",
       "      <th>USD/mt</th>\n",
       "      <th></th>\n",
       "      <th></th>\n",
       "      <th></th>\n",
       "      <th></th>\n",
       "      <th></th>\n",
       "      <th></th>\n",
       "      <th></th>\n",
       "      <th></th>\n",
       "      <th></th>\n",
       "      <th></th>\n",
       "      <th></th>\n",
       "      <th></th>\n",
       "      <th></th>\n",
       "      <th></th>\n",
       "      <th></th>\n",
       "    </tr>\n",
       "  </thead>\n",
       "  <tbody>\n",
       "    <tr>\n",
       "      <th>2015-11-23</th>\n",
       "      <td>195.0</td>\n",
       "      <td>195.0</td>\n",
       "      <td>195.0</td>\n",
       "      <td>195.0</td>\n",
       "      <td>195.0</td>\n",
       "      <td>195.0</td>\n",
       "      <td>195.0</td>\n",
       "      <td>195.0</td>\n",
       "      <td>195.0</td>\n",
       "      <td>195.0</td>\n",
       "      <td>195.0</td>\n",
       "      <td>195.0</td>\n",
       "      <td>195.0</td>\n",
       "      <td>195.0</td>\n",
       "      <td>195.0</td>\n",
       "    </tr>\n",
       "    <tr>\n",
       "      <th>2015-11-24</th>\n",
       "      <td>195.0</td>\n",
       "      <td>195.0</td>\n",
       "      <td>195.0</td>\n",
       "      <td>195.0</td>\n",
       "      <td>195.0</td>\n",
       "      <td>195.0</td>\n",
       "      <td>195.0</td>\n",
       "      <td>195.0</td>\n",
       "      <td>195.0</td>\n",
       "      <td>195.0</td>\n",
       "      <td>195.0</td>\n",
       "      <td>195.0</td>\n",
       "      <td>195.0</td>\n",
       "      <td>195.0</td>\n",
       "      <td>195.0</td>\n",
       "    </tr>\n",
       "    <tr>\n",
       "      <th>2015-11-25</th>\n",
       "      <td>195.0</td>\n",
       "      <td>193.0</td>\n",
       "      <td>193.0</td>\n",
       "      <td>193.0</td>\n",
       "      <td>193.0</td>\n",
       "      <td>193.0</td>\n",
       "      <td>193.0</td>\n",
       "      <td>193.0</td>\n",
       "      <td>193.0</td>\n",
       "      <td>193.0</td>\n",
       "      <td>193.0</td>\n",
       "      <td>193.0</td>\n",
       "      <td>193.0</td>\n",
       "      <td>193.0</td>\n",
       "      <td>193.0</td>\n",
       "    </tr>\n",
       "    <tr>\n",
       "      <th>2015-11-26</th>\n",
       "      <td>192.0</td>\n",
       "      <td>193.0</td>\n",
       "      <td>193.0</td>\n",
       "      <td>193.0</td>\n",
       "      <td>193.0</td>\n",
       "      <td>193.0</td>\n",
       "      <td>193.0</td>\n",
       "      <td>193.0</td>\n",
       "      <td>193.0</td>\n",
       "      <td>193.0</td>\n",
       "      <td>193.0</td>\n",
       "      <td>193.0</td>\n",
       "      <td>193.0</td>\n",
       "      <td>193.0</td>\n",
       "      <td>193.0</td>\n",
       "    </tr>\n",
       "    <tr>\n",
       "      <th>2015-11-27</th>\n",
       "      <td>192.0</td>\n",
       "      <td>193.0</td>\n",
       "      <td>193.0</td>\n",
       "      <td>193.0</td>\n",
       "      <td>193.0</td>\n",
       "      <td>193.0</td>\n",
       "      <td>193.0</td>\n",
       "      <td>193.0</td>\n",
       "      <td>193.0</td>\n",
       "      <td>193.0</td>\n",
       "      <td>193.0</td>\n",
       "      <td>193.0</td>\n",
       "      <td>193.0</td>\n",
       "      <td>193.0</td>\n",
       "      <td>193.0</td>\n",
       "    </tr>\n",
       "  </tbody>\n",
       "</table>\n",
       "</div>"
      ],
      "text/plain": [
       "               M1     M2     M3     M4     M5     M6     M7     M8     M9  \\\n",
       "USD/mt                                                                      \n",
       "2015-11-23  195.0  195.0  195.0  195.0  195.0  195.0  195.0  195.0  195.0   \n",
       "2015-11-24  195.0  195.0  195.0  195.0  195.0  195.0  195.0  195.0  195.0   \n",
       "2015-11-25  195.0  193.0  193.0  193.0  193.0  193.0  193.0  193.0  193.0   \n",
       "2015-11-26  192.0  193.0  193.0  193.0  193.0  193.0  193.0  193.0  193.0   \n",
       "2015-11-27  192.0  193.0  193.0  193.0  193.0  193.0  193.0  193.0  193.0   \n",
       "\n",
       "              M10    M11    M12    M13    M14    M15  \n",
       "USD/mt                                                \n",
       "2015-11-23  195.0  195.0  195.0  195.0  195.0  195.0  \n",
       "2015-11-24  195.0  195.0  195.0  195.0  195.0  195.0  \n",
       "2015-11-25  193.0  193.0  193.0  193.0  193.0  193.0  \n",
       "2015-11-26  193.0  193.0  193.0  193.0  193.0  193.0  \n",
       "2015-11-27  193.0  193.0  193.0  193.0  193.0  193.0  "
      ]
     },
     "execution_count": 6,
     "metadata": {},
     "output_type": "execute_result"
    }
   ],
   "source": [
    "# Steel Scrap Prices Historical Data\n",
    "df_scrap = pd.read_excel('..\\data\\SC Closing Prices.xlsx', \n",
    "                   index_col = 0,\n",
    "                        )\n",
    "print(df_scrap.info())\n",
    "df_scrap.head()"
   ]
  },
  {
   "cell_type": "code",
   "execution_count": 8,
   "metadata": {},
   "outputs": [
    {
     "name": "stdout",
     "output_type": "stream",
     "text": [
      "<class 'pandas.core.frame.DataFrame'>\n",
      "RangeIndex: 156 entries, 0 to 155\n",
      "Data columns (total 7 columns):\n",
      " #   Column    Non-Null Count  Dtype \n",
      "---  ------    --------------  ----- \n",
      " 0   Data      156 non-null    object\n",
      " 1   Último    156 non-null    object\n",
      " 2   Abertura  156 non-null    object\n",
      " 3   Máxima    156 non-null    object\n",
      " 4   Mínima    156 non-null    object\n",
      " 5   Vol.      156 non-null    object\n",
      " 6   Var%      156 non-null    object\n",
      "dtypes: object(7)\n",
      "memory usage: 8.7+ KB\n",
      "None\n"
     ]
    },
    {
     "data": {
      "text/html": [
       "<div>\n",
       "<style scoped>\n",
       "    .dataframe tbody tr th:only-of-type {\n",
       "        vertical-align: middle;\n",
       "    }\n",
       "\n",
       "    .dataframe tbody tr th {\n",
       "        vertical-align: top;\n",
       "    }\n",
       "\n",
       "    .dataframe thead th {\n",
       "        text-align: right;\n",
       "    }\n",
       "</style>\n",
       "<table border=\"1\" class=\"dataframe\">\n",
       "  <thead>\n",
       "    <tr style=\"text-align: right;\">\n",
       "      <th></th>\n",
       "      <th>Data</th>\n",
       "      <th>Último</th>\n",
       "      <th>Abertura</th>\n",
       "      <th>Máxima</th>\n",
       "      <th>Mínima</th>\n",
       "      <th>Vol.</th>\n",
       "      <th>Var%</th>\n",
       "    </tr>\n",
       "  </thead>\n",
       "  <tbody>\n",
       "    <tr>\n",
       "      <th>0</th>\n",
       "      <td>Out 21</td>\n",
       "      <td>1.882,00</td>\n",
       "      <td>1.911,00</td>\n",
       "      <td>1.930,00</td>\n",
       "      <td>1.878,00</td>\n",
       "      <td>0,30K</td>\n",
       "      <td>-0,95%</td>\n",
       "    </tr>\n",
       "    <tr>\n",
       "      <th>1</th>\n",
       "      <td>Set 21</td>\n",
       "      <td>1.900,00</td>\n",
       "      <td>1.945,00</td>\n",
       "      <td>1.945,00</td>\n",
       "      <td>1.895,00</td>\n",
       "      <td>0,96K</td>\n",
       "      <td>-2,31%</td>\n",
       "    </tr>\n",
       "    <tr>\n",
       "      <th>2</th>\n",
       "      <td>Ago 21</td>\n",
       "      <td>1.945,00</td>\n",
       "      <td>1.888,00</td>\n",
       "      <td>1.945,00</td>\n",
       "      <td>1.829,00</td>\n",
       "      <td>0,46K</td>\n",
       "      <td>3,02%</td>\n",
       "    </tr>\n",
       "    <tr>\n",
       "      <th>3</th>\n",
       "      <td>Jul 21</td>\n",
       "      <td>1.888,00</td>\n",
       "      <td>1.789,00</td>\n",
       "      <td>1.900,00</td>\n",
       "      <td>1.775,00</td>\n",
       "      <td>2,01K</td>\n",
       "      <td>4,31%</td>\n",
       "    </tr>\n",
       "    <tr>\n",
       "      <th>4</th>\n",
       "      <td>Jun 21</td>\n",
       "      <td>1.810,00</td>\n",
       "      <td>1.665,00</td>\n",
       "      <td>1.815,00</td>\n",
       "      <td>1.630,00</td>\n",
       "      <td>0,96K</td>\n",
       "      <td>8,71%</td>\n",
       "    </tr>\n",
       "  </tbody>\n",
       "</table>\n",
       "</div>"
      ],
      "text/plain": [
       "     Data    Último  Abertura    Máxima    Mínima   Vol.    Var%\n",
       "0  Out 21  1.882,00  1.911,00  1.930,00  1.878,00  0,30K  -0,95%\n",
       "1  Set 21  1.900,00  1.945,00  1.945,00  1.895,00  0,96K  -2,31%\n",
       "2  Ago 21  1.945,00  1.888,00  1.945,00  1.829,00  0,46K   3,02%\n",
       "3  Jul 21  1.888,00  1.789,00  1.900,00  1.775,00  2,01K   4,31%\n",
       "4  Jun 21  1.810,00  1.665,00  1.815,00  1.630,00  0,96K   8,71%"
      ]
     },
     "execution_count": 8,
     "metadata": {},
     "output_type": "execute_result"
    }
   ],
   "source": [
    "# Steel Prices Historical Data\n",
    "df_steel = pd.read_csv('..\\data\\Bobina de aço EUA Futuros Dados Históricos.csv',\n",
    "                      decimal = ',')\n",
    "print(df_steel.info())\n",
    "df_steel.head()"
   ]
  },
  {
   "cell_type": "code",
   "execution_count": 9,
   "metadata": {},
   "outputs": [
    {
     "name": "stdout",
     "output_type": "stream",
     "text": [
      "<class 'pandas.core.frame.DataFrame'>\n",
      "DatetimeIndex: 42 entries, 2011-01-01 to 2021-04-01\n",
      "Data columns (total 7 columns):\n",
      " #   Column      Non-Null Count  Dtype  \n",
      "---  ------      --------------  -----  \n",
      " 0   LOCATION    42 non-null     object \n",
      " 1   INDICATOR   42 non-null     object \n",
      " 2   SUBJECT     42 non-null     object \n",
      " 3   MEASURE     42 non-null     object \n",
      " 4   FREQUENCY   42 non-null     object \n",
      " 5   Value       42 non-null     float64\n",
      " 6   Flag Codes  0 non-null      object \n",
      "dtypes: float64(1), object(6)\n",
      "memory usage: 2.6+ KB\n",
      "None\n"
     ]
    },
    {
     "data": {
      "text/html": [
       "<div>\n",
       "<style scoped>\n",
       "    .dataframe tbody tr th:only-of-type {\n",
       "        vertical-align: middle;\n",
       "    }\n",
       "\n",
       "    .dataframe tbody tr th {\n",
       "        vertical-align: top;\n",
       "    }\n",
       "\n",
       "    .dataframe thead th {\n",
       "        text-align: right;\n",
       "    }\n",
       "</style>\n",
       "<table border=\"1\" class=\"dataframe\">\n",
       "  <thead>\n",
       "    <tr style=\"text-align: right;\">\n",
       "      <th></th>\n",
       "      <th>LOCATION</th>\n",
       "      <th>INDICATOR</th>\n",
       "      <th>SUBJECT</th>\n",
       "      <th>MEASURE</th>\n",
       "      <th>FREQUENCY</th>\n",
       "      <th>China_gdp_pc</th>\n",
       "      <th>Flag Codes</th>\n",
       "    </tr>\n",
       "    <tr>\n",
       "      <th>TIME</th>\n",
       "      <th></th>\n",
       "      <th></th>\n",
       "      <th></th>\n",
       "      <th></th>\n",
       "      <th></th>\n",
       "      <th></th>\n",
       "      <th></th>\n",
       "    </tr>\n",
       "  </thead>\n",
       "  <tbody>\n",
       "    <tr>\n",
       "      <th>2011-01-01</th>\n",
       "      <td>CHN</td>\n",
       "      <td>QGDP</td>\n",
       "      <td>TOT</td>\n",
       "      <td>PC_CHGPP</td>\n",
       "      <td>Q</td>\n",
       "      <td>2.5</td>\n",
       "      <td>NaN</td>\n",
       "    </tr>\n",
       "    <tr>\n",
       "      <th>2011-04-01</th>\n",
       "      <td>CHN</td>\n",
       "      <td>QGDP</td>\n",
       "      <td>TOT</td>\n",
       "      <td>PC_CHGPP</td>\n",
       "      <td>Q</td>\n",
       "      <td>2.3</td>\n",
       "      <td>NaN</td>\n",
       "    </tr>\n",
       "    <tr>\n",
       "      <th>2011-07-01</th>\n",
       "      <td>CHN</td>\n",
       "      <td>QGDP</td>\n",
       "      <td>TOT</td>\n",
       "      <td>PC_CHGPP</td>\n",
       "      <td>Q</td>\n",
       "      <td>1.9</td>\n",
       "      <td>NaN</td>\n",
       "    </tr>\n",
       "    <tr>\n",
       "      <th>2011-10-01</th>\n",
       "      <td>CHN</td>\n",
       "      <td>QGDP</td>\n",
       "      <td>TOT</td>\n",
       "      <td>PC_CHGPP</td>\n",
       "      <td>Q</td>\n",
       "      <td>1.5</td>\n",
       "      <td>NaN</td>\n",
       "    </tr>\n",
       "    <tr>\n",
       "      <th>2012-01-01</th>\n",
       "      <td>CHN</td>\n",
       "      <td>QGDP</td>\n",
       "      <td>TOT</td>\n",
       "      <td>PC_CHGPP</td>\n",
       "      <td>Q</td>\n",
       "      <td>1.9</td>\n",
       "      <td>NaN</td>\n",
       "    </tr>\n",
       "  </tbody>\n",
       "</table>\n",
       "</div>"
      ],
      "text/plain": [
       "           LOCATION INDICATOR SUBJECT   MEASURE FREQUENCY  China_gdp_pc  \\\n",
       "TIME                                                                      \n",
       "2011-01-01      CHN      QGDP     TOT  PC_CHGPP         Q           2.5   \n",
       "2011-04-01      CHN      QGDP     TOT  PC_CHGPP         Q           2.3   \n",
       "2011-07-01      CHN      QGDP     TOT  PC_CHGPP         Q           1.9   \n",
       "2011-10-01      CHN      QGDP     TOT  PC_CHGPP         Q           1.5   \n",
       "2012-01-01      CHN      QGDP     TOT  PC_CHGPP         Q           1.9   \n",
       "\n",
       "           Flag Codes  \n",
       "TIME                   \n",
       "2011-01-01        NaN  \n",
       "2011-04-01        NaN  \n",
       "2011-07-01        NaN  \n",
       "2011-10-01        NaN  \n",
       "2012-01-01        NaN  "
      ]
     },
     "execution_count": 9,
     "metadata": {},
     "output_type": "execute_result"
    }
   ],
   "source": [
    "# China GDP Growth\n",
    "df_gdp = pd.read_csv('..\\data\\quarterly-gdp-oecd.csv',\n",
    "                    parse_dates = ['TIME'])\n",
    "df_chn_gdp = df_gdp[(df_gdp['LOCATION'] == 'CHN') & (df_gdp['FREQUENCY'] == 'Q') & (df_gdp['MEASURE'] == 'PC_CHGPP')]\\\n",
    ".set_index('TIME')\n",
    "print(df_chn_gdp.info())\n",
    "df_chn_gdp.rename(columns = {'Value':'China_gdp_pc'}, inplace=True)\n",
    "df_chn_gdp.head()"
   ]
  },
  {
   "cell_type": "markdown",
   "metadata": {},
   "source": [
    "### 2.4 Data Preparation"
   ]
  },
  {
   "cell_type": "markdown",
   "metadata": {},
   "source": [
    "Merging all the series in one single dataset"
   ]
  },
  {
   "cell_type": "code",
   "execution_count": 10,
   "metadata": {},
   "outputs": [
    {
     "data": {
      "text/plain": [
       "USD/mt\n",
       "2015-11-30    195.52\n",
       "2015-12-31    188.95\n",
       "2016-01-31    185.75\n",
       "2016-02-29    177.05\n",
       "2016-03-31    216.19\n",
       "Freq: M, Name: scrap_M1, dtype: float64"
      ]
     },
     "execution_count": 10,
     "metadata": {},
     "output_type": "execute_result"
    }
   ],
   "source": [
    "# Preparing Scrap data\n",
    "scrap_col_names = []\n",
    "for col in df_scrap.columns:\n",
    "    scrap_col_names.append('scrap_'+col)\n",
    "df_scrap.columns = scrap_col_names\n",
    "\n",
    "scrap_price = df_scrap['scrap_M1'].resample('M').last() \n",
    "\n",
    "scrap_price.head()"
   ]
  },
  {
   "cell_type": "code",
   "execution_count": 12,
   "metadata": {},
   "outputs": [
    {
     "data": {
      "text/plain": [
       "Data\n",
       "2008-11-30    595.0\n",
       "2008-12-31    525.0\n",
       "2009-01-31    515.0\n",
       "2009-02-28    495.0\n",
       "2009-03-31    450.0\n",
       "Freq: M, Name: steel_price, dtype: float64"
      ]
     },
     "execution_count": 12,
     "metadata": {},
     "output_type": "execute_result"
    }
   ],
   "source": [
    "# Preparing Steel data \n",
    "# preparing data column\n",
    "month_portuguese_to_number = {'Jan':1, 'Fev':2, 'Mar':3, 'Abr':4, 'Mai':5, 'Jun':6, 'Jul':7,\n",
    "                              'Ago':8, 'Set':9, 'Out':10, 'Nov':11, 'Dez':12}\n",
    "\n",
    "df_steel['Month'] = df_steel['Data'].str.split(' ', expand=True)[0].apply(lambda x: month_portuguese_to_number[x])\n",
    "df_steel['Year'] = str('20') + df_steel['Data'].str.split(' ', expand=True)[1]\n",
    "df_steel['Year'] = df_steel['Year'].astype(int)\n",
    "df_steel['Day'] = int(1)\n",
    "\n",
    "df_steel['Data'] = pd.to_datetime(df_steel[['Year','Month','Day']], format='%Y-%M-%d') \\\n",
    "+ pd.offsets.MonthEnd() # to calendar end of the month\n",
    "\n",
    "#preparin price column\n",
    "df_steel.rename(columns = {'Último':'steel_price'}, inplace=True)\n",
    "df_steel['steel_price'] = df_steel['steel_price'].str.replace('.','').str.replace(',','.')\n",
    "df_steel['steel_price'] = df_steel['steel_price'].astype(float)\n",
    "\n",
    "steel_price = df_steel.set_index('Data')['steel_price'].resample('M').last() \n",
    "\n",
    "steel_price.head()"
   ]
  },
  {
   "cell_type": "code",
   "execution_count": 13,
   "metadata": {},
   "outputs": [
    {
     "name": "stderr",
     "output_type": "stream",
     "text": [
      "C:\\Users\\Rejane\\Anaconda3\\lib\\site-packages\\ipykernel_launcher.py:3: RuntimeWarning: invalid value encountered in double_scalars\n",
      "  This is separate from the ipykernel package so we can avoid doing imports until\n"
     ]
    },
    {
     "data": {
      "text/plain": [
       "TIME\n",
       "2011-01-31    1.357209\n",
       "2011-02-28    1.357209\n",
       "2011-03-31    1.357209\n",
       "2011-04-30    1.320006\n",
       "2011-05-31    1.320006\n",
       "Freq: M, Name: China_gdp_pc, dtype: float64"
      ]
     },
     "execution_count": 13,
     "metadata": {},
     "output_type": "execute_result"
    }
   ],
   "source": [
    "# Preparing GPD monthly growth (roughly aproximation)\n",
    "def quarter_to_month_resampler(arraylike):\n",
    "    return np.sum(arraylike)**(1. / 3)\n",
    "\n",
    "china_gdp_pc = df_chn_gdp['China_gdp_pc'].resample('M').apply(quarter_to_month_resampler).replace(float(0),None).pad()\n",
    "\n",
    "china_gdp_pc.head()"
   ]
  },
  {
   "cell_type": "code",
   "execution_count": 54,
   "metadata": {},
   "outputs": [
    {
     "data": {
      "text/html": [
       "<div>\n",
       "<style scoped>\n",
       "    .dataframe tbody tr th:only-of-type {\n",
       "        vertical-align: middle;\n",
       "    }\n",
       "\n",
       "    .dataframe tbody tr th {\n",
       "        vertical-align: top;\n",
       "    }\n",
       "\n",
       "    .dataframe thead th {\n",
       "        text-align: right;\n",
       "    }\n",
       "</style>\n",
       "<table border=\"1\" class=\"dataframe\">\n",
       "  <thead>\n",
       "    <tr style=\"text-align: right;\">\n",
       "      <th></th>\n",
       "      <th>Price</th>\n",
       "      <th>scrap_M1</th>\n",
       "      <th>steel_price</th>\n",
       "      <th>China_gdp_pc</th>\n",
       "    </tr>\n",
       "    <tr>\n",
       "      <th>Data</th>\n",
       "      <th></th>\n",
       "      <th></th>\n",
       "      <th></th>\n",
       "      <th></th>\n",
       "    </tr>\n",
       "  </thead>\n",
       "  <tbody>\n",
       "    <tr>\n",
       "      <th>2005-01-31</th>\n",
       "      <td>65.0</td>\n",
       "      <td>NaN</td>\n",
       "      <td>NaN</td>\n",
       "      <td>NaN</td>\n",
       "    </tr>\n",
       "    <tr>\n",
       "      <th>2005-02-28</th>\n",
       "      <td>65.0</td>\n",
       "      <td>NaN</td>\n",
       "      <td>NaN</td>\n",
       "      <td>NaN</td>\n",
       "    </tr>\n",
       "    <tr>\n",
       "      <th>2005-03-31</th>\n",
       "      <td>65.0</td>\n",
       "      <td>NaN</td>\n",
       "      <td>NaN</td>\n",
       "      <td>NaN</td>\n",
       "    </tr>\n",
       "    <tr>\n",
       "      <th>2005-04-30</th>\n",
       "      <td>65.0</td>\n",
       "      <td>NaN</td>\n",
       "      <td>NaN</td>\n",
       "      <td>NaN</td>\n",
       "    </tr>\n",
       "    <tr>\n",
       "      <th>2005-05-31</th>\n",
       "      <td>65.0</td>\n",
       "      <td>NaN</td>\n",
       "      <td>NaN</td>\n",
       "      <td>NaN</td>\n",
       "    </tr>\n",
       "  </tbody>\n",
       "</table>\n",
       "</div>"
      ],
      "text/plain": [
       "            Price  scrap_M1  steel_price  China_gdp_pc\n",
       "Data                                                  \n",
       "2005-01-31   65.0       NaN          NaN           NaN\n",
       "2005-02-28   65.0       NaN          NaN           NaN\n",
       "2005-03-31   65.0       NaN          NaN           NaN\n",
       "2005-04-30   65.0       NaN          NaN           NaN\n",
       "2005-05-31   65.0       NaN          NaN           NaN"
      ]
     },
     "execution_count": 54,
     "metadata": {},
     "output_type": "execute_result"
    }
   ],
   "source": [
    "# Preparing a dataset with endogenous and exogenous variables\n",
    "df_all = df.sort_index().copy()\n",
    "all_series = [scrap_price,steel_price,china_gdp_pc]\n",
    "for s in all_series:\n",
    "    df_all = df_all.join(s, how='left')\n",
    "df_all.head()"
   ]
  },
  {
   "cell_type": "code",
   "execution_count": 55,
   "metadata": {},
   "outputs": [
    {
     "data": {
      "text/html": [
       "<div>\n",
       "<style scoped>\n",
       "    .dataframe tbody tr th:only-of-type {\n",
       "        vertical-align: middle;\n",
       "    }\n",
       "\n",
       "    .dataframe tbody tr th {\n",
       "        vertical-align: top;\n",
       "    }\n",
       "\n",
       "    .dataframe thead th {\n",
       "        text-align: right;\n",
       "    }\n",
       "</style>\n",
       "<table border=\"1\" class=\"dataframe\">\n",
       "  <thead>\n",
       "    <tr style=\"text-align: right;\">\n",
       "      <th></th>\n",
       "      <th>Price</th>\n",
       "      <th>scrap_M1</th>\n",
       "      <th>steel_price</th>\n",
       "      <th>China_gdp_pc</th>\n",
       "    </tr>\n",
       "    <tr>\n",
       "      <th>Data</th>\n",
       "      <th></th>\n",
       "      <th></th>\n",
       "      <th></th>\n",
       "      <th></th>\n",
       "    </tr>\n",
       "  </thead>\n",
       "  <tbody>\n",
       "    <tr>\n",
       "      <th>2020-11-30</th>\n",
       "      <td>124.36</td>\n",
       "      <td>319.85</td>\n",
       "      <td>800.0</td>\n",
       "      <td>1.442250</td>\n",
       "    </tr>\n",
       "    <tr>\n",
       "      <th>2020-12-31</th>\n",
       "      <td>155.43</td>\n",
       "      <td>423.10</td>\n",
       "      <td>1005.0</td>\n",
       "      <td>1.442250</td>\n",
       "    </tr>\n",
       "    <tr>\n",
       "      <th>2021-01-31</th>\n",
       "      <td>169.63</td>\n",
       "      <td>453.26</td>\n",
       "      <td>1149.0</td>\n",
       "      <td>0.736806</td>\n",
       "    </tr>\n",
       "    <tr>\n",
       "      <th>2021-02-28</th>\n",
       "      <td>163.80</td>\n",
       "      <td>416.55</td>\n",
       "      <td>1264.0</td>\n",
       "      <td>0.736806</td>\n",
       "    </tr>\n",
       "    <tr>\n",
       "      <th>2021-03-31</th>\n",
       "      <td>168.18</td>\n",
       "      <td>436.33</td>\n",
       "      <td>1348.0</td>\n",
       "      <td>0.736806</td>\n",
       "    </tr>\n",
       "    <tr>\n",
       "      <th>2021-04-30</th>\n",
       "      <td>179.83</td>\n",
       "      <td>429.91</td>\n",
       "      <td>1505.0</td>\n",
       "      <td>1.091393</td>\n",
       "    </tr>\n",
       "    <tr>\n",
       "      <th>2021-05-31</th>\n",
       "      <td>207.72</td>\n",
       "      <td>499.82</td>\n",
       "      <td>1665.0</td>\n",
       "      <td>NaN</td>\n",
       "    </tr>\n",
       "    <tr>\n",
       "      <th>2021-06-30</th>\n",
       "      <td>214.43</td>\n",
       "      <td>500.55</td>\n",
       "      <td>1810.0</td>\n",
       "      <td>NaN</td>\n",
       "    </tr>\n",
       "    <tr>\n",
       "      <th>2021-07-31</th>\n",
       "      <td>214.14</td>\n",
       "      <td>484.84</td>\n",
       "      <td>1888.0</td>\n",
       "      <td>NaN</td>\n",
       "    </tr>\n",
       "    <tr>\n",
       "      <th>2021-08-31</th>\n",
       "      <td>162.16</td>\n",
       "      <td>NaN</td>\n",
       "      <td>1945.0</td>\n",
       "      <td>NaN</td>\n",
       "    </tr>\n",
       "  </tbody>\n",
       "</table>\n",
       "</div>"
      ],
      "text/plain": [
       "             Price  scrap_M1  steel_price  China_gdp_pc\n",
       "Data                                                   \n",
       "2020-11-30  124.36    319.85        800.0      1.442250\n",
       "2020-12-31  155.43    423.10       1005.0      1.442250\n",
       "2021-01-31  169.63    453.26       1149.0      0.736806\n",
       "2021-02-28  163.80    416.55       1264.0      0.736806\n",
       "2021-03-31  168.18    436.33       1348.0      0.736806\n",
       "2021-04-30  179.83    429.91       1505.0      1.091393\n",
       "2021-05-31  207.72    499.82       1665.0           NaN\n",
       "2021-06-30  214.43    500.55       1810.0           NaN\n",
       "2021-07-31  214.14    484.84       1888.0           NaN\n",
       "2021-08-31  162.16       NaN       1945.0           NaN"
      ]
     },
     "execution_count": 55,
     "metadata": {},
     "output_type": "execute_result"
    }
   ],
   "source": [
    "df_all.tail(10)"
   ]
  },
  {
   "cell_type": "markdown",
   "metadata": {},
   "source": [
    "## 3. Exploratory Data Analysis"
   ]
  },
  {
   "cell_type": "markdown",
   "metadata": {},
   "source": [
    "### 3.1 Overview of Historical Data"
   ]
  },
  {
   "cell_type": "code",
   "execution_count": 56,
   "metadata": {
    "scrolled": false
   },
   "outputs": [
    {
     "data": {
      "text/plain": [
       "<Figure size 1152x504 with 0 Axes>"
      ]
     },
     "metadata": {},
     "output_type": "display_data"
    },
    {
     "data": {
      "image/png": "[encoded data removed]",
      "text/plain": [
       "<Figure size 432x288 with 1 Axes>"
      ]
     },
     "metadata": {},
     "output_type": "display_data"
    }
   ],
   "source": [
    "plt.figure(figsize = (16,7))\n",
    "df_all[['Price','scrap_M1','steel_price']].plot()\n",
    "plt.show()"
   ]
  },
  {
   "cell_type": "markdown",
   "metadata": {},
   "source": [
    "### 3.2 Iron Ore Prices EDA"
   ]
  },
  {
   "cell_type": "markdown",
   "metadata": {},
   "source": [
    "As it is possible to infer from the above chart, there is minor variation on the iron ore prices before 2005. So, only the most recent data starting on 2005 will be investigated.  \n",
    "  \n",
    "Historical prices series are typical time series data. The iron ore prices will be investigated using time series approach. \n",
    "It can present trend and seasonality.\n",
    "\n",
    "When data have a trend, the autocorrelations for small lags tend to be large and positive because observations nearby in time are also nearby in size. So the ACF of trended time series tend to have positive values that slowly decrease as the lags increase. When data are seasonal, the autocorrelations will be larger for the seasonal lags (at multiples of the seasonal frequency) than for other lags (https://otexts.com/fpp2/autocorrelation.html)\n",
    "\n",
    "When data are both trended and seasonal, you see a combination of these effects. \n",
    "\n",
    "Let's take a look at:  \n",
    "- Auto Correlation plot\n",
    "- Lag plot"
   ]
  },
  {
   "cell_type": "code",
   "execution_count": 57,
   "metadata": {},
   "outputs": [
    {
     "data": {
      "image/png": "[encoded data removed]",
      "text/plain": [
       "<Figure size 432x288 with 1 Axes>"
      ]
     },
     "metadata": {},
     "output_type": "display_data"
    }
   ],
   "source": [
    "# Subset the original series to only most recent data (>2005)\n",
    "df = df[df.index>='2005'].copy()\n",
    "df['Price'].plot();"
   ]
  },
  {
   "cell_type": "code",
   "execution_count": 58,
   "metadata": {},
   "outputs": [
    {
     "name": "stdout",
     "output_type": "stream",
     "text": [
      "The iron ore prices over the period from 2005 to 2021 ranges from US$40.5 to US$214.43.\n"
     ]
    },
    {
     "data": {
      "text/plain": [
       "count    200.000000\n",
       "mean     104.976116\n",
       "std       43.516408\n",
       "min       40.500000\n",
       "25%       67.300000\n",
       "50%       91.937000\n",
       "75%      136.721250\n",
       "max      214.430000\n",
       "Name: Price, dtype: float64"
      ]
     },
     "execution_count": 58,
     "metadata": {},
     "output_type": "execute_result"
    }
   ],
   "source": [
    "print(\"The iron ore prices over the period from {0} to {1} ranges from US${2} to US${3}.\"\\\n",
    ".format(df.index.min().year,df.index.max().year,df['Price'].min(), df['Price'].max()))\n",
    "df['Price'].describe()"
   ]
  },
  {
   "cell_type": "markdown",
   "metadata": {},
   "source": [
    "There is a sharp decrease in prices around 2008-2009; this is due to financial crisis in 2008."
   ]
  },
  {
   "cell_type": "markdown",
   "metadata": {},
   "source": [
    "**Auto Correlation Plot - Comments:**  \n",
    "We can see from the chart below that there is a positive correlation with the first ~40 lags that is significant for the about first 12 lags.  \n",
    "The stronger correlations values (>0.5) are about 8 lags.  \n",
    "It is interesting to see that after 50 lags the autocorrelation turns to be significant again, but negative. Perhaps this could be due to a cyclic movement - a business cycle. The most negative correlation can be observed at 60 lags. It is not possible to see a clear seasonality effect."
   ]
  },
  {
   "cell_type": "code",
   "execution_count": 59,
   "metadata": {},
   "outputs": [
    {
     "data": {
      "image/png": "[encoded data removed]",
      "text/plain": [
       "<Figure size 432x288 with 1 Axes>"
      ]
     },
     "metadata": {},
     "output_type": "display_data"
    }
   ],
   "source": [
    "pd.plotting.autocorrelation_plot(df['Price']);"
   ]
  },
  {
   "cell_type": "markdown",
   "metadata": {},
   "source": [
    "**Lag Plot - Comments:**  \n",
    "A Lag plot is a scatter plot of a time series against a lag of itself. It is also used to check for autocorrelation. If there is any pattern existing in the series, the series is autocorrelated. If there is no such pattern, the series is likely to be random white noise.  \n",
    "As it can be seen in the chart below, there's a strong linear pattern between the iron ore price and its lag."
   ]
  },
  {
   "cell_type": "code",
   "execution_count": 60,
   "metadata": {},
   "outputs": [
    {
     "data": {
      "image/png": "[encoded data removed]",
      "text/plain": [
       "<Figure size 432x288 with 1 Axes>"
      ]
     },
     "metadata": {},
     "output_type": "display_data"
    }
   ],
   "source": [
    "pd.plotting.lag_plot(df['Price']);"
   ]
  },
  {
   "cell_type": "markdown",
   "metadata": {},
   "source": [
    "#### Testing for Stationarity  \n",
    "\"A stationary time series is one whose properties do not depend on the time at which the series is observed. Thus, time series with trends, or with seasonality, are not stationary — the trend and seasonality will affect the value of the time series at different times. On the other hand, a white noise series is stationary — it does not matter when you observe it, it should look much the same at any point in time.\"(https://otexts.com/fpp2/stationarity.html)\n",
    "\n",
    "Several tests can be performed to infer whether a series is stationary or not. The null hypothesis is that the data are stationary, and the test look for evidence that the null hypothesis is false. Consequently, small p-values (e.g., less than 0.05) suggest that differencing is required. The AdFuller test and the Kwiatkowski-Phillips-Schmidt-Shin (KPSS) test area examples of stationarity tests."
   ]
  },
  {
   "cell_type": "code",
   "execution_count": 21,
   "metadata": {},
   "outputs": [
    {
     "name": "stdout",
     "output_type": "stream",
     "text": [
      "ADF Test Statistic : -2.7863168879054623\n",
      "p-value : 0.06025504181421079\n",
      "Number of Lags Used : 1\n",
      "Number of Observations Used : 198\n",
      "Weak evidence against null hypothesis: it indicates that the series is non-stationary.\n"
     ]
    }
   ],
   "source": [
    "### Testing For Stationarity\n",
    "def adfuller_test(s):\n",
    "    \"\"\"\n",
    "    Input:\n",
    "    s: series to test for stationarity\n",
    "    \n",
    "    Description:\n",
    "    Stationary data means data which has no trend with respect to the time\n",
    "    Ho: It is non stationary\n",
    "    H1: It is stationary\n",
    "    \"\"\"\n",
    "    result= sm.tsa.stattools.adfuller(s)\n",
    "    labels = ['ADF Test Statistic','p-value','Number of Lags Used','Number of Observations Used']\n",
    "    for value,label in zip(result,labels):\n",
    "        print(label+' : '+str(value) )\n",
    "    if result[1] <= 0.05:\n",
    "        print(\"P value is less than 0.05: Reject the null hypothesis(Ho) for non stationary series.\")\n",
    "    else:\n",
    "        print(\"Weak evidence against null hypothesis: it indicates that the series is non-stationary.\")\n",
    "\n",
    "adfuller_test(df['Price'])"
   ]
  },
  {
   "cell_type": "code",
   "execution_count": 22,
   "metadata": {},
   "outputs": [
    {
     "name": "stdout",
     "output_type": "stream",
     "text": [
      "\n",
      "KPSS Statistic for level: 0.149973\n",
      "p-value: 0.100000\n",
      "\n",
      "KPSS Statistic for trend: 0.135966\n",
      "p-value: 0.068581\n"
     ]
    },
    {
     "name": "stderr",
     "output_type": "stream",
     "text": [
      "C:\\Users\\Rejane\\Anaconda3\\lib\\site-packages\\statsmodels\\tsa\\stattools.py:1875: FutureWarning: The behavior of using nlags=None will change in release 0.13.Currently nlags=None is the same as nlags=\"legacy\", and so a sample-size lag length is used. After the next release, the default will change to be the same as nlags=\"auto\" which uses an automatic lag length selection method. To silence this warning, either use \"auto\" or \"legacy\"\n",
      "  warnings.warn(msg, FutureWarning)\n",
      "C:\\Users\\Rejane\\Anaconda3\\lib\\site-packages\\statsmodels\\tsa\\stattools.py:1911: InterpolationWarning: The test statistic is outside of the range of p-values available in the\n",
      "look-up table. The actual p-value is greater than the p-value returned.\n",
      "\n",
      "  warn_msg.format(direction=\"greater\"), InterpolationWarning\n"
     ]
    }
   ],
   "source": [
    "# Test for trend and seasonality\n",
    "# KPSS Test\n",
    "def kpss_test(series):\n",
    "    \"\"\"\n",
    "    Input: series to test for stationarity\n",
    "    \n",
    "    Description: the Kwiatkowski-Phillips-Schmidt-Shin (KPSS) test for the null hypothesis that the series is level or trend stationary.\n",
    "    \"\"\"\n",
    "result = sm.tsa.stattools.kpss(df['Price'], regression='c')\n",
    "print('\\nKPSS Statistic for level: %f' % result[0])\n",
    "print('p-value: %f' % result[1])\n",
    "#for key, value in result[3].items():\n",
    "#    print('Critical Values:')\n",
    "#    print(f'   {key}, {value}')\n",
    "result = sm.tsa.stattools.kpss(df['Price'], regression='ct')\n",
    "print('\\nKPSS Statistic for trend: %f' % result[0])\n",
    "print('p-value: %f' % result[1])\n",
    "#for key, value in result[3].items():\n",
    "#    print('Critical Values:')\n",
    "#    print(f'   {key}, {value}')"
   ]
  },
  {
   "cell_type": "markdown",
   "metadata": {},
   "source": [
    "### 3.3 Exogenous Variables EDA"
   ]
  },
  {
   "cell_type": "markdown",
   "metadata": {},
   "source": [
    "Ref: https://www.statsmodels.org/stable/generated/statsmodels.tsa.stattools.grangercausalitytests.html  \n",
    "\"The Null hypothesis for grangercausalitytests is that the time series in the second column, x2, does NOT Granger cause the time series in the first column, x1. Grange causality means that past values of x2 have a statistically significant effect on the current value of x1, taking past values of x1 into account as regressors. We reject the null hypothesis that x2 does not Granger cause x1 if the pvalues are below a desired size of the test.\n",
    "\n",
    "The null hypothesis for all four test is that the coefficients corresponding to past values of the second time series are zero.\n",
    "So the Null hypothesis is: the series in the second column, does not Granger cause the series in the first. If the P-Values are less than a significance level (0.05) then you reject the null hypothesis and conclude that the said lag of X is indeed useful.\""
   ]
  },
  {
   "cell_type": "code",
   "execution_count": 61,
   "metadata": {},
   "outputs": [],
   "source": [
    "exogenous = df_all[['scrap_M1','steel_price','China_gdp_pc']]"
   ]
  },
  {
   "cell_type": "code",
   "execution_count": 62,
   "metadata": {},
   "outputs": [
    {
     "name": "stdout",
     "output_type": "stream",
     "text": [
      "scrap_M1\n",
      "\n",
      "Granger Causality\n",
      "number of lags (no zero) 1\n",
      "ssr based F test:         F=0.6967  , p=0.4070  , df_denom=65, df_num=1\n",
      "ssr based chi2 test:   chi2=0.7289  , p=0.3933  , df=1\n",
      "likelihood ratio test: chi2=0.7250  , p=0.3945  , df=1\n",
      "parameter F test:         F=0.6967  , p=0.4070  , df_denom=65, df_num=1\n",
      "\n",
      "Granger Causality\n",
      "number of lags (no zero) 2\n",
      "ssr based F test:         F=0.5826  , p=0.5614  , df_denom=62, df_num=2\n",
      "ssr based chi2 test:   chi2=1.2593  , p=0.5328  , df=2\n",
      "likelihood ratio test: chi2=1.2476  , p=0.5359  , df=2\n",
      "parameter F test:         F=0.5826  , p=0.5614  , df_denom=62, df_num=2\n",
      "\n",
      "Granger Causality\n",
      "number of lags (no zero) 3\n",
      "ssr based F test:         F=0.1288  , p=0.9426  , df_denom=59, df_num=3\n",
      "ssr based chi2 test:   chi2=0.4323  , p=0.9335  , df=3\n",
      "likelihood ratio test: chi2=0.4309  , p=0.9338  , df=3\n",
      "parameter F test:         F=0.1288  , p=0.9426  , df_denom=59, df_num=3\n",
      "\n",
      "Granger Causality\n",
      "number of lags (no zero) 4\n",
      "ssr based F test:         F=0.0836  , p=0.9871  , df_denom=56, df_num=4\n",
      "ssr based chi2 test:   chi2=0.3882  , p=0.9834  , df=4\n",
      "likelihood ratio test: chi2=0.3870  , p=0.9835  , df=4\n",
      "parameter F test:         F=0.0836  , p=0.9871  , df_denom=56, df_num=4\n",
      "\n",
      "Granger Causality\n",
      "number of lags (no zero) 5\n",
      "ssr based F test:         F=0.1636  , p=0.9748  , df_denom=53, df_num=5\n",
      "ssr based chi2 test:   chi2=0.9877  , p=0.9636  , df=5\n",
      "likelihood ratio test: chi2=0.9801  , p=0.9642  , df=5\n",
      "parameter F test:         F=0.1636  , p=0.9748  , df_denom=53, df_num=5\n",
      "\n",
      "Granger Causality\n",
      "number of lags (no zero) 6\n",
      "ssr based F test:         F=0.0958  , p=0.9965  , df_denom=50, df_num=6\n",
      "ssr based chi2 test:   chi2=0.7240  , p=0.9940  , df=6\n",
      "likelihood ratio test: chi2=0.7199  , p=0.9941  , df=6\n",
      "parameter F test:         F=0.0958  , p=0.9965  , df_denom=50, df_num=6\n",
      "\n",
      "steel_price\n",
      "\n",
      "Granger Causality\n",
      "number of lags (no zero) 1\n",
      "ssr based F test:         F=0.1758  , p=0.6756  , df_denom=150, df_num=1\n",
      "ssr based chi2 test:   chi2=0.1794  , p=0.6719  , df=1\n",
      "likelihood ratio test: chi2=0.1793  , p=0.6720  , df=1\n",
      "parameter F test:         F=0.1758  , p=0.6756  , df_denom=150, df_num=1\n",
      "\n",
      "Granger Causality\n",
      "number of lags (no zero) 2\n",
      "ssr based F test:         F=2.4004  , p=0.0942  , df_denom=147, df_num=2\n",
      "ssr based chi2 test:   chi2=4.9642  , p=0.0836  , df=2\n",
      "likelihood ratio test: chi2=4.8849  , p=0.0869  , df=2\n",
      "parameter F test:         F=2.4004  , p=0.0942  , df_denom=147, df_num=2\n",
      "\n",
      "Granger Causality\n",
      "number of lags (no zero) 3\n",
      "ssr based F test:         F=2.0979  , p=0.1031  , df_denom=144, df_num=3\n",
      "ssr based chi2 test:   chi2=6.5996  , p=0.0858  , df=3\n",
      "likelihood ratio test: chi2=6.4595  , p=0.0913  , df=3\n",
      "parameter F test:         F=2.0979  , p=0.1031  , df_denom=144, df_num=3\n",
      "\n",
      "Granger Causality\n",
      "number of lags (no zero) 4\n",
      "ssr based F test:         F=1.6860  , p=0.1565  , df_denom=141, df_num=4\n",
      "ssr based chi2 test:   chi2=7.1744  , p=0.1270  , df=4\n",
      "likelihood ratio test: chi2=7.0081  , p=0.1355  , df=4\n",
      "parameter F test:         F=1.6860  , p=0.1565  , df_denom=141, df_num=4\n",
      "\n",
      "Granger Causality\n",
      "number of lags (no zero) 5\n",
      "ssr based F test:         F=1.3594  , p=0.2434  , df_denom=138, df_num=5\n",
      "ssr based chi2 test:   chi2=7.3389  , p=0.1966  , df=5\n",
      "likelihood ratio test: chi2=7.1639  , p=0.2087  , df=5\n",
      "parameter F test:         F=1.3594  , p=0.2434  , df_denom=138, df_num=5\n",
      "\n",
      "Granger Causality\n",
      "number of lags (no zero) 6\n",
      "ssr based F test:         F=1.0460  , p=0.3985  , df_denom=135, df_num=6\n",
      "ssr based chi2 test:   chi2=6.8801  , p=0.3321  , df=6\n",
      "likelihood ratio test: chi2=6.7249  , p=0.3470  , df=6\n",
      "parameter F test:         F=1.0460  , p=0.3985  , df_denom=135, df_num=6\n",
      "\n",
      "China_gdp_pc\n",
      "\n",
      "Granger Causality\n",
      "number of lags (no zero) 1\n",
      "ssr based F test:         F=2.8283  , p=0.0952  , df_denom=120, df_num=1\n",
      "ssr based chi2 test:   chi2=2.8990  , p=0.0886  , df=1\n",
      "likelihood ratio test: chi2=2.8654  , p=0.0905  , df=1\n",
      "parameter F test:         F=2.8283  , p=0.0952  , df_denom=120, df_num=1\n",
      "\n",
      "Granger Causality\n",
      "number of lags (no zero) 2\n",
      "ssr based F test:         F=0.9827  , p=0.3774  , df_denom=117, df_num=2\n",
      "ssr based chi2 test:   chi2=2.0495  , p=0.3589  , df=2\n",
      "likelihood ratio test: chi2=2.0325  , p=0.3620  , df=2\n",
      "parameter F test:         F=0.9827  , p=0.3774  , df_denom=117, df_num=2\n",
      "\n",
      "Granger Causality\n",
      "number of lags (no zero) 3\n",
      "ssr based F test:         F=1.0607  , p=0.3688  , df_denom=114, df_num=3\n",
      "ssr based chi2 test:   chi2=3.3774  , p=0.3370  , df=3\n",
      "likelihood ratio test: chi2=3.3311  , p=0.3433  , df=3\n",
      "parameter F test:         F=1.0607  , p=0.3688  , df_denom=114, df_num=3\n",
      "\n",
      "Granger Causality\n",
      "number of lags (no zero) 4\n",
      "ssr based F test:         F=1.0195  , p=0.4005  , df_denom=111, df_num=4\n",
      "ssr based chi2 test:   chi2=4.4088  , p=0.3535  , df=4\n",
      "likelihood ratio test: chi2=4.3297  , p=0.3632  , df=4\n",
      "parameter F test:         F=1.0195  , p=0.4005  , df_denom=111, df_num=4\n",
      "\n",
      "Granger Causality\n",
      "number of lags (no zero) 5\n",
      "ssr based F test:         F=1.0612  , p=0.3860  , df_denom=108, df_num=5\n",
      "ssr based chi2 test:   chi2=5.8465  , p=0.3214  , df=5\n",
      "likelihood ratio test: chi2=5.7074  , p=0.3357  , df=5\n",
      "parameter F test:         F=1.0612  , p=0.3860  , df_denom=108, df_num=5\n",
      "\n",
      "Granger Causality\n",
      "number of lags (no zero) 6\n",
      "ssr based F test:         F=2.8713  , p=0.0125  , df_denom=105, df_num=6\n",
      "ssr based chi2 test:   chi2=19.3608 , p=0.0036  , df=6\n",
      "likelihood ratio test: chi2=17.9273 , p=0.0064  , df=6\n",
      "parameter F test:         F=2.8713  , p=0.0125  , df_denom=105, df_num=6\n",
      "\n"
     ]
    }
   ],
   "source": [
    "# Test for causality - over a 6-month period\n",
    "for s in exogenous:\n",
    "    print(s)\n",
    "    sm.tsa.stattools.grangercausalitytests(df_all[['Price', s]].dropna(), maxlag=6)\n",
    "    print()"
   ]
  },
  {
   "cell_type": "markdown",
   "metadata": {},
   "source": [
    "**Comments from Granger Causality Tests Results (taking p-value 10% as significant:**  \n",
    "- Scrap prices don't make Iron Ore prices to change.  \n",
    "- Steel prices from past 2nd and 3rd months make Iron Ore prices to change.  \n",
    "- China GDP Growth from 1st and 6th previous months make Iron Ore prices to change."
   ]
  },
  {
   "cell_type": "markdown",
   "metadata": {},
   "source": [
    "### Insights from EDA results:  \n",
    "1) ACF Plot and Lag Plot show that past values are important to determine future values of iron ore prices. The stationarity tests (the AdFuller test and the Kwiatkowski-Phillips-Schmidt-Shin (KPSS)) also have shown that iron ore prices is a non-stationary series. So a simple linear regression model won't be a suitable model as this kind of model doesn't cover the autoregressive component. A time series approach like ARIMA should be more appropriate.  \n",
    "2) Some exogenous variables were considered to be important variables as they can influence the iron ore prices from the demand perspective. A set of Granger Causality tests were carried out for the main exogenous variables, but for two of them it's shown to be relevant: past steel prices (lags 2 and 3) and China GDP Growth from previous months (lags 1 and 6).\n",
    "\n",
    "**EDA Directions to Modeling Phase:**  \n",
    "An ARIMAX Model should be evaluated to iron ore prices forecasting, as it is a non-stationary series and it has relevant exogenous variables which influences its values."
   ]
  },
  {
   "cell_type": "markdown",
   "metadata": {},
   "source": [
    "## 4. Modeling"
   ]
  },
  {
   "cell_type": "markdown",
   "metadata": {},
   "source": [
    "### 4.0 Preparation for Modeling\n",
    "Defining functions for Modeling"
   ]
  },
  {
   "cell_type": "code",
   "execution_count": 17,
   "metadata": {},
   "outputs": [],
   "source": [
    "# Accuracy metrics\n",
    "def forecast_accuracy(y_forecast, y_true):\n",
    "    \"\"\"\n",
    "    This function summarizes the main evaluation metrics for the forecasting model\n",
    "    \n",
    "    Inputs: \n",
    "    y_forecast: series of predicted values from the model\n",
    "    y_true: series of true values \n",
    "    \n",
    "    Returns: a dictionary with evaluation metrics\n",
    "\n",
    "    \"\"\"\n",
    "    mape = np.mean(np.abs(y_forecast - y_true)/np.abs(y_true))  # MAPE\n",
    "    me = np.mean(y_forecast - y_true)             # ME\n",
    "    mae = np.mean(np.abs(y_forecast - y_true))    # MAE\n",
    "    mpe = np.mean((y_forecast - y_true)/y_true)   # MPE\n",
    "    rmse = np.mean((y_forecast - y_true)**2)**.5  # RMSE\n",
    "    corr = np.corrcoef(y_forecast, y_true)[0,1]   # corr\n",
    "    mins = np.amin(np.hstack([y_forecast[:,None], y_true[:,None]]), axis=1)\n",
    "    maxs = np.amax(np.hstack([y_forecast[:,None], y_true[:,None]]), axis=1)\n",
    "    minmax = 1 - np.mean(mins/maxs)             # minmax\n",
    "    acf1 = sm.tsa.stattools.acf(y_forecast)[1]    # ACF1 - for residues evaluation\n",
    "    return({'mape':mape, 'me':me, 'mae': mae, \n",
    "            'mpe': mpe, 'rmse':rmse, 'acf1':acf1, \n",
    "            'corr':corr, 'minmax':minmax})"
   ]
  },
  {
   "cell_type": "markdown",
   "metadata": {},
   "source": [
    "### 4.1 POC Modeling\n",
    "The results from EDA Phase suggest that the ARIMAX model would be an appropriate approach as it can deal with the non-stationarity of the series and the influence of exogenous variables."
   ]
  },
  {
   "cell_type": "code",
   "execution_count": null,
   "metadata": {},
   "outputs": [],
   "source": [
    "# Feature Engineering from EDA results\n",
    "\n",
    "df_all['steel_lag2'] = df_all['steel_price'].shift(2)\n",
    "df_all['steel_lag3'] = df_all['steel_price'].shift(3)\n",
    "\n",
    "df_all['china_gdp_ch_lag1'] = df_all['China_gdp_pc'].shift(1)\n",
    "df_all['china_gdp_ch_lag6'] = df_all['China_gdp_pc'].shift(6)"
   ]
  },
  {
   "cell_type": "code",
   "execution_count": 63,
   "metadata": {},
   "outputs": [],
   "source": [
    "# Preparing dataset for modeling\n",
    "df_model = df_all.dropna().copy()\n",
    "exog_model = ['steel_lag2','steel_lag3','china_gdp_ch_lag1','china_gdp_ch_lag6']"
   ]
  },
  {
   "cell_type": "code",
   "execution_count": 65,
   "metadata": {},
   "outputs": [],
   "source": [
    "# split in train and test datasets\n",
    "TEST_SIZE = .1\n",
    "train = df_model[:int(df_model.shape[0]*(1-TEST_SIZE))]\n",
    "test = df_model[int(df_model.shape[0]*(1-TEST_SIZE)):]"
   ]
  },
  {
   "cell_type": "code",
   "execution_count": 66,
   "metadata": {},
   "outputs": [
    {
     "name": "stderr",
     "output_type": "stream",
     "text": [
      "C:\\Users\\Rejane\\Anaconda3\\lib\\site-packages\\statsmodels\\tsa\\base\\tsa_model.py:527: ValueWarning: No frequency information was provided, so inferred frequency M will be used.\n",
      "  % freq, ValueWarning)\n",
      "C:\\Users\\Rejane\\Anaconda3\\lib\\site-packages\\statsmodels\\tsa\\base\\tsa_model.py:527: ValueWarning: No frequency information was provided, so inferred frequency M will be used.\n",
      "  % freq, ValueWarning)\n",
      "C:\\Users\\Rejane\\Anaconda3\\lib\\site-packages\\statsmodels\\tsa\\base\\tsa_model.py:527: ValueWarning: No frequency information was provided, so inferred frequency M will be used.\n",
      "  % freq, ValueWarning)\n"
     ]
    },
    {
     "name": "stdout",
     "output_type": "stream",
     "text": [
      "                               SARIMAX Results                                \n",
      "==============================================================================\n",
      "Dep. Variable:                  Price   No. Observations:                   59\n",
      "Model:                 ARIMA(8, 1, 0)   Log Likelihood                -192.390\n",
      "Date:                Sun, 10 Oct 2021   AIC                            410.779\n",
      "Time:                        17:50:10   BIC                            437.565\n",
      "Sample:                    11-30-2015   HQIC                           421.213\n",
      "                         - 09-30-2020                                         \n",
      "Covariance Type:                  opg                                         \n",
      "=====================================================================================\n",
      "                        coef    std err          z      P>|z|      [0.025      0.975]\n",
      "-------------------------------------------------------------------------------------\n",
      "steel_lag2           -0.0148      0.030     -0.491      0.623      -0.074       0.044\n",
      "steel_lag3           -0.0060      0.029     -0.206      0.837      -0.064       0.052\n",
      "china_gdp_ch_lag1     3.0602      4.092      0.748      0.455      -4.960      11.080\n",
      "china_gdp_ch_lag6    26.8431     30.171      0.890      0.374     -32.290      85.976\n",
      "ar.L1                 0.2923      0.184      1.589      0.112      -0.068       0.653\n",
      "ar.L2                -0.3046      0.195     -1.560      0.119      -0.687       0.078\n",
      "ar.L3                 0.0688      0.231      0.298      0.765      -0.383       0.521\n",
      "ar.L4                -0.2465      0.264     -0.933      0.351      -0.765       0.272\n",
      "ar.L5                 0.1685      0.225      0.749      0.454      -0.272       0.609\n",
      "ar.L6                -0.0460      0.173     -0.266      0.791      -0.385       0.293\n",
      "ar.L7                -0.0948      0.228     -0.416      0.677      -0.541       0.352\n",
      "ar.L8                 0.1580      0.203      0.778      0.436      -0.240       0.556\n",
      "sigma2               43.1209     10.665      4.043      0.000      22.219      64.023\n",
      "===================================================================================\n",
      "Ljung-Box (L1) (Q):                   0.03   Jarque-Bera (JB):                26.87\n",
      "Prob(Q):                              0.85   Prob(JB):                         0.00\n",
      "Heteroskedasticity (H):               1.72   Skew:                            -1.03\n",
      "Prob(H) (two-sided):                  0.25   Kurtosis:                         5.61\n",
      "===================================================================================\n",
      "\n",
      "Warnings:\n",
      "[1] Covariance matrix calculated using the outer product of gradients (complex-step).\n"
     ]
    },
    {
     "name": "stderr",
     "output_type": "stream",
     "text": [
      "C:\\Users\\Rejane\\Anaconda3\\lib\\site-packages\\statsmodels\\base\\model.py:568: ConvergenceWarning: Maximum Likelihood optimization failed to converge. Check mle_retvals\n",
      "  ConvergenceWarning)\n"
     ]
    }
   ],
   "source": [
    "# fit model\n",
    "model = arima.model.ARIMA(train['Price'], \n",
    "                          exog=train[exog_model], \n",
    "                          order=(8,1,0), \n",
    "                          dates = train.index) \n",
    "arimax = model.fit()\n",
    "# summary of fit model\n",
    "print(arimax.summary())"
   ]
  },
  {
   "cell_type": "code",
   "execution_count": 72,
   "metadata": {},
   "outputs": [
    {
     "data": {
      "image/png": "[encoded data removed]",
      "text/plain": [
       "<Figure size 432x288 with 1 Axes>"
      ]
     },
     "metadata": {},
     "output_type": "display_data"
    },
    {
     "data": {
      "image/png": "[encoded data removed]",
      "text/plain": [
       "<Figure size 432x288 with 1 Axes>"
      ]
     },
     "metadata": {},
     "output_type": "display_data"
    }
   ],
   "source": [
    "# residuals analysis\n",
    "residuals = pd.DataFrame(arimax.resid)\n",
    "residuals.plot()\n",
    "plt.show()\n",
    "\n",
    "residuals.plot(kind='kde')\n",
    "plt.show()"
   ]
  },
  {
   "cell_type": "code",
   "execution_count": 68,
   "metadata": {},
   "outputs": [],
   "source": [
    "# predictions\n",
    "fc = arimax.predict(start=test.index.min(), end=test.index.max(), exog=[test[exog_model]])"
   ]
  },
  {
   "cell_type": "code",
   "execution_count": 70,
   "metadata": {},
   "outputs": [
    {
     "data": {
      "image/png": "[encoded data removed]",
      "text/plain": [
       "<Figure size 1200x500 with 1 Axes>"
      ]
     },
     "metadata": {},
     "output_type": "display_data"
    }
   ],
   "source": [
    "# predictions to series\n",
    "fc_series = pd.Series(fc, index=test.index)\n",
    "#lower_series = pd.Series(conf[:, 0], index=test.index)\n",
    "#upper_series = pd.Series(conf[:, 1], index=test.index)\n",
    "\n",
    "# Plot\n",
    "plt.figure(figsize=(12,5), dpi=100)\n",
    "plt.plot(train['Price'], label='training')\n",
    "plt.plot(test['Price'], label='actual')\n",
    "plt.plot(fc_series, label='forecast')\n",
    "#plt.fill_between(lower_series.index, lower_series, upper_series, color='k', alpha=.15)\n",
    "plt.title('Forecast vs Actuals')\n",
    "plt.legend(loc='upper left', fontsize=8)\n",
    "plt.show()"
   ]
  },
  {
   "cell_type": "markdown",
   "metadata": {},
   "source": [
    "#### Acknowlegments:\n",
    "https://otexts.com/fpp2/  \n",
    "https://machinelearningmastery.com/arima-for-time-series-forecasting-with-python/  \n",
    "https://www.nbshare.io/notebook/136553745/Time-Series-Analysis-Using-ARIMA-From-StatsModels/  \n",
    "https://www.machinelearningplus.com/time-series/arima-model-time-series-forecasting-python/  \n",
    "https://github.com/alkaline-ml/pmdarima\n",
    "https://medium.com/keita-starts-data-science/time-series-split-with-scikit-learn-74f5be38489e\n",
    "https://stackoverflow.com/questions/46732748/how-do-i-use-a-timeseriessplit-with-a-gridsearchcv-object-to-tune-a-model-in-sci\n",
    "https://towardsdatascience.com/time-based-cross-validation-d259b13d42b8  \n",
    "https://www.analyticsvidhya.com/blog/2021/08/granger-causality-in-time-series-explained-using-chicken-and-egg-problem\n",
    "https://www.analyticsvidhya.com/blog/2021/06/random-forest-for-time-series-forecasting/\n",
    "https://towardsdatascience.com/an-end-to-end-project-on-time-series-analysis-and-forecasting-with-python-4835e6bf050b  \n",
    "https://machinelearningmastery.com/make-sample-forecasts-arima-python/"
   ]
  },
  {
   "cell_type": "code",
   "execution_count": null,
   "metadata": {},
   "outputs": [],
   "source": []
  }
 ],
 "metadata": {
  "kernelspec": {
   "display_name": "Python 3",
   "language": "python",
   "name": "python3"
  },
  "language_info": {
   "codemirror_mode": {
    "name": "ipython",
    "version": 3
   },
   "file_extension": ".py",
   "mimetype": "text/x-python",
   "name": "python",
   "nbconvert_exporter": "python",
   "pygments_lexer": "ipython3",
   "version": "3.6.5"
  }
 },
 "nbformat": 4,
 "nbformat_minor": 2
}
