{
 "cells": [
  {
   "cell_type": "markdown",
   "metadata": {},
   "source": [
    "# Iron Ore Prices Forecasting Project\n",
    "\n",
    "This project aims to develop a model to predict the iron ore prices.  \n",
    "Iron Ore is a commodity used to produce steel. Commodity prices are subject to the high volatility typical of market prices."
   ]
  },
  {
   "cell_type": "markdown",
   "metadata": {},
   "source": [
    "##### Project Structure\n",
    "\n",
    "1. Motivation  \n",
    "2. The Data\n",
    "3. Exploratory Data Analysis\n",
    "4. Modeling  \n",
    "4.1 Simple Modeling  \n",
    "4.2 Modeling - tuning hyperparameters  \n",
    "4.3 Cross-validation Modeling  \n",
    "4.4 Final Model   \n",
    "5. Persisting the final model\n",
    "6. Conclusion\n",
    "Acknowlegdments"
   ]
  },
  {
   "cell_type": "markdown",
   "metadata": {},
   "source": [
    "## 1. Motivation\n",
    "\n",
    "Overview:  \n",
    "Visualizing the Rise in Commodity Prices  \n",
    "https://elements.visualcapitalist.com/visualizing-the-rise-in-commodity-prices/  \n",
    "\n",
    "https://www.weforum.org/agenda/2021/06/global-steel-production/"
   ]
  },
  {
   "cell_type": "markdown",
   "metadata": {},
   "source": [
    "##### Importing packages"
   ]
  },
  {
   "cell_type": "code",
   "execution_count": 1,
   "metadata": {},
   "outputs": [],
   "source": [
    "import pandas as pd\n",
    "import numpy as np\n",
    "\n",
    "import matplotlib.pyplot as plt\n",
    "import seaborn as sns\n",
    "\n",
    "import os\n",
    "import pickle"
   ]
  },
  {
   "cell_type": "code",
   "execution_count": 2,
   "metadata": {},
   "outputs": [],
   "source": [
    "import statsmodels.api as sm\n",
    "from statsmodels.tsa import arima, stattools, seasonal, statespace\n",
    "from statsmodels.tsa.statespace import sarimax"
   ]
  },
  {
   "cell_type": "code",
   "execution_count": 3,
   "metadata": {},
   "outputs": [],
   "source": [
    "import pmdarima as pm"
   ]
  },
  {
   "cell_type": "code",
   "execution_count": 4,
   "metadata": {},
   "outputs": [],
   "source": [
    "import warnings\n",
    "warnings.filterwarnings('ignore')"
   ]
  },
  {
   "cell_type": "markdown",
   "metadata": {},
   "source": [
    "## 2. The Data \n",
    "The data that is interesting to predict and forecaste iron ore prices are the prices itselt (the main series) and some exogenous variables related to the subject, like steel prices, scrap prices (a raw material that can replace iron ore at certain content), industrial production, and GDP growth of the main consumers."
   ]
  },
  {
   "cell_type": "markdown",
   "metadata": {},
   "source": [
    "### 2.1 Data sources:  \n",
    "- Iron Ore Prices:  \n",
    "MarketIndex.com.au/iron-ore  \n",
    "\n",
    "https://www.worldbank.org/en/research/commodity-markets#1\n",
    "\n",
    "https://www.indexmundi.com/commodities/?commodity=iron-ore&months=240  (obs Terms of Use)  \n",
    "Description: Iron ore (any origin) fines, spot price, c.f.r. China, 62% Fe beginning December 2008; previously 63.5%  \n",
    "Unit: US Dollars per Dry Metric Ton  \n",
    "\n",
    "https://www.investing.com/commodities/iron-ore-62-cfr-futures-historical-data  \n",
    "\n",
    "- Rain Fall in Australia:  \n",
    "https://www.kaggle.com/jsphyg/weather-dataset-rattle-package  \n",
    "http://www.bom.gov.au/climate/data/  \n",
    "- Scrap Prices (LME Steel Scrap)  \n",
    "https://www.lme.com/Market-Data/Reports-and-data/Historical-data-for-cash-settled-futures\n",
    "- Steel Prices  \n",
    "https://www.lme.com/Market-Data/Reports-and-data/Historical-data-for-cash-settled-futures\n",
    "https://www.lme.com/-/media/Files/Market-data/Historic-Data/2021/Cash-settled-futures/Closing-prices/HC-Closing-Prices.xlsx  \n",
    "https://br.investing.com/commodities/us-steel-coil-futures-historical-data\n",
    "- World Steel Production  \n",
    "https://www.worldsteel.org/steel-by-topic/statistics/annual-production-steel-data/P1_crude_steel_total_pub/CHN/IND  \n",
    "- GDP  \n",
    "https://data.oecd.org/gdp/quarterly-gdp.htm  \n",
    "OECD (2021), Quarterly GDP (indicator). doi: 10.1787/b86d1fc8-en"
   ]
  },
  {
   "cell_type": "markdown",
   "metadata": {},
   "source": [
    "### 2.2 Iron Ore Prices "
   ]
  },
  {
   "cell_type": "code",
   "execution_count": 5,
   "metadata": {
    "scrolled": false
   },
   "outputs": [
    {
     "name": "stdout",
     "output_type": "stream",
     "text": [
      "<class 'pandas.core.frame.DataFrame'>\n",
      "RangeIndex: 740 entries, 0 to 739\n",
      "Data columns (total 2 columns):\n",
      " #   Column      Non-Null Count  Dtype  \n",
      "---  ------      --------------  -----  \n",
      " 0   Unnamed: 0  740 non-null    object \n",
      " 1   IRON_ORE    740 non-null    float64\n",
      "dtypes: float64(1), object(1)\n",
      "memory usage: 11.7+ KB\n",
      "None\n"
     ]
    },
    {
     "data": {
      "text/html": [
       "<div>\n",
       "<style scoped>\n",
       "    .dataframe tbody tr th:only-of-type {\n",
       "        vertical-align: middle;\n",
       "    }\n",
       "\n",
       "    .dataframe tbody tr th {\n",
       "        vertical-align: top;\n",
       "    }\n",
       "\n",
       "    .dataframe thead th {\n",
       "        text-align: right;\n",
       "    }\n",
       "</style>\n",
       "<table border=\"1\" class=\"dataframe\">\n",
       "  <thead>\n",
       "    <tr style=\"text-align: right;\">\n",
       "      <th></th>\n",
       "      <th>Unnamed: 0</th>\n",
       "      <th>IRON_ORE</th>\n",
       "    </tr>\n",
       "  </thead>\n",
       "  <tbody>\n",
       "    <tr>\n",
       "      <th>0</th>\n",
       "      <td>1960M01</td>\n",
       "      <td>11.42</td>\n",
       "    </tr>\n",
       "    <tr>\n",
       "      <th>1</th>\n",
       "      <td>1960M02</td>\n",
       "      <td>11.42</td>\n",
       "    </tr>\n",
       "    <tr>\n",
       "      <th>2</th>\n",
       "      <td>1960M03</td>\n",
       "      <td>11.42</td>\n",
       "    </tr>\n",
       "    <tr>\n",
       "      <th>3</th>\n",
       "      <td>1960M04</td>\n",
       "      <td>11.42</td>\n",
       "    </tr>\n",
       "    <tr>\n",
       "      <th>4</th>\n",
       "      <td>1960M05</td>\n",
       "      <td>11.42</td>\n",
       "    </tr>\n",
       "  </tbody>\n",
       "</table>\n",
       "</div>"
      ],
      "text/plain": [
       "  Unnamed: 0  IRON_ORE\n",
       "0    1960M01     11.42\n",
       "1    1960M02     11.42\n",
       "2    1960M03     11.42\n",
       "3    1960M04     11.42\n",
       "4    1960M05     11.42"
      ]
     },
     "execution_count": 5,
     "metadata": {},
     "output_type": "execute_result"
    }
   ],
   "source": [
    "# Iron Ore Prices Historical Data\n",
    "\n",
    "\"\"\"\n",
    "# source: Australia \n",
    "df = pd.read_excel('..\\data\\commodities-workbook.xlsx',\n",
    "                   sheet_name = 'Iron Ore',\n",
    "                 index_col = 0,\n",
    "                   header=10\n",
    "                 )\n",
    "\"\"\"\n",
    "df = pd.read_excel('..\\data\\CMO-Historical-Data-Monthly.xlsx',\n",
    "                   sheet_name = 'Monthly Prices',\n",
    "                #index_col = 0,\n",
    "                   header=6,\n",
    "                   usecols = 'A,BL'\n",
    "                 )\n",
    "print(df.info())\n",
    "df.head()"
   ]
  },
  {
   "cell_type": "code",
   "execution_count": 6,
   "metadata": {},
   "outputs": [
    {
     "data": {
      "text/html": [
       "<div>\n",
       "<style scoped>\n",
       "    .dataframe tbody tr th:only-of-type {\n",
       "        vertical-align: middle;\n",
       "    }\n",
       "\n",
       "    .dataframe tbody tr th {\n",
       "        vertical-align: top;\n",
       "    }\n",
       "\n",
       "    .dataframe thead th {\n",
       "        text-align: right;\n",
       "    }\n",
       "</style>\n",
       "<table border=\"1\" class=\"dataframe\">\n",
       "  <thead>\n",
       "    <tr style=\"text-align: right;\">\n",
       "      <th></th>\n",
       "      <th>Price</th>\n",
       "    </tr>\n",
       "    <tr>\n",
       "      <th>Data</th>\n",
       "      <th></th>\n",
       "    </tr>\n",
       "  </thead>\n",
       "  <tbody>\n",
       "    <tr>\n",
       "      <th>1960-01-31</th>\n",
       "      <td>11.42</td>\n",
       "    </tr>\n",
       "    <tr>\n",
       "      <th>1960-02-29</th>\n",
       "      <td>11.42</td>\n",
       "    </tr>\n",
       "    <tr>\n",
       "      <th>1960-03-31</th>\n",
       "      <td>11.42</td>\n",
       "    </tr>\n",
       "    <tr>\n",
       "      <th>1960-04-30</th>\n",
       "      <td>11.42</td>\n",
       "    </tr>\n",
       "    <tr>\n",
       "      <th>1960-05-31</th>\n",
       "      <td>11.42</td>\n",
       "    </tr>\n",
       "  </tbody>\n",
       "</table>\n",
       "</div>"
      ],
      "text/plain": [
       "            Price\n",
       "Data             \n",
       "1960-01-31  11.42\n",
       "1960-02-29  11.42\n",
       "1960-03-31  11.42\n",
       "1960-04-30  11.42\n",
       "1960-05-31  11.42"
      ]
     },
     "execution_count": 6,
     "metadata": {},
     "output_type": "execute_result"
    }
   ],
   "source": [
    "# Some adjustings to timestamp format and column names\n",
    "\n",
    "new_columns_names = ['Data', 'Price']\n",
    "df.columns = new_columns_names\n",
    "\n",
    "df['Data'] = pd.to_datetime(df['Data'].str.replace('M','-'), format='%Y-%m') \\\n",
    "+ pd.offsets.MonthEnd() # to calendar end of the month\n",
    "\n",
    "df.set_index('Data', inplace=True)\n",
    "\n",
    "df.head()"
   ]
  },
  {
   "cell_type": "markdown",
   "metadata": {},
   "source": [
    "### 2.3 Additional data\n",
    "\n",
    "Data for some possible exogenous variables:  \n",
    "- Steel Scrap Prices  \n",
    "- Steel Prices  \n",
    "- GDP  \n",
    "- Future Prices for Iron Ore"
   ]
  },
  {
   "cell_type": "code",
   "execution_count": 7,
   "metadata": {},
   "outputs": [
    {
     "name": "stdout",
     "output_type": "stream",
     "text": [
      "<class 'pandas.core.frame.DataFrame'>\n",
      "DatetimeIndex: 1438 entries, 2015-11-23 to 2021-07-30\n",
      "Data columns (total 15 columns):\n",
      " #   Column  Non-Null Count  Dtype  \n",
      "---  ------  --------------  -----  \n",
      " 0   M1      1438 non-null   float64\n",
      " 1   M2      1438 non-null   float64\n",
      " 2   M3      1438 non-null   float64\n",
      " 3   M4      1438 non-null   float64\n",
      " 4   M5      1438 non-null   float64\n",
      " 5   M6      1438 non-null   float64\n",
      " 6   M7      1438 non-null   float64\n",
      " 7   M8      1438 non-null   float64\n",
      " 8   M9      1438 non-null   float64\n",
      " 9   M10     1438 non-null   float64\n",
      " 10  M11     1438 non-null   float64\n",
      " 11  M12     1438 non-null   float64\n",
      " 12  M13     1438 non-null   float64\n",
      " 13  M14     1438 non-null   float64\n",
      " 14  M15     1438 non-null   float64\n",
      "dtypes: float64(15)\n",
      "memory usage: 179.8 KB\n",
      "None\n"
     ]
    },
    {
     "data": {
      "text/html": [
       "<div>\n",
       "<style scoped>\n",
       "    .dataframe tbody tr th:only-of-type {\n",
       "        vertical-align: middle;\n",
       "    }\n",
       "\n",
       "    .dataframe tbody tr th {\n",
       "        vertical-align: top;\n",
       "    }\n",
       "\n",
       "    .dataframe thead th {\n",
       "        text-align: right;\n",
       "    }\n",
       "</style>\n",
       "<table border=\"1\" class=\"dataframe\">\n",
       "  <thead>\n",
       "    <tr style=\"text-align: right;\">\n",
       "      <th></th>\n",
       "      <th>M1</th>\n",
       "      <th>M2</th>\n",
       "      <th>M3</th>\n",
       "      <th>M4</th>\n",
       "      <th>M5</th>\n",
       "      <th>M6</th>\n",
       "      <th>M7</th>\n",
       "      <th>M8</th>\n",
       "      <th>M9</th>\n",
       "      <th>M10</th>\n",
       "      <th>M11</th>\n",
       "      <th>M12</th>\n",
       "      <th>M13</th>\n",
       "      <th>M14</th>\n",
       "      <th>M15</th>\n",
       "    </tr>\n",
       "    <tr>\n",
       "      <th>USD/mt</th>\n",
       "      <th></th>\n",
       "      <th></th>\n",
       "      <th></th>\n",
       "      <th></th>\n",
       "      <th></th>\n",
       "      <th></th>\n",
       "      <th></th>\n",
       "      <th></th>\n",
       "      <th></th>\n",
       "      <th></th>\n",
       "      <th></th>\n",
       "      <th></th>\n",
       "      <th></th>\n",
       "      <th></th>\n",
       "      <th></th>\n",
       "    </tr>\n",
       "  </thead>\n",
       "  <tbody>\n",
       "    <tr>\n",
       "      <th>2015-11-23</th>\n",
       "      <td>195.0</td>\n",
       "      <td>195.0</td>\n",
       "      <td>195.0</td>\n",
       "      <td>195.0</td>\n",
       "      <td>195.0</td>\n",
       "      <td>195.0</td>\n",
       "      <td>195.0</td>\n",
       "      <td>195.0</td>\n",
       "      <td>195.0</td>\n",
       "      <td>195.0</td>\n",
       "      <td>195.0</td>\n",
       "      <td>195.0</td>\n",
       "      <td>195.0</td>\n",
       "      <td>195.0</td>\n",
       "      <td>195.0</td>\n",
       "    </tr>\n",
       "    <tr>\n",
       "      <th>2015-11-24</th>\n",
       "      <td>195.0</td>\n",
       "      <td>195.0</td>\n",
       "      <td>195.0</td>\n",
       "      <td>195.0</td>\n",
       "      <td>195.0</td>\n",
       "      <td>195.0</td>\n",
       "      <td>195.0</td>\n",
       "      <td>195.0</td>\n",
       "      <td>195.0</td>\n",
       "      <td>195.0</td>\n",
       "      <td>195.0</td>\n",
       "      <td>195.0</td>\n",
       "      <td>195.0</td>\n",
       "      <td>195.0</td>\n",
       "      <td>195.0</td>\n",
       "    </tr>\n",
       "    <tr>\n",
       "      <th>2015-11-25</th>\n",
       "      <td>195.0</td>\n",
       "      <td>193.0</td>\n",
       "      <td>193.0</td>\n",
       "      <td>193.0</td>\n",
       "      <td>193.0</td>\n",
       "      <td>193.0</td>\n",
       "      <td>193.0</td>\n",
       "      <td>193.0</td>\n",
       "      <td>193.0</td>\n",
       "      <td>193.0</td>\n",
       "      <td>193.0</td>\n",
       "      <td>193.0</td>\n",
       "      <td>193.0</td>\n",
       "      <td>193.0</td>\n",
       "      <td>193.0</td>\n",
       "    </tr>\n",
       "    <tr>\n",
       "      <th>2015-11-26</th>\n",
       "      <td>192.0</td>\n",
       "      <td>193.0</td>\n",
       "      <td>193.0</td>\n",
       "      <td>193.0</td>\n",
       "      <td>193.0</td>\n",
       "      <td>193.0</td>\n",
       "      <td>193.0</td>\n",
       "      <td>193.0</td>\n",
       "      <td>193.0</td>\n",
       "      <td>193.0</td>\n",
       "      <td>193.0</td>\n",
       "      <td>193.0</td>\n",
       "      <td>193.0</td>\n",
       "      <td>193.0</td>\n",
       "      <td>193.0</td>\n",
       "    </tr>\n",
       "    <tr>\n",
       "      <th>2015-11-27</th>\n",
       "      <td>192.0</td>\n",
       "      <td>193.0</td>\n",
       "      <td>193.0</td>\n",
       "      <td>193.0</td>\n",
       "      <td>193.0</td>\n",
       "      <td>193.0</td>\n",
       "      <td>193.0</td>\n",
       "      <td>193.0</td>\n",
       "      <td>193.0</td>\n",
       "      <td>193.0</td>\n",
       "      <td>193.0</td>\n",
       "      <td>193.0</td>\n",
       "      <td>193.0</td>\n",
       "      <td>193.0</td>\n",
       "      <td>193.0</td>\n",
       "    </tr>\n",
       "  </tbody>\n",
       "</table>\n",
       "</div>"
      ],
      "text/plain": [
       "               M1     M2     M3     M4     M5     M6     M7     M8     M9  \\\n",
       "USD/mt                                                                      \n",
       "2015-11-23  195.0  195.0  195.0  195.0  195.0  195.0  195.0  195.0  195.0   \n",
       "2015-11-24  195.0  195.0  195.0  195.0  195.0  195.0  195.0  195.0  195.0   \n",
       "2015-11-25  195.0  193.0  193.0  193.0  193.0  193.0  193.0  193.0  193.0   \n",
       "2015-11-26  192.0  193.0  193.0  193.0  193.0  193.0  193.0  193.0  193.0   \n",
       "2015-11-27  192.0  193.0  193.0  193.0  193.0  193.0  193.0  193.0  193.0   \n",
       "\n",
       "              M10    M11    M12    M13    M14    M15  \n",
       "USD/mt                                                \n",
       "2015-11-23  195.0  195.0  195.0  195.0  195.0  195.0  \n",
       "2015-11-24  195.0  195.0  195.0  195.0  195.0  195.0  \n",
       "2015-11-25  193.0  193.0  193.0  193.0  193.0  193.0  \n",
       "2015-11-26  193.0  193.0  193.0  193.0  193.0  193.0  \n",
       "2015-11-27  193.0  193.0  193.0  193.0  193.0  193.0  "
      ]
     },
     "execution_count": 7,
     "metadata": {},
     "output_type": "execute_result"
    }
   ],
   "source": [
    "# Steel Scrap Prices Historical Data\n",
    "df_scrap = pd.read_excel('..\\data\\SC Closing Prices.xlsx', \n",
    "                   index_col = 0,\n",
    "                        )\n",
    "print(df_scrap.info())\n",
    "df_scrap.head()"
   ]
  },
  {
   "cell_type": "code",
   "execution_count": 8,
   "metadata": {},
   "outputs": [
    {
     "name": "stdout",
     "output_type": "stream",
     "text": [
      "<class 'pandas.core.frame.DataFrame'>\n",
      "RangeIndex: 156 entries, 0 to 155\n",
      "Data columns (total 7 columns):\n",
      " #   Column    Non-Null Count  Dtype \n",
      "---  ------    --------------  ----- \n",
      " 0   Data      156 non-null    object\n",
      " 1   Último    156 non-null    object\n",
      " 2   Abertura  156 non-null    object\n",
      " 3   Máxima    156 non-null    object\n",
      " 4   Mínima    156 non-null    object\n",
      " 5   Vol.      156 non-null    object\n",
      " 6   Var%      156 non-null    object\n",
      "dtypes: object(7)\n",
      "memory usage: 8.7+ KB\n",
      "None\n"
     ]
    },
    {
     "data": {
      "text/html": [
       "<div>\n",
       "<style scoped>\n",
       "    .dataframe tbody tr th:only-of-type {\n",
       "        vertical-align: middle;\n",
       "    }\n",
       "\n",
       "    .dataframe tbody tr th {\n",
       "        vertical-align: top;\n",
       "    }\n",
       "\n",
       "    .dataframe thead th {\n",
       "        text-align: right;\n",
       "    }\n",
       "</style>\n",
       "<table border=\"1\" class=\"dataframe\">\n",
       "  <thead>\n",
       "    <tr style=\"text-align: right;\">\n",
       "      <th></th>\n",
       "      <th>Data</th>\n",
       "      <th>Último</th>\n",
       "      <th>Abertura</th>\n",
       "      <th>Máxima</th>\n",
       "      <th>Mínima</th>\n",
       "      <th>Vol.</th>\n",
       "      <th>Var%</th>\n",
       "    </tr>\n",
       "  </thead>\n",
       "  <tbody>\n",
       "    <tr>\n",
       "      <th>0</th>\n",
       "      <td>Out 21</td>\n",
       "      <td>1.882,00</td>\n",
       "      <td>1.911,00</td>\n",
       "      <td>1.930,00</td>\n",
       "      <td>1.878,00</td>\n",
       "      <td>0,30K</td>\n",
       "      <td>-0,95%</td>\n",
       "    </tr>\n",
       "    <tr>\n",
       "      <th>1</th>\n",
       "      <td>Set 21</td>\n",
       "      <td>1.900,00</td>\n",
       "      <td>1.945,00</td>\n",
       "      <td>1.945,00</td>\n",
       "      <td>1.895,00</td>\n",
       "      <td>0,96K</td>\n",
       "      <td>-2,31%</td>\n",
       "    </tr>\n",
       "    <tr>\n",
       "      <th>2</th>\n",
       "      <td>Ago 21</td>\n",
       "      <td>1.945,00</td>\n",
       "      <td>1.888,00</td>\n",
       "      <td>1.945,00</td>\n",
       "      <td>1.829,00</td>\n",
       "      <td>0,46K</td>\n",
       "      <td>3,02%</td>\n",
       "    </tr>\n",
       "    <tr>\n",
       "      <th>3</th>\n",
       "      <td>Jul 21</td>\n",
       "      <td>1.888,00</td>\n",
       "      <td>1.789,00</td>\n",
       "      <td>1.900,00</td>\n",
       "      <td>1.775,00</td>\n",
       "      <td>2,01K</td>\n",
       "      <td>4,31%</td>\n",
       "    </tr>\n",
       "    <tr>\n",
       "      <th>4</th>\n",
       "      <td>Jun 21</td>\n",
       "      <td>1.810,00</td>\n",
       "      <td>1.665,00</td>\n",
       "      <td>1.815,00</td>\n",
       "      <td>1.630,00</td>\n",
       "      <td>0,96K</td>\n",
       "      <td>8,71%</td>\n",
       "    </tr>\n",
       "  </tbody>\n",
       "</table>\n",
       "</div>"
      ],
      "text/plain": [
       "     Data    Último  Abertura    Máxima    Mínima   Vol.    Var%\n",
       "0  Out 21  1.882,00  1.911,00  1.930,00  1.878,00  0,30K  -0,95%\n",
       "1  Set 21  1.900,00  1.945,00  1.945,00  1.895,00  0,96K  -2,31%\n",
       "2  Ago 21  1.945,00  1.888,00  1.945,00  1.829,00  0,46K   3,02%\n",
       "3  Jul 21  1.888,00  1.789,00  1.900,00  1.775,00  2,01K   4,31%\n",
       "4  Jun 21  1.810,00  1.665,00  1.815,00  1.630,00  0,96K   8,71%"
      ]
     },
     "execution_count": 8,
     "metadata": {},
     "output_type": "execute_result"
    }
   ],
   "source": [
    "# Steel Prices Historical Data\n",
    "df_steel = pd.read_csv('..\\data\\Bobina de aço EUA Futuros Dados Históricos.csv',\n",
    "                      decimal = ',')\n",
    "print(df_steel.info())\n",
    "df_steel.head()"
   ]
  },
  {
   "cell_type": "code",
   "execution_count": 9,
   "metadata": {},
   "outputs": [
    {
     "name": "stdout",
     "output_type": "stream",
     "text": [
      "<class 'pandas.core.frame.DataFrame'>\n",
      "DatetimeIndex: 42 entries, 2011-01-01 to 2021-04-01\n",
      "Data columns (total 7 columns):\n",
      " #   Column      Non-Null Count  Dtype  \n",
      "---  ------      --------------  -----  \n",
      " 0   LOCATION    42 non-null     object \n",
      " 1   INDICATOR   42 non-null     object \n",
      " 2   SUBJECT     42 non-null     object \n",
      " 3   MEASURE     42 non-null     object \n",
      " 4   FREQUENCY   42 non-null     object \n",
      " 5   Value       42 non-null     float64\n",
      " 6   Flag Codes  0 non-null      object \n",
      "dtypes: float64(1), object(6)\n",
      "memory usage: 2.6+ KB\n",
      "None\n"
     ]
    },
    {
     "data": {
      "text/html": [
       "<div>\n",
       "<style scoped>\n",
       "    .dataframe tbody tr th:only-of-type {\n",
       "        vertical-align: middle;\n",
       "    }\n",
       "\n",
       "    .dataframe tbody tr th {\n",
       "        vertical-align: top;\n",
       "    }\n",
       "\n",
       "    .dataframe thead th {\n",
       "        text-align: right;\n",
       "    }\n",
       "</style>\n",
       "<table border=\"1\" class=\"dataframe\">\n",
       "  <thead>\n",
       "    <tr style=\"text-align: right;\">\n",
       "      <th></th>\n",
       "      <th>LOCATION</th>\n",
       "      <th>INDICATOR</th>\n",
       "      <th>SUBJECT</th>\n",
       "      <th>MEASURE</th>\n",
       "      <th>FREQUENCY</th>\n",
       "      <th>China_gdp_pc</th>\n",
       "      <th>Flag Codes</th>\n",
       "    </tr>\n",
       "    <tr>\n",
       "      <th>TIME</th>\n",
       "      <th></th>\n",
       "      <th></th>\n",
       "      <th></th>\n",
       "      <th></th>\n",
       "      <th></th>\n",
       "      <th></th>\n",
       "      <th></th>\n",
       "    </tr>\n",
       "  </thead>\n",
       "  <tbody>\n",
       "    <tr>\n",
       "      <th>2011-01-01</th>\n",
       "      <td>CHN</td>\n",
       "      <td>QGDP</td>\n",
       "      <td>TOT</td>\n",
       "      <td>PC_CHGPP</td>\n",
       "      <td>Q</td>\n",
       "      <td>2.5</td>\n",
       "      <td>NaN</td>\n",
       "    </tr>\n",
       "    <tr>\n",
       "      <th>2011-04-01</th>\n",
       "      <td>CHN</td>\n",
       "      <td>QGDP</td>\n",
       "      <td>TOT</td>\n",
       "      <td>PC_CHGPP</td>\n",
       "      <td>Q</td>\n",
       "      <td>2.3</td>\n",
       "      <td>NaN</td>\n",
       "    </tr>\n",
       "    <tr>\n",
       "      <th>2011-07-01</th>\n",
       "      <td>CHN</td>\n",
       "      <td>QGDP</td>\n",
       "      <td>TOT</td>\n",
       "      <td>PC_CHGPP</td>\n",
       "      <td>Q</td>\n",
       "      <td>1.9</td>\n",
       "      <td>NaN</td>\n",
       "    </tr>\n",
       "    <tr>\n",
       "      <th>2011-10-01</th>\n",
       "      <td>CHN</td>\n",
       "      <td>QGDP</td>\n",
       "      <td>TOT</td>\n",
       "      <td>PC_CHGPP</td>\n",
       "      <td>Q</td>\n",
       "      <td>1.5</td>\n",
       "      <td>NaN</td>\n",
       "    </tr>\n",
       "    <tr>\n",
       "      <th>2012-01-01</th>\n",
       "      <td>CHN</td>\n",
       "      <td>QGDP</td>\n",
       "      <td>TOT</td>\n",
       "      <td>PC_CHGPP</td>\n",
       "      <td>Q</td>\n",
       "      <td>1.9</td>\n",
       "      <td>NaN</td>\n",
       "    </tr>\n",
       "  </tbody>\n",
       "</table>\n",
       "</div>"
      ],
      "text/plain": [
       "           LOCATION INDICATOR SUBJECT   MEASURE FREQUENCY  China_gdp_pc  \\\n",
       "TIME                                                                      \n",
       "2011-01-01      CHN      QGDP     TOT  PC_CHGPP         Q           2.5   \n",
       "2011-04-01      CHN      QGDP     TOT  PC_CHGPP         Q           2.3   \n",
       "2011-07-01      CHN      QGDP     TOT  PC_CHGPP         Q           1.9   \n",
       "2011-10-01      CHN      QGDP     TOT  PC_CHGPP         Q           1.5   \n",
       "2012-01-01      CHN      QGDP     TOT  PC_CHGPP         Q           1.9   \n",
       "\n",
       "           Flag Codes  \n",
       "TIME                   \n",
       "2011-01-01        NaN  \n",
       "2011-04-01        NaN  \n",
       "2011-07-01        NaN  \n",
       "2011-10-01        NaN  \n",
       "2012-01-01        NaN  "
      ]
     },
     "execution_count": 9,
     "metadata": {},
     "output_type": "execute_result"
    }
   ],
   "source": [
    "# China GDP Growth\n",
    "df_gdp = pd.read_csv('..\\data\\quarterly-gdp-oecd.csv',\n",
    "                    parse_dates = ['TIME'])\n",
    "df_chn_gdp = df_gdp[(df_gdp['LOCATION'] == 'CHN') & (df_gdp['FREQUENCY'] == 'Q') & (df_gdp['MEASURE'] == 'PC_CHGPP')]\\\n",
    ".set_index('TIME')\n",
    "print(df_chn_gdp.info())\n",
    "df_chn_gdp.rename(columns = {'Value':'China_gdp_pc'}, inplace=True)\n",
    "df_chn_gdp.head()"
   ]
  },
  {
   "cell_type": "markdown",
   "metadata": {},
   "source": [
    "### 2.4 Data Preparation"
   ]
  },
  {
   "cell_type": "markdown",
   "metadata": {},
   "source": [
    "Merging all the series in one single dataset"
   ]
  },
  {
   "cell_type": "code",
   "execution_count": 10,
   "metadata": {},
   "outputs": [
    {
     "data": {
      "text/plain": [
       "USD/mt\n",
       "2015-11-30    195.52\n",
       "2015-12-31    188.95\n",
       "2016-01-31    185.75\n",
       "2016-02-29    177.05\n",
       "2016-03-31    216.19\n",
       "Freq: M, Name: scrap_M1, dtype: float64"
      ]
     },
     "execution_count": 10,
     "metadata": {},
     "output_type": "execute_result"
    }
   ],
   "source": [
    "# Preparing Scrap data\n",
    "scrap_col_names = []\n",
    "for col in df_scrap.columns:\n",
    "    scrap_col_names.append('scrap_'+col)\n",
    "df_scrap.columns = scrap_col_names\n",
    "\n",
    "scrap_price = df_scrap['scrap_M1'].resample('M').last() \n",
    "\n",
    "scrap_price.head()"
   ]
  },
  {
   "cell_type": "code",
   "execution_count": 11,
   "metadata": {},
   "outputs": [
    {
     "data": {
      "text/plain": [
       "Data\n",
       "2008-11-30    595.0\n",
       "2008-12-31    525.0\n",
       "2009-01-31    515.0\n",
       "2009-02-28    495.0\n",
       "2009-03-31    450.0\n",
       "Freq: M, Name: steel_price, dtype: float64"
      ]
     },
     "execution_count": 11,
     "metadata": {},
     "output_type": "execute_result"
    }
   ],
   "source": [
    "# Preparing Steel data \n",
    "# preparing data column\n",
    "month_portuguese_to_number = {'Jan':1, 'Fev':2, 'Mar':3, 'Abr':4, 'Mai':5, 'Jun':6, 'Jul':7,\n",
    "                              'Ago':8, 'Set':9, 'Out':10, 'Nov':11, 'Dez':12}\n",
    "\n",
    "df_steel['Month'] = df_steel['Data'].str.split(' ', expand=True)[0].apply(lambda x: month_portuguese_to_number[x])\n",
    "df_steel['Year'] = str('20') + df_steel['Data'].str.split(' ', expand=True)[1]\n",
    "df_steel['Year'] = df_steel['Year'].astype(int)\n",
    "df_steel['Day'] = int(1)\n",
    "\n",
    "df_steel['Data'] = pd.to_datetime(df_steel[['Year','Month','Day']], format='%Y-%M-%d') \\\n",
    "+ pd.offsets.MonthEnd() # to calendar end of the month\n",
    "\n",
    "#preparin price column\n",
    "df_steel.rename(columns = {'Último':'steel_price'}, inplace=True)\n",
    "df_steel['steel_price'] = df_steel['steel_price'].str.replace('.','').str.replace(',','.')\n",
    "df_steel['steel_price'] = df_steel['steel_price'].astype(float)\n",
    "\n",
    "steel_price = df_steel.set_index('Data')['steel_price'].resample('M').last() \n",
    "\n",
    "steel_price.head()"
   ]
  },
  {
   "cell_type": "code",
   "execution_count": 12,
   "metadata": {},
   "outputs": [
    {
     "data": {
      "text/plain": [
       "TIME\n",
       "2011-01-31    1.357209\n",
       "2011-02-28    1.357209\n",
       "2011-03-31    1.357209\n",
       "2011-04-30    1.320006\n",
       "2011-05-31    1.320006\n",
       "Freq: M, Name: China_gdp_pc, dtype: float64"
      ]
     },
     "execution_count": 12,
     "metadata": {},
     "output_type": "execute_result"
    }
   ],
   "source": [
    "# Preparing GPD monthly growth (roughly aproximation)\n",
    "def quarter_to_month_resampler(arraylike):\n",
    "    return np.sum(arraylike)**(1. / 3)\n",
    "\n",
    "china_gdp_pc = df_chn_gdp['China_gdp_pc'].resample('M').apply(quarter_to_month_resampler).replace(float(0),None).pad()\n",
    "\n",
    "china_gdp_pc.head()"
   ]
  },
  {
   "cell_type": "code",
   "execution_count": 13,
   "metadata": {},
   "outputs": [
    {
     "data": {
      "text/html": [
       "<div>\n",
       "<style scoped>\n",
       "    .dataframe tbody tr th:only-of-type {\n",
       "        vertical-align: middle;\n",
       "    }\n",
       "\n",
       "    .dataframe tbody tr th {\n",
       "        vertical-align: top;\n",
       "    }\n",
       "\n",
       "    .dataframe thead th {\n",
       "        text-align: right;\n",
       "    }\n",
       "</style>\n",
       "<table border=\"1\" class=\"dataframe\">\n",
       "  <thead>\n",
       "    <tr style=\"text-align: right;\">\n",
       "      <th></th>\n",
       "      <th>Price</th>\n",
       "      <th>scrap_M1</th>\n",
       "      <th>steel_price</th>\n",
       "      <th>China_gdp_pc</th>\n",
       "    </tr>\n",
       "    <tr>\n",
       "      <th>Data</th>\n",
       "      <th></th>\n",
       "      <th></th>\n",
       "      <th></th>\n",
       "      <th></th>\n",
       "    </tr>\n",
       "  </thead>\n",
       "  <tbody>\n",
       "    <tr>\n",
       "      <th>1960-01-31</th>\n",
       "      <td>11.42</td>\n",
       "      <td>NaN</td>\n",
       "      <td>NaN</td>\n",
       "      <td>NaN</td>\n",
       "    </tr>\n",
       "    <tr>\n",
       "      <th>1960-02-29</th>\n",
       "      <td>11.42</td>\n",
       "      <td>NaN</td>\n",
       "      <td>NaN</td>\n",
       "      <td>NaN</td>\n",
       "    </tr>\n",
       "    <tr>\n",
       "      <th>1960-03-31</th>\n",
       "      <td>11.42</td>\n",
       "      <td>NaN</td>\n",
       "      <td>NaN</td>\n",
       "      <td>NaN</td>\n",
       "    </tr>\n",
       "    <tr>\n",
       "      <th>1960-04-30</th>\n",
       "      <td>11.42</td>\n",
       "      <td>NaN</td>\n",
       "      <td>NaN</td>\n",
       "      <td>NaN</td>\n",
       "    </tr>\n",
       "    <tr>\n",
       "      <th>1960-05-31</th>\n",
       "      <td>11.42</td>\n",
       "      <td>NaN</td>\n",
       "      <td>NaN</td>\n",
       "      <td>NaN</td>\n",
       "    </tr>\n",
       "  </tbody>\n",
       "</table>\n",
       "</div>"
      ],
      "text/plain": [
       "            Price  scrap_M1  steel_price  China_gdp_pc\n",
       "Data                                                  \n",
       "1960-01-31  11.42       NaN          NaN           NaN\n",
       "1960-02-29  11.42       NaN          NaN           NaN\n",
       "1960-03-31  11.42       NaN          NaN           NaN\n",
       "1960-04-30  11.42       NaN          NaN           NaN\n",
       "1960-05-31  11.42       NaN          NaN           NaN"
      ]
     },
     "execution_count": 13,
     "metadata": {},
     "output_type": "execute_result"
    }
   ],
   "source": [
    "# Preparing a dataset with endogenous and exogenous variables\n",
    "df_all = df.sort_index().copy()\n",
    "all_series = [scrap_price,steel_price,china_gdp_pc]\n",
    "for s in all_series:\n",
    "    df_all = df_all.join(s, how='left')\n",
    "df_all.head()"
   ]
  },
  {
   "cell_type": "code",
   "execution_count": 14,
   "metadata": {},
   "outputs": [
    {
     "data": {
      "text/html": [
       "<div>\n",
       "<style scoped>\n",
       "    .dataframe tbody tr th:only-of-type {\n",
       "        vertical-align: middle;\n",
       "    }\n",
       "\n",
       "    .dataframe tbody tr th {\n",
       "        vertical-align: top;\n",
       "    }\n",
       "\n",
       "    .dataframe thead th {\n",
       "        text-align: right;\n",
       "    }\n",
       "</style>\n",
       "<table border=\"1\" class=\"dataframe\">\n",
       "  <thead>\n",
       "    <tr style=\"text-align: right;\">\n",
       "      <th></th>\n",
       "      <th>Price</th>\n",
       "      <th>scrap_M1</th>\n",
       "      <th>steel_price</th>\n",
       "      <th>China_gdp_pc</th>\n",
       "    </tr>\n",
       "    <tr>\n",
       "      <th>Data</th>\n",
       "      <th></th>\n",
       "      <th></th>\n",
       "      <th></th>\n",
       "      <th></th>\n",
       "    </tr>\n",
       "  </thead>\n",
       "  <tbody>\n",
       "    <tr>\n",
       "      <th>2020-11-30</th>\n",
       "      <td>124.36</td>\n",
       "      <td>319.85</td>\n",
       "      <td>800.0</td>\n",
       "      <td>1.442250</td>\n",
       "    </tr>\n",
       "    <tr>\n",
       "      <th>2020-12-31</th>\n",
       "      <td>155.43</td>\n",
       "      <td>423.10</td>\n",
       "      <td>1005.0</td>\n",
       "      <td>1.442250</td>\n",
       "    </tr>\n",
       "    <tr>\n",
       "      <th>2021-01-31</th>\n",
       "      <td>169.63</td>\n",
       "      <td>453.26</td>\n",
       "      <td>1149.0</td>\n",
       "      <td>0.736806</td>\n",
       "    </tr>\n",
       "    <tr>\n",
       "      <th>2021-02-28</th>\n",
       "      <td>163.80</td>\n",
       "      <td>416.55</td>\n",
       "      <td>1264.0</td>\n",
       "      <td>0.736806</td>\n",
       "    </tr>\n",
       "    <tr>\n",
       "      <th>2021-03-31</th>\n",
       "      <td>168.18</td>\n",
       "      <td>436.33</td>\n",
       "      <td>1348.0</td>\n",
       "      <td>0.736806</td>\n",
       "    </tr>\n",
       "    <tr>\n",
       "      <th>2021-04-30</th>\n",
       "      <td>179.83</td>\n",
       "      <td>429.91</td>\n",
       "      <td>1505.0</td>\n",
       "      <td>1.091393</td>\n",
       "    </tr>\n",
       "    <tr>\n",
       "      <th>2021-05-31</th>\n",
       "      <td>207.72</td>\n",
       "      <td>499.82</td>\n",
       "      <td>1665.0</td>\n",
       "      <td>NaN</td>\n",
       "    </tr>\n",
       "    <tr>\n",
       "      <th>2021-06-30</th>\n",
       "      <td>214.43</td>\n",
       "      <td>500.55</td>\n",
       "      <td>1810.0</td>\n",
       "      <td>NaN</td>\n",
       "    </tr>\n",
       "    <tr>\n",
       "      <th>2021-07-31</th>\n",
       "      <td>214.14</td>\n",
       "      <td>484.84</td>\n",
       "      <td>1888.0</td>\n",
       "      <td>NaN</td>\n",
       "    </tr>\n",
       "    <tr>\n",
       "      <th>2021-08-31</th>\n",
       "      <td>162.16</td>\n",
       "      <td>NaN</td>\n",
       "      <td>1945.0</td>\n",
       "      <td>NaN</td>\n",
       "    </tr>\n",
       "  </tbody>\n",
       "</table>\n",
       "</div>"
      ],
      "text/plain": [
       "             Price  scrap_M1  steel_price  China_gdp_pc\n",
       "Data                                                   \n",
       "2020-11-30  124.36    319.85        800.0      1.442250\n",
       "2020-12-31  155.43    423.10       1005.0      1.442250\n",
       "2021-01-31  169.63    453.26       1149.0      0.736806\n",
       "2021-02-28  163.80    416.55       1264.0      0.736806\n",
       "2021-03-31  168.18    436.33       1348.0      0.736806\n",
       "2021-04-30  179.83    429.91       1505.0      1.091393\n",
       "2021-05-31  207.72    499.82       1665.0           NaN\n",
       "2021-06-30  214.43    500.55       1810.0           NaN\n",
       "2021-07-31  214.14    484.84       1888.0           NaN\n",
       "2021-08-31  162.16       NaN       1945.0           NaN"
      ]
     },
     "execution_count": 14,
     "metadata": {},
     "output_type": "execute_result"
    }
   ],
   "source": [
    "df_all.tail(10)"
   ]
  },
  {
   "cell_type": "markdown",
   "metadata": {},
   "source": [
    "## 3. Exploratory Data Analysis"
   ]
  },
  {
   "cell_type": "markdown",
   "metadata": {},
   "source": [
    "### 3.1 Overview of Historical Data"
   ]
  },
  {
   "cell_type": "code",
   "execution_count": 15,
   "metadata": {
    "scrolled": false
   },
   "outputs": [
    {
     "data": {
      "text/plain": [
       "<Figure size 1152x504 with 0 Axes>"
      ]
     },
     "metadata": {},
     "output_type": "display_data"
    },
    {
     "data": {
      "image/png": "[encoded data removed]",
      "text/plain": [
       "<Figure size 432x288 with 1 Axes>"
      ]
     },
     "metadata": {},
     "output_type": "display_data"
    }
   ],
   "source": [
    "plt.figure(figsize = (16,7))\n",
    "df_all[['Price','scrap_M1','steel_price']].plot()\n",
    "plt.show()"
   ]
  },
  {
   "cell_type": "markdown",
   "metadata": {},
   "source": [
    "### 3.2 Iron Ore Prices EDA"
   ]
  },
  {
   "cell_type": "markdown",
   "metadata": {},
   "source": [
    "As it is possible to infer from the above chart, there is minor variation on the iron ore prices before 2005. So, only the most recent data starting on 2005 will be investigated.  \n",
    "  \n",
    "Historical prices series are typical time series data. The iron ore prices will be investigated using time series approach. \n",
    "It can present trend and seasonality.\n",
    "\n",
    "When data have a trend, the autocorrelations for small lags tend to be large and positive because observations nearby in time are also nearby in size. So the ACF of trended time series tend to have positive values that slowly decrease as the lags increase. When data are seasonal, the autocorrelations will be larger for the seasonal lags (at multiples of the seasonal frequency) than for other lags (https://otexts.com/fpp2/autocorrelation.html)\n",
    "\n",
    "When data are both trended and seasonal, you see a combination of these effects. \n",
    "\n",
    "Let's take a look at:  \n",
    "- Auto Correlation plot\n",
    "- Lag plot"
   ]
  },
  {
   "cell_type": "code",
   "execution_count": 16,
   "metadata": {},
   "outputs": [
    {
     "data": {
      "image/png": "[encoded data removed]",
      "text/plain": [
       "<Figure size 432x288 with 1 Axes>"
      ]
     },
     "metadata": {},
     "output_type": "display_data"
    }
   ],
   "source": [
    "# Subset the original series to only most recent data (>2005)\n",
    "df = df[df.index>='2005'].copy()\n",
    "df['Price'].plot();"
   ]
  },
  {
   "cell_type": "code",
   "execution_count": 17,
   "metadata": {},
   "outputs": [
    {
     "name": "stdout",
     "output_type": "stream",
     "text": [
      "The iron ore prices over the period from 2005 to 2021 ranges from US$40.5 to US$214.43.\n"
     ]
    },
    {
     "data": {
      "text/plain": [
       "count    200.000000\n",
       "mean     104.976116\n",
       "std       43.516408\n",
       "min       40.500000\n",
       "25%       67.300000\n",
       "50%       91.937000\n",
       "75%      136.721250\n",
       "max      214.430000\n",
       "Name: Price, dtype: float64"
      ]
     },
     "execution_count": 17,
     "metadata": {},
     "output_type": "execute_result"
    }
   ],
   "source": [
    "print(\"The iron ore prices over the period from {0} to {1} ranges from US${2} to US${3}.\"\\\n",
    ".format(df.index.min().year,df.index.max().year,df['Price'].min(), df['Price'].max()))\n",
    "df['Price'].describe()"
   ]
  },
  {
   "cell_type": "markdown",
   "metadata": {},
   "source": [
    "There is a sharp decrease in prices around 2008-2009; this is due to financial crisis in 2008."
   ]
  },
  {
   "cell_type": "markdown",
   "metadata": {},
   "source": [
    "**Auto Correlation Plot - Comments:**  \n",
    "We can see from the chart below that there is a positive correlation with the first ~40 lags that is significant for the about first 12 lags.  \n",
    "The stronger correlations values (>0.5) are about 8 lags.  \n",
    "It is interesting to see that after 50 lags the autocorrelation turns to be significant again, but negative. Perhaps this could be due to a cyclic movement - a business cycle. The most negative correlation can be observed at 60 lags. It is not possible to see a clear seasonality effect."
   ]
  },
  {
   "cell_type": "code",
   "execution_count": 18,
   "metadata": {},
   "outputs": [
    {
     "data": {
      "image/png": "[encoded data removed]",
      "text/plain": [
       "<Figure size 432x288 with 1 Axes>"
      ]
     },
     "metadata": {},
     "output_type": "display_data"
    }
   ],
   "source": [
    "pd.plotting.autocorrelation_plot(df['Price']);"
   ]
  },
  {
   "cell_type": "markdown",
   "metadata": {},
   "source": [
    "**Lag Plot - Comments:**  \n",
    "A Lag plot is a scatter plot of a time series against a lag of itself. It is also used to check for autocorrelation. If there is any pattern existing in the series, the series is autocorrelated. If there is no such pattern, the series is likely to be random white noise.  \n",
    "As it can be seen in the chart below, there's a strong linear pattern between the iron ore price and its lag."
   ]
  },
  {
   "cell_type": "code",
   "execution_count": 19,
   "metadata": {},
   "outputs": [
    {
     "data": {
      "image/png": "[encoded data removed]",
      "text/plain": [
       "<Figure size 432x288 with 1 Axes>"
      ]
     },
     "metadata": {},
     "output_type": "display_data"
    }
   ],
   "source": [
    "pd.plotting.lag_plot(df['Price']);"
   ]
  },
  {
   "cell_type": "markdown",
   "metadata": {},
   "source": [
    "#### Testing for Stationarity  \n",
    "\"A stationary time series is one whose properties do not depend on the time at which the series is observed. Thus, time series with trends, or with seasonality, are not stationary — the trend and seasonality will affect the value of the time series at different times. On the other hand, a white noise series is stationary — it does not matter when you observe it, it should look much the same at any point in time.\"(https://otexts.com/fpp2/stationarity.html)\n",
    "\n",
    "Several tests can be performed to infer whether a series is stationary or not. The null hypothesis is that the data are stationary, and the test look for evidence that the null hypothesis is false. Consequently, small p-values (e.g., less than 0.05) suggest that differencing is required. The AdFuller test and the Kwiatkowski-Phillips-Schmidt-Shin (KPSS) test area examples of stationarity tests."
   ]
  },
  {
   "cell_type": "code",
   "execution_count": 20,
   "metadata": {},
   "outputs": [
    {
     "name": "stdout",
     "output_type": "stream",
     "text": [
      "ADF Test Statistic : -2.7863168879054623\n",
      "p-value : 0.06025504181421079\n",
      "Number of Lags Used : 1\n",
      "Number of Observations Used : 198\n",
      "Weak evidence against null hypothesis: it indicates that the series is non-stationary.\n"
     ]
    }
   ],
   "source": [
    "### Testing For Stationarity\n",
    "def adfuller_test(s):\n",
    "    \"\"\"\n",
    "    Input:\n",
    "    s: series to test for stationarity\n",
    "    \n",
    "    Description:\n",
    "    Stationary data means data which has no trend with respect to the time\n",
    "    Ho: It is non stationary\n",
    "    H1: It is stationary\n",
    "    \"\"\"\n",
    "    result= sm.tsa.stattools.adfuller(s)\n",
    "    labels = ['ADF Test Statistic','p-value','Number of Lags Used','Number of Observations Used']\n",
    "    for value,label in zip(result,labels):\n",
    "        print(label+' : '+str(value) )\n",
    "    if result[1] <= 0.05:\n",
    "        print(\"P value is less than 0.05: Reject the null hypothesis(Ho) for non stationary series.\")\n",
    "    else:\n",
    "        print(\"Weak evidence against null hypothesis: it indicates that the series is non-stationary.\")\n",
    "\n",
    "adfuller_test(df['Price'])"
   ]
  },
  {
   "cell_type": "code",
   "execution_count": 21,
   "metadata": {},
   "outputs": [
    {
     "name": "stdout",
     "output_type": "stream",
     "text": [
      "\n",
      "KPSS Statistic for level: 0.149973\n",
      "p-value: 0.100000\n",
      "\n",
      "KPSS Statistic for trend: 0.135966\n",
      "p-value: 0.068581\n"
     ]
    }
   ],
   "source": [
    "# Test for trend and seasonality\n",
    "# KPSS Test\n",
    "def kpss_test(series):\n",
    "    \"\"\"\n",
    "    Input: series to test for stationarity\n",
    "    \n",
    "    Description: the Kwiatkowski-Phillips-Schmidt-Shin (KPSS) test for the null hypothesis that the series is level or trend stationary.\n",
    "    \"\"\"\n",
    "result = sm.tsa.stattools.kpss(df['Price'], regression='c')\n",
    "print('\\nKPSS Statistic for level: %f' % result[0])\n",
    "print('p-value: %f' % result[1])\n",
    "#for key, value in result[3].items():\n",
    "#    print('Critical Values:')\n",
    "#    print(f'   {key}, {value}')\n",
    "result = sm.tsa.stattools.kpss(df['Price'], regression='ct')\n",
    "print('\\nKPSS Statistic for trend: %f' % result[0])\n",
    "print('p-value: %f' % result[1])\n",
    "#for key, value in result[3].items():\n",
    "#    print('Critical Values:')\n",
    "#    print(f'   {key}, {value}')"
   ]
  },
  {
   "cell_type": "markdown",
   "metadata": {},
   "source": [
    "### 3.3 Exogenous Variables EDA"
   ]
  },
  {
   "cell_type": "markdown",
   "metadata": {},
   "source": [
    "Ref: https://www.statsmodels.org/stable/generated/statsmodels.tsa.stattools.grangercausalitytests.html  \n",
    "\"The Null hypothesis for grangercausalitytests is that the time series in the second column, x2, does NOT Granger cause the time series in the first column, x1. Grange causality means that past values of x2 have a statistically significant effect on the current value of x1, taking past values of x1 into account as regressors. We reject the null hypothesis that x2 does not Granger cause x1 if the pvalues are below a desired size of the test.\n",
    "\n",
    "The null hypothesis for all four test is that the coefficients corresponding to past values of the second time series are zero.\n",
    "So the Null hypothesis is: the series in the second column, does not Granger cause the series in the first. If the P-Values are less than a significance level (0.05) then you reject the null hypothesis and conclude that the said lag of X is indeed useful.\""
   ]
  },
  {
   "cell_type": "code",
   "execution_count": 22,
   "metadata": {},
   "outputs": [],
   "source": [
    "exogenous = df_all[['scrap_M1','steel_price','China_gdp_pc']]"
   ]
  },
  {
   "cell_type": "code",
   "execution_count": 23,
   "metadata": {},
   "outputs": [
    {
     "name": "stdout",
     "output_type": "stream",
     "text": [
      "scrap_M1\n",
      "\n",
      "Granger Causality\n",
      "number of lags (no zero) 1\n",
      "ssr based F test:         F=0.6967  , p=0.4070  , df_denom=65, df_num=1\n",
      "ssr based chi2 test:   chi2=0.7289  , p=0.3933  , df=1\n",
      "likelihood ratio test: chi2=0.7250  , p=0.3945  , df=1\n",
      "parameter F test:         F=0.6967  , p=0.4070  , df_denom=65, df_num=1\n",
      "\n",
      "Granger Causality\n",
      "number of lags (no zero) 2\n",
      "ssr based F test:         F=0.5826  , p=0.5614  , df_denom=62, df_num=2\n",
      "ssr based chi2 test:   chi2=1.2593  , p=0.5328  , df=2\n",
      "likelihood ratio test: chi2=1.2476  , p=0.5359  , df=2\n",
      "parameter F test:         F=0.5826  , p=0.5614  , df_denom=62, df_num=2\n",
      "\n",
      "Granger Causality\n",
      "number of lags (no zero) 3\n",
      "ssr based F test:         F=0.1288  , p=0.9426  , df_denom=59, df_num=3\n",
      "ssr based chi2 test:   chi2=0.4323  , p=0.9335  , df=3\n",
      "likelihood ratio test: chi2=0.4309  , p=0.9338  , df=3\n",
      "parameter F test:         F=0.1288  , p=0.9426  , df_denom=59, df_num=3\n",
      "\n",
      "Granger Causality\n",
      "number of lags (no zero) 4\n",
      "ssr based F test:         F=0.0836  , p=0.9871  , df_denom=56, df_num=4\n",
      "ssr based chi2 test:   chi2=0.3882  , p=0.9834  , df=4\n",
      "likelihood ratio test: chi2=0.3870  , p=0.9835  , df=4\n",
      "parameter F test:         F=0.0836  , p=0.9871  , df_denom=56, df_num=4\n",
      "\n",
      "Granger Causality\n",
      "number of lags (no zero) 5\n",
      "ssr based F test:         F=0.1636  , p=0.9748  , df_denom=53, df_num=5\n",
      "ssr based chi2 test:   chi2=0.9877  , p=0.9636  , df=5\n",
      "likelihood ratio test: chi2=0.9801  , p=0.9642  , df=5\n",
      "parameter F test:         F=0.1636  , p=0.9748  , df_denom=53, df_num=5\n",
      "\n",
      "Granger Causality\n",
      "number of lags (no zero) 6\n",
      "ssr based F test:         F=0.0958  , p=0.9965  , df_denom=50, df_num=6\n",
      "ssr based chi2 test:   chi2=0.7240  , p=0.9940  , df=6\n",
      "likelihood ratio test: chi2=0.7199  , p=0.9941  , df=6\n",
      "parameter F test:         F=0.0958  , p=0.9965  , df_denom=50, df_num=6\n",
      "\n",
      "steel_price\n",
      "\n",
      "Granger Causality\n",
      "number of lags (no zero) 1\n",
      "ssr based F test:         F=0.1758  , p=0.6756  , df_denom=150, df_num=1\n",
      "ssr based chi2 test:   chi2=0.1794  , p=0.6719  , df=1\n",
      "likelihood ratio test: chi2=0.1793  , p=0.6720  , df=1\n",
      "parameter F test:         F=0.1758  , p=0.6756  , df_denom=150, df_num=1\n",
      "\n",
      "Granger Causality\n",
      "number of lags (no zero) 2\n",
      "ssr based F test:         F=2.4004  , p=0.0942  , df_denom=147, df_num=2\n",
      "ssr based chi2 test:   chi2=4.9642  , p=0.0836  , df=2\n",
      "likelihood ratio test: chi2=4.8849  , p=0.0869  , df=2\n",
      "parameter F test:         F=2.4004  , p=0.0942  , df_denom=147, df_num=2\n",
      "\n",
      "Granger Causality\n",
      "number of lags (no zero) 3\n",
      "ssr based F test:         F=2.0979  , p=0.1031  , df_denom=144, df_num=3\n",
      "ssr based chi2 test:   chi2=6.5996  , p=0.0858  , df=3\n",
      "likelihood ratio test: chi2=6.4595  , p=0.0913  , df=3\n",
      "parameter F test:         F=2.0979  , p=0.1031  , df_denom=144, df_num=3\n",
      "\n",
      "Granger Causality\n",
      "number of lags (no zero) 4\n",
      "ssr based F test:         F=1.6860  , p=0.1565  , df_denom=141, df_num=4\n",
      "ssr based chi2 test:   chi2=7.1744  , p=0.1270  , df=4\n",
      "likelihood ratio test: chi2=7.0081  , p=0.1355  , df=4\n",
      "parameter F test:         F=1.6860  , p=0.1565  , df_denom=141, df_num=4\n",
      "\n",
      "Granger Causality\n",
      "number of lags (no zero) 5\n",
      "ssr based F test:         F=1.3594  , p=0.2434  , df_denom=138, df_num=5\n",
      "ssr based chi2 test:   chi2=7.3389  , p=0.1966  , df=5\n",
      "likelihood ratio test: chi2=7.1639  , p=0.2087  , df=5\n",
      "parameter F test:         F=1.3594  , p=0.2434  , df_denom=138, df_num=5\n",
      "\n",
      "Granger Causality\n",
      "number of lags (no zero) 6\n",
      "ssr based F test:         F=1.0460  , p=0.3985  , df_denom=135, df_num=6\n",
      "ssr based chi2 test:   chi2=6.8801  , p=0.3321  , df=6\n",
      "likelihood ratio test: chi2=6.7249  , p=0.3470  , df=6\n",
      "parameter F test:         F=1.0460  , p=0.3985  , df_denom=135, df_num=6\n",
      "\n",
      "China_gdp_pc\n",
      "\n",
      "Granger Causality\n",
      "number of lags (no zero) 1\n",
      "ssr based F test:         F=2.8283  , p=0.0952  , df_denom=120, df_num=1\n",
      "ssr based chi2 test:   chi2=2.8990  , p=0.0886  , df=1\n",
      "likelihood ratio test: chi2=2.8654  , p=0.0905  , df=1\n",
      "parameter F test:         F=2.8283  , p=0.0952  , df_denom=120, df_num=1\n",
      "\n",
      "Granger Causality\n",
      "number of lags (no zero) 2\n",
      "ssr based F test:         F=0.9827  , p=0.3774  , df_denom=117, df_num=2\n",
      "ssr based chi2 test:   chi2=2.0495  , p=0.3589  , df=2\n",
      "likelihood ratio test: chi2=2.0325  , p=0.3620  , df=2\n",
      "parameter F test:         F=0.9827  , p=0.3774  , df_denom=117, df_num=2\n",
      "\n",
      "Granger Causality\n",
      "number of lags (no zero) 3\n",
      "ssr based F test:         F=1.0607  , p=0.3688  , df_denom=114, df_num=3\n",
      "ssr based chi2 test:   chi2=3.3774  , p=0.3370  , df=3\n",
      "likelihood ratio test: chi2=3.3311  , p=0.3433  , df=3\n",
      "parameter F test:         F=1.0607  , p=0.3688  , df_denom=114, df_num=3\n",
      "\n",
      "Granger Causality\n",
      "number of lags (no zero) 4\n",
      "ssr based F test:         F=1.0195  , p=0.4005  , df_denom=111, df_num=4\n",
      "ssr based chi2 test:   chi2=4.4088  , p=0.3535  , df=4\n",
      "likelihood ratio test: chi2=4.3297  , p=0.3632  , df=4\n",
      "parameter F test:         F=1.0195  , p=0.4005  , df_denom=111, df_num=4\n",
      "\n",
      "Granger Causality\n",
      "number of lags (no zero) 5\n",
      "ssr based F test:         F=1.0612  , p=0.3860  , df_denom=108, df_num=5\n",
      "ssr based chi2 test:   chi2=5.8465  , p=0.3214  , df=5\n",
      "likelihood ratio test: chi2=5.7074  , p=0.3357  , df=5\n",
      "parameter F test:         F=1.0612  , p=0.3860  , df_denom=108, df_num=5\n",
      "\n",
      "Granger Causality\n",
      "number of lags (no zero) 6\n",
      "ssr based F test:         F=2.8713  , p=0.0125  , df_denom=105, df_num=6\n",
      "ssr based chi2 test:   chi2=19.3608 , p=0.0036  , df=6\n",
      "likelihood ratio test: chi2=17.9273 , p=0.0064  , df=6\n",
      "parameter F test:         F=2.8713  , p=0.0125  , df_denom=105, df_num=6\n",
      "\n"
     ]
    }
   ],
   "source": [
    "# Test for causality - over a 6-month period\n",
    "for s in exogenous:\n",
    "    print(s)\n",
    "    sm.tsa.stattools.grangercausalitytests(df_all[['Price', s]].dropna(), maxlag=6)\n",
    "    print()"
   ]
  },
  {
   "cell_type": "markdown",
   "metadata": {},
   "source": [
    "**Comments from Granger Causality Tests Results (taking p-value 10% as significant:**  \n",
    "- Scrap prices don't make Iron Ore prices to change.  \n",
    "- Steel prices from past 2nd and 3rd months make Iron Ore prices to change.  \n",
    "- China GDP Growth from 1st and 6th previous months make Iron Ore prices to change."
   ]
  },
  {
   "cell_type": "markdown",
   "metadata": {},
   "source": [
    "### Insights from EDA results:  \n",
    "1) ACF Plot and Lag Plot show that past values are important to determine future values of iron ore prices. The stationarity tests (the AdFuller test and the Kwiatkowski-Phillips-Schmidt-Shin (KPSS)) also have shown that iron ore prices is a non-stationary series. So a simple linear regression model won't be a suitable model as this kind of model doesn't cover the autoregressive component. A time series approach like ARIMA should be more appropriate.  \n",
    "2) Some exogenous variables were considered to be important variables as they can influence the iron ore prices from the demand perspective. A set of Granger Causality tests were carried out for the main exogenous variables, but for two of them it's shown to be relevant: past steel prices (lags 2 and 3) and China GDP Growth from previous months (lags 1 and 6).\n",
    "\n",
    "**EDA Directions to Modeling Phase:**  \n",
    "An ARIMAX Model should be evaluated to iron ore prices forecasting, as it is a non-stationary series and it has relevant exogenous variables which influences its values."
   ]
  },
  {
   "cell_type": "markdown",
   "metadata": {},
   "source": [
    "## 4. Modeling"
   ]
  },
  {
   "cell_type": "markdown",
   "metadata": {},
   "source": [
    "### 4.0 Preparation for Modeling\n",
    "Defining functions for Modeling"
   ]
  },
  {
   "cell_type": "code",
   "execution_count": 24,
   "metadata": {},
   "outputs": [],
   "source": [
    "# Accuracy metrics\n",
    "def forecast_accuracy(y_forecast, y_true):\n",
    "    \"\"\"\n",
    "    This function summarizes the main evaluation metrics for the forecasting model\n",
    "    \n",
    "    Inputs: \n",
    "    y_forecast: series of predicted values from the model\n",
    "    y_true: series of true values \n",
    "    \n",
    "    Returns: a dictionary with evaluation metrics\n",
    "\n",
    "    \"\"\"\n",
    "    mape = np.mean(np.abs(y_forecast - y_true)/np.abs(y_true))  # MAPE\n",
    "    me = np.mean(y_forecast - y_true)             # ME\n",
    "    mae = np.mean(np.abs(y_forecast - y_true))    # MAE\n",
    "    mpe = np.mean((y_forecast - y_true)/y_true)   # MPE\n",
    "    rmse = np.mean((y_forecast - y_true)**2)**.5  # RMSE\n",
    "    corr = np.corrcoef(y_forecast, y_true)[0,1]   # corr\n",
    "    mins = np.amin(np.hstack([y_forecast[:,None], y_true[:,None]]), axis=1)\n",
    "    maxs = np.amax(np.hstack([y_forecast[:,None], y_true[:,None]]), axis=1)\n",
    "    minmax = 1 - np.mean(mins/maxs)             # minmax\n",
    "    acf1 = sm.tsa.stattools.acf(y_forecast)[1]    # ACF1 - for residues evaluation\n",
    "    return({'mape':mape, 'me':me, 'mae': mae, \n",
    "            'mpe': mpe, 'rmse':rmse, 'acf1':acf1, \n",
    "            'corr':corr, 'minmax':minmax})"
   ]
  },
  {
   "cell_type": "code",
   "execution_count": 25,
   "metadata": {},
   "outputs": [],
   "source": [
    "# Feature Engineering from EDA results\n",
    "\n",
    "df_all['steel_lag2'] = df_all['steel_price'].shift(2)\n",
    "df_all['steel_lag3'] = df_all['steel_price'].shift(3)\n",
    "\n",
    "df_all['china_gdp_ch_lag1'] = df_all['China_gdp_pc'].shift(1)\n",
    "df_all['china_gdp_ch_lag6'] = df_all['China_gdp_pc'].shift(6)"
   ]
  },
  {
   "cell_type": "code",
   "execution_count": 26,
   "metadata": {},
   "outputs": [],
   "source": [
    "# Preparing dataset for modeling\n",
    "df_model = df_all.dropna().copy()\n",
    "exog_model = ['steel_lag2','steel_lag3','china_gdp_ch_lag1','china_gdp_ch_lag6']"
   ]
  },
  {
   "cell_type": "markdown",
   "metadata": {},
   "source": [
    "### 4.1 Simple Modeling\n",
    "The results from EDA Phase suggest that the ARIMAX model would be an appropriate approach as it can deal with the non-stationarity of the series and the influence of exogenous variables."
   ]
  },
  {
   "cell_type": "code",
   "execution_count": 27,
   "metadata": {},
   "outputs": [],
   "source": [
    "# split in train and test datasets\n",
    "TEST_SIZE = .1\n",
    "train = df_model[:int(df_model.shape[0]*(1-TEST_SIZE))]\n",
    "test = df_model[int(df_model.shape[0]*(1-TEST_SIZE)):]"
   ]
  },
  {
   "cell_type": "code",
   "execution_count": 28,
   "metadata": {},
   "outputs": [
    {
     "name": "stdout",
     "output_type": "stream",
     "text": [
      "                               SARIMAX Results                                \n",
      "==============================================================================\n",
      "Dep. Variable:                  Price   No. Observations:                   59\n",
      "Model:                 ARIMA(8, 1, 0)   Log Likelihood                -192.390\n",
      "Date:                Tue, 12 Oct 2021   AIC                            410.779\n",
      "Time:                        14:01:39   BIC                            437.565\n",
      "Sample:                    11-30-2015   HQIC                           421.213\n",
      "                         - 09-30-2020                                         \n",
      "Covariance Type:                  opg                                         \n",
      "=====================================================================================\n",
      "                        coef    std err          z      P>|z|      [0.025      0.975]\n",
      "-------------------------------------------------------------------------------------\n",
      "steel_lag2           -0.0148      0.030     -0.491      0.623      -0.074       0.044\n",
      "steel_lag3           -0.0060      0.029     -0.206      0.837      -0.064       0.052\n",
      "china_gdp_ch_lag1     3.0602      4.092      0.748      0.455      -4.960      11.080\n",
      "china_gdp_ch_lag6    26.8431     30.171      0.890      0.374     -32.290      85.976\n",
      "ar.L1                 0.2923      0.184      1.589      0.112      -0.068       0.653\n",
      "ar.L2                -0.3046      0.195     -1.560      0.119      -0.687       0.078\n",
      "ar.L3                 0.0688      0.231      0.298      0.765      -0.383       0.521\n",
      "ar.L4                -0.2465      0.264     -0.933      0.351      -0.765       0.272\n",
      "ar.L5                 0.1685      0.225      0.749      0.454      -0.272       0.609\n",
      "ar.L6                -0.0460      0.173     -0.266      0.791      -0.385       0.293\n",
      "ar.L7                -0.0948      0.228     -0.416      0.677      -0.541       0.352\n",
      "ar.L8                 0.1580      0.203      0.778      0.436      -0.240       0.556\n",
      "sigma2               43.1209     10.665      4.043      0.000      22.219      64.023\n",
      "===================================================================================\n",
      "Ljung-Box (L1) (Q):                   0.03   Jarque-Bera (JB):                26.87\n",
      "Prob(Q):                              0.85   Prob(JB):                         0.00\n",
      "Heteroskedasticity (H):               1.72   Skew:                            -1.03\n",
      "Prob(H) (two-sided):                  0.25   Kurtosis:                         5.61\n",
      "===================================================================================\n",
      "\n",
      "Warnings:\n",
      "[1] Covariance matrix calculated using the outer product of gradients (complex-step).\n"
     ]
    }
   ],
   "source": [
    "# fit model\n",
    "model = arima.model.ARIMA(train['Price'], \n",
    "                          exog=train[exog_model], \n",
    "                          order=(8,1,0), \n",
    "                          dates = train.index) \n",
    "arimax = model.fit()\n",
    "# summary of fit model\n",
    "print(arimax.summary())"
   ]
  },
  {
   "cell_type": "code",
   "execution_count": 29,
   "metadata": {},
   "outputs": [],
   "source": [
    "# predictions\n",
    "forecast = arimax.predict(start=test.index.min(), end=test.index.max(), exog=[test[exog_model]], return_conf_int=True, alpha=0.05)"
   ]
  },
  {
   "cell_type": "code",
   "execution_count": 30,
   "metadata": {},
   "outputs": [
    {
     "data": {
      "image/png": "[encoded data removed]",
      "text/plain": [
       "<Figure size 1200x500 with 1 Axes>"
      ]
     },
     "metadata": {},
     "output_type": "display_data"
    }
   ],
   "source": [
    "# predictions to series\n",
    "fc_series = pd.Series(forecast, index=test.index)\n",
    "#lower_series = pd.Series(conf[:, 0], index=test.index)\n",
    "#upper_series = pd.Series(conf[:, 1], index=test.index)\n",
    "\n",
    "# Plot\n",
    "plt.figure(figsize=(12,5), dpi=100)\n",
    "plt.plot(train['Price'], label='training')\n",
    "plt.plot(test['Price'], label='actual')\n",
    "plt.plot(fc_series, label='forecast')\n",
    "#plt.fill_between(lower_series.index, lower_series, upper_series, color='k', alpha=.15)\n",
    "plt.title('Forecast vs Actuals')\n",
    "plt.legend(loc='upper left', fontsize=8)\n",
    "plt.show()"
   ]
  },
  {
   "cell_type": "code",
   "execution_count": 31,
   "metadata": {},
   "outputs": [
    {
     "data": {
      "image/png": "[encoded data removed]",
      "text/plain": [
       "<Figure size 432x288 with 1 Axes>"
      ]
     },
     "metadata": {},
     "output_type": "display_data"
    },
    {
     "data": {
      "image/png": "[encoded data removed]",
      "text/plain": [
       "<Figure size 432x288 with 1 Axes>"
      ]
     },
     "metadata": {},
     "output_type": "display_data"
    }
   ],
   "source": [
    "# residuals analysis\n",
    "residuals = pd.DataFrame(arimax.resid)\n",
    "residuals.plot()\n",
    "plt.show()\n",
    "\n",
    "residuals.plot(kind='kde')\n",
    "plt.show()"
   ]
  },
  {
   "cell_type": "markdown",
   "metadata": {},
   "source": [
    "### 4.2 Modeling - tuning hyperparameters"
   ]
  },
  {
   "cell_type": "markdown",
   "metadata": {},
   "source": [
    "Using the package _pmdarima_ for automaticaly detection of the best parameters for arima modeling."
   ]
  },
  {
   "cell_type": "code",
   "execution_count": 32,
   "metadata": {},
   "outputs": [],
   "source": [
    "# Split the dataset into train and test subsets\n",
    "# split in train and test datasets\n",
    "TEST_SIZE = .1\n",
    "y = df_model['Price']\n",
    "X = df_model[exog_model]\n",
    "y_train, y_test, X_train, X_test = pm.model_selection.train_test_split(y, X, test_size=TEST_SIZE)"
   ]
  },
  {
   "cell_type": "code",
   "execution_count": 33,
   "metadata": {},
   "outputs": [
    {
     "name": "stdout",
     "output_type": "stream",
     "text": [
      "Performing stepwise search to minimize aic\n",
      " ARIMA(2,1,2)(0,0,0)[0] intercept   : AIC=407.242, Time=0.08 sec\n",
      " ARIMA(0,1,0)(0,0,0)[0] intercept   : AIC=405.378, Time=0.06 sec\n",
      " ARIMA(1,1,0)(0,0,0)[0] intercept   : AIC=406.160, Time=0.05 sec\n",
      " ARIMA(0,1,1)(0,0,0)[0] intercept   : AIC=405.244, Time=0.07 sec\n",
      " ARIMA(0,1,0)(0,0,0)[0]             : AIC=405.636, Time=0.07 sec\n",
      " ARIMA(1,1,1)(0,0,0)[0] intercept   : AIC=405.977, Time=0.05 sec\n",
      " ARIMA(0,1,2)(0,0,0)[0] intercept   : AIC=403.347, Time=0.06 sec\n",
      " ARIMA(1,1,2)(0,0,0)[0] intercept   : AIC=405.260, Time=0.08 sec\n",
      " ARIMA(0,1,3)(0,0,0)[0] intercept   : AIC=405.415, Time=0.06 sec\n",
      " ARIMA(1,1,3)(0,0,0)[0] intercept   : AIC=407.621, Time=0.06 sec\n",
      " ARIMA(0,1,2)(0,0,0)[0]             : AIC=404.083, Time=0.05 sec\n",
      "\n",
      "Best model:  ARIMA(0,1,2)(0,0,0)[0] intercept\n",
      "Total fit time: 0.696 seconds\n"
     ]
    }
   ],
   "source": [
    "# Fit an auto_arima model\n",
    "\n",
    "# As the ACF increases and decreases, we may need some differencing. \n",
    "# There also does not appear to be an obvious seasonal# trend.\n",
    "n_diffs = pm.arima.ndiffs(y_train, max_d=5)\n",
    "\n",
    "arima = pm.auto_arima(d=n_diffs,\n",
    "                      y = y_train, \n",
    "                      X = X_train, error_action='ignore', trace=True,\n",
    "                      suppress_warnings=True, maxiter=5,\n",
    "                      #seasonal=True, m=12\n",
    "                     )"
   ]
  },
  {
   "cell_type": "code",
   "execution_count": 34,
   "metadata": {},
   "outputs": [
    {
     "data": {
      "text/html": [
       "<table class=\"simpletable\">\n",
       "<caption>SARIMAX Results</caption>\n",
       "<tr>\n",
       "  <th>Dep. Variable:</th>           <td>y</td>        <th>  No. Observations:  </th>    <td>59</td>   \n",
       "</tr>\n",
       "<tr>\n",
       "  <th>Model:</th>           <td>SARIMAX(0, 1, 2)</td> <th>  Log Likelihood     </th> <td>-193.674</td>\n",
       "</tr>\n",
       "<tr>\n",
       "  <th>Date:</th>            <td>Tue, 12 Oct 2021</td> <th>  AIC                </th>  <td>403.347</td>\n",
       "</tr>\n",
       "<tr>\n",
       "  <th>Time:</th>                <td>14:01:41</td>     <th>  BIC                </th>  <td>419.831</td>\n",
       "</tr>\n",
       "<tr>\n",
       "  <th>Sample:</th>             <td>11-30-2015</td>    <th>  HQIC               </th>  <td>409.768</td>\n",
       "</tr>\n",
       "<tr>\n",
       "  <th></th>                   <td>- 09-30-2020</td>   <th>                     </th>     <td> </td>   \n",
       "</tr>\n",
       "<tr>\n",
       "  <th>Covariance Type:</th>        <td>opg</td>       <th>                     </th>     <td> </td>   \n",
       "</tr>\n",
       "</table>\n",
       "<table class=\"simpletable\">\n",
       "<tr>\n",
       "          <td></td>             <th>coef</th>     <th>std err</th>      <th>z</th>      <th>P>|z|</th>  <th>[0.025</th>    <th>0.975]</th>  \n",
       "</tr>\n",
       "<tr>\n",
       "  <th>intercept</th>         <td>    1.4222</td> <td>    1.054</td> <td>    1.349</td> <td> 0.177</td> <td>   -0.644</td> <td>    3.489</td>\n",
       "</tr>\n",
       "<tr>\n",
       "  <th>steel_lag2</th>        <td>   -0.0231</td> <td>    0.032</td> <td>   -0.727</td> <td> 0.467</td> <td>   -0.085</td> <td>    0.039</td>\n",
       "</tr>\n",
       "<tr>\n",
       "  <th>steel_lag3</th>        <td>   -0.0111</td> <td>    0.039</td> <td>   -0.287</td> <td> 0.774</td> <td>   -0.087</td> <td>    0.065</td>\n",
       "</tr>\n",
       "<tr>\n",
       "  <th>china_gdp_ch_lag1</th> <td>   -0.7021</td> <td>    4.629</td> <td>   -0.152</td> <td> 0.879</td> <td>   -9.775</td> <td>    8.371</td>\n",
       "</tr>\n",
       "<tr>\n",
       "  <th>china_gdp_ch_lag6</th> <td>   24.9542</td> <td>   29.671</td> <td>    0.841</td> <td> 0.400</td> <td>  -33.201</td> <td>   83.109</td>\n",
       "</tr>\n",
       "<tr>\n",
       "  <th>ma.L1</th>             <td>    0.1704</td> <td>    0.221</td> <td>    0.772</td> <td> 0.440</td> <td>   -0.262</td> <td>    0.603</td>\n",
       "</tr>\n",
       "<tr>\n",
       "  <th>ma.L2</th>             <td>   -0.3319</td> <td>    0.162</td> <td>   -2.047</td> <td> 0.041</td> <td>   -0.650</td> <td>   -0.014</td>\n",
       "</tr>\n",
       "<tr>\n",
       "  <th>sigma2</th>            <td>   50.2538</td> <td>   12.396</td> <td>    4.054</td> <td> 0.000</td> <td>   25.957</td> <td>   74.550</td>\n",
       "</tr>\n",
       "</table>\n",
       "<table class=\"simpletable\">\n",
       "<tr>\n",
       "  <th>Ljung-Box (L1) (Q):</th>     <td>0.01</td> <th>  Jarque-Bera (JB):  </th> <td>40.93</td>\n",
       "</tr>\n",
       "<tr>\n",
       "  <th>Prob(Q):</th>                <td>0.93</td> <th>  Prob(JB):          </th> <td>0.00</td> \n",
       "</tr>\n",
       "<tr>\n",
       "  <th>Heteroskedasticity (H):</th> <td>1.88</td> <th>  Skew:              </th> <td>-1.26</td>\n",
       "</tr>\n",
       "<tr>\n",
       "  <th>Prob(H) (two-sided):</th>    <td>0.18</td> <th>  Kurtosis:          </th> <td>6.25</td> \n",
       "</tr>\n",
       "</table><br/><br/>Warnings:<br/>[1] Covariance matrix calculated using the outer product of gradients (complex-step)."
      ],
      "text/plain": [
       "<class 'statsmodels.iolib.summary.Summary'>\n",
       "\"\"\"\n",
       "                               SARIMAX Results                                \n",
       "==============================================================================\n",
       "Dep. Variable:                      y   No. Observations:                   59\n",
       "Model:               SARIMAX(0, 1, 2)   Log Likelihood                -193.674\n",
       "Date:                Tue, 12 Oct 2021   AIC                            403.347\n",
       "Time:                        14:01:41   BIC                            419.831\n",
       "Sample:                    11-30-2015   HQIC                           409.768\n",
       "                         - 09-30-2020                                         \n",
       "Covariance Type:                  opg                                         \n",
       "=====================================================================================\n",
       "                        coef    std err          z      P>|z|      [0.025      0.975]\n",
       "-------------------------------------------------------------------------------------\n",
       "intercept             1.4222      1.054      1.349      0.177      -0.644       3.489\n",
       "steel_lag2           -0.0231      0.032     -0.727      0.467      -0.085       0.039\n",
       "steel_lag3           -0.0111      0.039     -0.287      0.774      -0.087       0.065\n",
       "china_gdp_ch_lag1    -0.7021      4.629     -0.152      0.879      -9.775       8.371\n",
       "china_gdp_ch_lag6    24.9542     29.671      0.841      0.400     -33.201      83.109\n",
       "ma.L1                 0.1704      0.221      0.772      0.440      -0.262       0.603\n",
       "ma.L2                -0.3319      0.162     -2.047      0.041      -0.650      -0.014\n",
       "sigma2               50.2538     12.396      4.054      0.000      25.957      74.550\n",
       "===================================================================================\n",
       "Ljung-Box (L1) (Q):                   0.01   Jarque-Bera (JB):                40.93\n",
       "Prob(Q):                              0.93   Prob(JB):                         0.00\n",
       "Heteroskedasticity (H):               1.88   Skew:                            -1.26\n",
       "Prob(H) (two-sided):                  0.18   Kurtosis:                         6.25\n",
       "===================================================================================\n",
       "\n",
       "Warnings:\n",
       "[1] Covariance matrix calculated using the outer product of gradients (complex-step).\n",
       "\"\"\""
      ]
     },
     "execution_count": 34,
     "metadata": {},
     "output_type": "execute_result"
    }
   ],
   "source": [
    "arima.summary()"
   ]
  },
  {
   "cell_type": "code",
   "execution_count": 35,
   "metadata": {},
   "outputs": [
    {
     "data": {
      "image/png": "[encoded data removed]",
      "text/plain": [
       "<Figure size 1152x576 with 1 Axes>"
      ]
     },
     "metadata": {},
     "output_type": "display_data"
    }
   ],
   "source": [
    "# Predict + Plot actual vs. forecasts:\n",
    "forecasts, conf_int = arima.predict(n_periods=test.shape[0], X=X_test, return_conf_int=True, alpha=0.05)\n",
    "\n",
    "fig = plt.figure(figsize=(16, 8))\n",
    "ax = fig.add_subplot(1, 1, 1)\n",
    "\n",
    "n_train = y_train.shape[0]\n",
    "x = np.arange(n_train + forecasts.shape[0])\n",
    "\n",
    "ax.plot(y_train.index, y_train, color='blue', label='Training Data')\n",
    "ax.plot(y_test.index, y_test, color='red', label='Actual')\n",
    "ax.plot(y_test.index, forecasts, color='green', marker='o', label='Predicted')\n",
    "ax.fill_between(test.index, conf_int[:, 0], conf_int[:, 1], alpha=0.1, color='b')\n",
    "ax.legend(loc='upper left', borderaxespad=0.5)\n",
    "ax.set_title('Iron Ore Prices')\n",
    "ax.set_ylabel('US$/metric ton')\n",
    "\n",
    "plt.show()"
   ]
  },
  {
   "cell_type": "code",
   "execution_count": 36,
   "metadata": {},
   "outputs": [
    {
     "data": {
      "image/png": "[encoded data removed]",
      "text/plain": [
       "<Figure size 432x288 with 1 Axes>"
      ]
     },
     "metadata": {},
     "output_type": "display_data"
    }
   ],
   "source": [
    "# Plotting the residues\n",
    "plt.scatter(train.index,arima.resid());"
   ]
  },
  {
   "cell_type": "code",
   "execution_count": 37,
   "metadata": {},
   "outputs": [
    {
     "data": {
      "text/plain": [
       "26.52598835138281"
      ]
     },
     "execution_count": 37,
     "metadata": {},
     "output_type": "execute_result"
    }
   ],
   "source": [
    "# Metrics: SMAPE\n",
    "pm.metrics.smape(y_test, forecasts)"
   ]
  },
  {
   "cell_type": "markdown",
   "metadata": {},
   "source": [
    "### 4.3 Cross-validation Modeling"
   ]
  },
  {
   "cell_type": "code",
   "execution_count": 38,
   "metadata": {},
   "outputs": [
    {
     "name": "stdout",
     "output_type": "stream",
     "text": [
      "[CV] fold=0 ..........................................................\n",
      "[CV] fold=1 ..........................................................\n",
      "[CV] fold=2 ..........................................................\n",
      "[CV] fold=3 ..........................................................\n",
      "[CV] fold=4 ..........................................................\n",
      "[CV] fold=5 ..........................................................\n",
      "[CV] fold=6 ..........................................................\n",
      "[CV] fold=7 ..........................................................\n",
      "[CV] fold=8 ..........................................................\n",
      "[CV] fold=9 ..........................................................\n",
      "[CV] fold=10 .........................................................\n",
      "[CV] fold=11 .........................................................\n",
      "[CV] fold=12 .........................................................\n"
     ]
    },
    {
     "data": {
      "image/png": "[encoded data removed]",
      "text/plain": [
       "<Figure size 1152x576 with 1 Axes>"
      ]
     },
     "metadata": {},
     "output_type": "display_data"
    }
   ],
   "source": [
    "# cross-validation\n",
    "cv = pm.model_selection.SlidingWindowForecastCV(step=4, h=6, window_size=12)\n",
    "predictions = pm.model_selection.cross_val_predict(\n",
    "    arima, y, cv=cv, verbose=2, averaging=\"median\")\n",
    "\n",
    "# plot the predictions over the original series\n",
    "fig = plt.figure(figsize=(16, 8))\n",
    "ax = fig.add_subplot(1, 1, 1)\n",
    "#x_axis = np.arange(y.shape[0])\n",
    "x_axis = y.index\n",
    "n_test = predictions.shape[0]\n",
    "\n",
    "ax.plot(x_axis, y, alpha=0.75, c='b', label='Actual')\n",
    "ax.plot(x_axis[-n_test:], predictions, alpha=0.75, c='g', label='Predicted')  # Forecasts\n",
    "ax.legend(loc='upper left', borderaxespad=0.5)\n",
    "plt.title(\"Cross-validated forecasts\")\n",
    "plt.show()"
   ]
  },
  {
   "cell_type": "code",
   "execution_count": 39,
   "metadata": {},
   "outputs": [
    {
     "data": {
      "text/html": [
       "<table class=\"simpletable\">\n",
       "<caption>SARIMAX Results</caption>\n",
       "<tr>\n",
       "  <th>Dep. Variable:</th>           <td>y</td>        <th>  No. Observations:  </th>    <td>59</td>   \n",
       "</tr>\n",
       "<tr>\n",
       "  <th>Model:</th>           <td>SARIMAX(0, 1, 2)</td> <th>  Log Likelihood     </th> <td>-193.674</td>\n",
       "</tr>\n",
       "<tr>\n",
       "  <th>Date:</th>            <td>Tue, 12 Oct 2021</td> <th>  AIC                </th>  <td>403.347</td>\n",
       "</tr>\n",
       "<tr>\n",
       "  <th>Time:</th>                <td>14:01:42</td>     <th>  BIC                </th>  <td>419.831</td>\n",
       "</tr>\n",
       "<tr>\n",
       "  <th>Sample:</th>             <td>11-30-2015</td>    <th>  HQIC               </th>  <td>409.768</td>\n",
       "</tr>\n",
       "<tr>\n",
       "  <th></th>                   <td>- 09-30-2020</td>   <th>                     </th>     <td> </td>   \n",
       "</tr>\n",
       "<tr>\n",
       "  <th>Covariance Type:</th>        <td>opg</td>       <th>                     </th>     <td> </td>   \n",
       "</tr>\n",
       "</table>\n",
       "<table class=\"simpletable\">\n",
       "<tr>\n",
       "          <td></td>             <th>coef</th>     <th>std err</th>      <th>z</th>      <th>P>|z|</th>  <th>[0.025</th>    <th>0.975]</th>  \n",
       "</tr>\n",
       "<tr>\n",
       "  <th>intercept</th>         <td>    1.4222</td> <td>    1.054</td> <td>    1.349</td> <td> 0.177</td> <td>   -0.644</td> <td>    3.489</td>\n",
       "</tr>\n",
       "<tr>\n",
       "  <th>steel_lag2</th>        <td>   -0.0231</td> <td>    0.032</td> <td>   -0.727</td> <td> 0.467</td> <td>   -0.085</td> <td>    0.039</td>\n",
       "</tr>\n",
       "<tr>\n",
       "  <th>steel_lag3</th>        <td>   -0.0111</td> <td>    0.039</td> <td>   -0.287</td> <td> 0.774</td> <td>   -0.087</td> <td>    0.065</td>\n",
       "</tr>\n",
       "<tr>\n",
       "  <th>china_gdp_ch_lag1</th> <td>   -0.7021</td> <td>    4.629</td> <td>   -0.152</td> <td> 0.879</td> <td>   -9.775</td> <td>    8.371</td>\n",
       "</tr>\n",
       "<tr>\n",
       "  <th>china_gdp_ch_lag6</th> <td>   24.9542</td> <td>   29.671</td> <td>    0.841</td> <td> 0.400</td> <td>  -33.201</td> <td>   83.109</td>\n",
       "</tr>\n",
       "<tr>\n",
       "  <th>ma.L1</th>             <td>    0.1704</td> <td>    0.221</td> <td>    0.772</td> <td> 0.440</td> <td>   -0.262</td> <td>    0.603</td>\n",
       "</tr>\n",
       "<tr>\n",
       "  <th>ma.L2</th>             <td>   -0.3319</td> <td>    0.162</td> <td>   -2.047</td> <td> 0.041</td> <td>   -0.650</td> <td>   -0.014</td>\n",
       "</tr>\n",
       "<tr>\n",
       "  <th>sigma2</th>            <td>   50.2538</td> <td>   12.396</td> <td>    4.054</td> <td> 0.000</td> <td>   25.957</td> <td>   74.550</td>\n",
       "</tr>\n",
       "</table>\n",
       "<table class=\"simpletable\">\n",
       "<tr>\n",
       "  <th>Ljung-Box (L1) (Q):</th>     <td>0.01</td> <th>  Jarque-Bera (JB):  </th> <td>40.93</td>\n",
       "</tr>\n",
       "<tr>\n",
       "  <th>Prob(Q):</th>                <td>0.93</td> <th>  Prob(JB):          </th> <td>0.00</td> \n",
       "</tr>\n",
       "<tr>\n",
       "  <th>Heteroskedasticity (H):</th> <td>1.88</td> <th>  Skew:              </th> <td>-1.26</td>\n",
       "</tr>\n",
       "<tr>\n",
       "  <th>Prob(H) (two-sided):</th>    <td>0.18</td> <th>  Kurtosis:          </th> <td>6.25</td> \n",
       "</tr>\n",
       "</table><br/><br/>Warnings:<br/>[1] Covariance matrix calculated using the outer product of gradients (complex-step)."
      ],
      "text/plain": [
       "<class 'statsmodels.iolib.summary.Summary'>\n",
       "\"\"\"\n",
       "                               SARIMAX Results                                \n",
       "==============================================================================\n",
       "Dep. Variable:                      y   No. Observations:                   59\n",
       "Model:               SARIMAX(0, 1, 2)   Log Likelihood                -193.674\n",
       "Date:                Tue, 12 Oct 2021   AIC                            403.347\n",
       "Time:                        14:01:42   BIC                            419.831\n",
       "Sample:                    11-30-2015   HQIC                           409.768\n",
       "                         - 09-30-2020                                         \n",
       "Covariance Type:                  opg                                         \n",
       "=====================================================================================\n",
       "                        coef    std err          z      P>|z|      [0.025      0.975]\n",
       "-------------------------------------------------------------------------------------\n",
       "intercept             1.4222      1.054      1.349      0.177      -0.644       3.489\n",
       "steel_lag2           -0.0231      0.032     -0.727      0.467      -0.085       0.039\n",
       "steel_lag3           -0.0111      0.039     -0.287      0.774      -0.087       0.065\n",
       "china_gdp_ch_lag1    -0.7021      4.629     -0.152      0.879      -9.775       8.371\n",
       "china_gdp_ch_lag6    24.9542     29.671      0.841      0.400     -33.201      83.109\n",
       "ma.L1                 0.1704      0.221      0.772      0.440      -0.262       0.603\n",
       "ma.L2                -0.3319      0.162     -2.047      0.041      -0.650      -0.014\n",
       "sigma2               50.2538     12.396      4.054      0.000      25.957      74.550\n",
       "===================================================================================\n",
       "Ljung-Box (L1) (Q):                   0.01   Jarque-Bera (JB):                40.93\n",
       "Prob(Q):                              0.93   Prob(JB):                         0.00\n",
       "Heteroskedasticity (H):               1.88   Skew:                            -1.26\n",
       "Prob(H) (two-sided):                  0.18   Kurtosis:                         6.25\n",
       "===================================================================================\n",
       "\n",
       "Warnings:\n",
       "[1] Covariance matrix calculated using the outer product of gradients (complex-step).\n",
       "\"\"\""
      ]
     },
     "execution_count": 39,
     "metadata": {},
     "output_type": "execute_result"
    }
   ],
   "source": [
    "arima.summary()"
   ]
  },
  {
   "cell_type": "code",
   "execution_count": 40,
   "metadata": {},
   "outputs": [
    {
     "data": {
      "text/plain": [
       "21.55806672278515"
      ]
     },
     "execution_count": 40,
     "metadata": {},
     "output_type": "execute_result"
    }
   ],
   "source": [
    "pm.metrics.smape(y[-n_test:], predictions)"
   ]
  },
  {
   "cell_type": "markdown",
   "metadata": {},
   "source": [
    "### 4.4 Final Modeling"
   ]
  },
  {
   "cell_type": "markdown",
   "metadata": {},
   "source": [
    "As the adjusted models from previous section did not show significance for the coefficients of the exogenous variables, we will remove them from the final model, and with this the training dataset may bring a greater number of data, as the historical series of iron ore prices is greater than the historical series of endogenous variables."
   ]
  },
  {
   "cell_type": "code",
   "execution_count": 41,
   "metadata": {},
   "outputs": [],
   "source": [
    "# Split the dataset into train and test subsets - with no exogenous variables\n",
    "TEST_SIZE = .1\n",
    "y = df_all[df_all.index >='2005']['Price'].dropna().copy()\n",
    "y_train, y_test = pm.model_selection.train_test_split(y, test_size=TEST_SIZE)"
   ]
  },
  {
   "cell_type": "code",
   "execution_count": 42,
   "metadata": {},
   "outputs": [
    {
     "name": "stdout",
     "output_type": "stream",
     "text": [
      "Performing stepwise search to minimize aic\n",
      " ARIMA(2,1,2)(0,0,0)[0] intercept   : AIC=1331.605, Time=0.09 sec\n",
      " ARIMA(0,1,0)(0,0,0)[0] intercept   : AIC=1349.113, Time=0.01 sec\n",
      " ARIMA(1,1,0)(0,0,0)[0] intercept   : AIC=1327.574, Time=0.03 sec\n",
      " ARIMA(0,1,1)(0,0,0)[0] intercept   : AIC=1325.942, Time=0.05 sec\n",
      " ARIMA(0,1,0)(0,0,0)[0]             : AIC=1347.153, Time=0.00 sec\n",
      " ARIMA(1,1,1)(0,0,0)[0] intercept   : AIC=1327.736, Time=0.10 sec\n",
      " ARIMA(0,1,2)(0,0,0)[0] intercept   : AIC=1327.778, Time=0.07 sec\n",
      " ARIMA(1,1,2)(0,0,0)[0] intercept   : AIC=1329.618, Time=0.10 sec\n",
      " ARIMA(0,1,1)(0,0,0)[0]             : AIC=1323.971, Time=0.04 sec\n",
      " ARIMA(1,1,1)(0,0,0)[0]             : AIC=1325.764, Time=0.04 sec\n",
      " ARIMA(0,1,2)(0,0,0)[0]             : AIC=1325.805, Time=0.04 sec\n",
      " ARIMA(1,1,0)(0,0,0)[0]             : AIC=1325.599, Time=0.03 sec\n",
      " ARIMA(1,1,2)(0,0,0)[0]             : AIC=1327.630, Time=0.03 sec\n",
      "\n",
      "Best model:  ARIMA(0,1,1)(0,0,0)[0]          \n",
      "Total fit time: 0.639 seconds\n"
     ]
    }
   ],
   "source": [
    "# Fit an auto_arima model\n",
    "\n",
    "# As the ACF increases and decreases, we may need some differencing. \n",
    "# There also does not appear to be an obvious seasonal# trend.\n",
    "n_diffs = pm.arima.ndiffs(y_train, max_d=5)\n",
    "\n",
    "arima_no_exog = pm.auto_arima(d=n_diffs,\n",
    "                      y = y_train, \n",
    "                      error_action='ignore', trace=True,\n",
    "                      suppress_warnings=True, maxiter=5,\n",
    "                      #seasonal=True, m=12\n",
    "                     )"
   ]
  },
  {
   "cell_type": "code",
   "execution_count": 43,
   "metadata": {},
   "outputs": [
    {
     "data": {
      "text/html": [
       "<table class=\"simpletable\">\n",
       "<caption>SARIMAX Results</caption>\n",
       "<tr>\n",
       "  <th>Dep. Variable:</th>           <td>y</td>        <th>  No. Observations:  </th>    <td>180</td>  \n",
       "</tr>\n",
       "<tr>\n",
       "  <th>Model:</th>           <td>SARIMAX(0, 1, 1)</td> <th>  Log Likelihood     </th> <td>-659.985</td>\n",
       "</tr>\n",
       "<tr>\n",
       "  <th>Date:</th>            <td>Tue, 12 Oct 2021</td> <th>  AIC                </th> <td>1323.971</td>\n",
       "</tr>\n",
       "<tr>\n",
       "  <th>Time:</th>                <td>14:01:43</td>     <th>  BIC                </th> <td>1330.345</td>\n",
       "</tr>\n",
       "<tr>\n",
       "  <th>Sample:</th>                  <td>0</td>        <th>  HQIC               </th> <td>1326.555</td>\n",
       "</tr>\n",
       "<tr>\n",
       "  <th></th>                      <td> - 180</td>      <th>                     </th>     <td> </td>   \n",
       "</tr>\n",
       "<tr>\n",
       "  <th>Covariance Type:</th>        <td>opg</td>       <th>                     </th>     <td> </td>   \n",
       "</tr>\n",
       "</table>\n",
       "<table class=\"simpletable\">\n",
       "<tr>\n",
       "     <td></td>       <th>coef</th>     <th>std err</th>      <th>z</th>      <th>P>|z|</th>  <th>[0.025</th>    <th>0.975]</th>  \n",
       "</tr>\n",
       "<tr>\n",
       "  <th>ma.L1</th>  <td>    0.3722</td> <td>    0.050</td> <td>    7.503</td> <td> 0.000</td> <td>    0.275</td> <td>    0.469</td>\n",
       "</tr>\n",
       "<tr>\n",
       "  <th>sigma2</th> <td>   93.5309</td> <td>    6.977</td> <td>   13.406</td> <td> 0.000</td> <td>   79.857</td> <td>  107.205</td>\n",
       "</tr>\n",
       "</table>\n",
       "<table class=\"simpletable\">\n",
       "<tr>\n",
       "  <th>Ljung-Box (L1) (Q):</th>     <td>0.06</td> <th>  Jarque-Bera (JB):  </th> <td>62.72</td>\n",
       "</tr>\n",
       "<tr>\n",
       "  <th>Prob(Q):</th>                <td>0.80</td> <th>  Prob(JB):          </th> <td>0.00</td> \n",
       "</tr>\n",
       "<tr>\n",
       "  <th>Heteroskedasticity (H):</th> <td>0.46</td> <th>  Skew:              </th> <td>-0.66</td>\n",
       "</tr>\n",
       "<tr>\n",
       "  <th>Prob(H) (two-sided):</th>    <td>0.00</td> <th>  Kurtosis:          </th> <td>5.58</td> \n",
       "</tr>\n",
       "</table><br/><br/>Warnings:<br/>[1] Covariance matrix calculated using the outer product of gradients (complex-step)."
      ],
      "text/plain": [
       "<class 'statsmodels.iolib.summary.Summary'>\n",
       "\"\"\"\n",
       "                               SARIMAX Results                                \n",
       "==============================================================================\n",
       "Dep. Variable:                      y   No. Observations:                  180\n",
       "Model:               SARIMAX(0, 1, 1)   Log Likelihood                -659.985\n",
       "Date:                Tue, 12 Oct 2021   AIC                           1323.971\n",
       "Time:                        14:01:43   BIC                           1330.345\n",
       "Sample:                             0   HQIC                          1326.555\n",
       "                                - 180                                         \n",
       "Covariance Type:                  opg                                         \n",
       "==============================================================================\n",
       "                 coef    std err          z      P>|z|      [0.025      0.975]\n",
       "------------------------------------------------------------------------------\n",
       "ma.L1          0.3722      0.050      7.503      0.000       0.275       0.469\n",
       "sigma2        93.5309      6.977     13.406      0.000      79.857     107.205\n",
       "===================================================================================\n",
       "Ljung-Box (L1) (Q):                   0.06   Jarque-Bera (JB):                62.72\n",
       "Prob(Q):                              0.80   Prob(JB):                         0.00\n",
       "Heteroskedasticity (H):               0.46   Skew:                            -0.66\n",
       "Prob(H) (two-sided):                  0.00   Kurtosis:                         5.58\n",
       "===================================================================================\n",
       "\n",
       "Warnings:\n",
       "[1] Covariance matrix calculated using the outer product of gradients (complex-step).\n",
       "\"\"\""
      ]
     },
     "execution_count": 43,
     "metadata": {},
     "output_type": "execute_result"
    }
   ],
   "source": [
    "arima_no_exog.summary()"
   ]
  },
  {
   "cell_type": "code",
   "execution_count": 44,
   "metadata": {},
   "outputs": [
    {
     "name": "stdout",
     "output_type": "stream",
     "text": [
      "[CV] fold=0 ..........................................................\n",
      "[CV] fold=1 ..........................................................\n",
      "[CV] fold=2 ..........................................................\n",
      "[CV] fold=3 ..........................................................\n",
      "[CV] fold=4 ..........................................................\n",
      "[CV] fold=5 ..........................................................\n",
      "[CV] fold=6 ..........................................................\n",
      "[CV] fold=7 ..........................................................\n",
      "[CV] fold=8 ..........................................................\n",
      "[CV] fold=9 ..........................................................\n",
      "[CV] fold=10 .........................................................\n",
      "[CV] fold=11 .........................................................\n",
      "[CV] fold=12 .........................................................\n",
      "[CV] fold=13 .........................................................\n",
      "[CV] fold=14 .........................................................\n",
      "[CV] fold=15 .........................................................\n",
      "[CV] fold=16 .........................................................\n",
      "[CV] fold=17 .........................................................\n",
      "[CV] fold=18 .........................................................\n",
      "[CV] fold=19 .........................................................\n",
      "[CV] fold=20 .........................................................\n",
      "[CV] fold=21 .........................................................\n",
      "[CV] fold=22 .........................................................\n",
      "[CV] fold=23 .........................................................\n",
      "[CV] fold=24 .........................................................\n",
      "[CV] fold=25 .........................................................\n",
      "[CV] fold=26 .........................................................\n",
      "[CV] fold=27 .........................................................\n",
      "[CV] fold=28 .........................................................\n",
      "[CV] fold=29 .........................................................\n",
      "[CV] fold=30 .........................................................\n",
      "[CV] fold=31 .........................................................\n",
      "[CV] fold=32 .........................................................\n",
      "[CV] fold=33 .........................................................\n",
      "[CV] fold=34 .........................................................\n",
      "[CV] fold=35 .........................................................\n",
      "[CV] fold=36 .........................................................\n",
      "[CV] fold=37 .........................................................\n",
      "[CV] fold=38 .........................................................\n",
      "[CV] fold=39 .........................................................\n",
      "[CV] fold=40 .........................................................\n",
      "[CV] fold=41 .........................................................\n",
      "[CV] fold=42 .........................................................\n",
      "[CV] fold=43 .........................................................\n",
      "[CV] fold=44 .........................................................\n",
      "[CV] fold=45 .........................................................\n"
     ]
    },
    {
     "data": {
      "image/png": "[encoded data removed]",
      "text/plain": [
       "<Figure size 1152x576 with 1 Axes>"
      ]
     },
     "metadata": {},
     "output_type": "display_data"
    }
   ],
   "source": [
    "# cross-validation\n",
    "cv = pm.model_selection.SlidingWindowForecastCV(step=4, h=6, window_size=12)\n",
    "predictions = pm.model_selection.cross_val_predict(\n",
    "    arima_no_exog, y, cv=cv, verbose=2, averaging=\"median\")\n",
    "\n",
    "# plot the predictions over the original series\n",
    "fig = plt.figure(figsize=(16, 8))\n",
    "ax = fig.add_subplot(1, 1, 1)\n",
    "#x_axis = np.arange(y.shape[0])\n",
    "x_axis = y.index\n",
    "n_test = predictions.shape[0]\n",
    "\n",
    "ax.plot(x_axis, y, alpha=0.75, c='b', label='Actual')\n",
    "ax.plot(x_axis[-n_test:], predictions, alpha=0.75, c='g', label='Predicted')  # Forecasts\n",
    "ax.legend(loc='upper left', borderaxespad=0.5)\n",
    "plt.title(\"Cross-validated forecasts\")\n",
    "plt.show()"
   ]
  },
  {
   "cell_type": "code",
   "execution_count": 45,
   "metadata": {},
   "outputs": [
    {
     "data": {
      "text/plain": [
       "20.41240502619312"
      ]
     },
     "execution_count": 45,
     "metadata": {},
     "output_type": "execute_result"
    }
   ],
   "source": [
    "pm.metrics.smape(y[-n_test:], predictions)"
   ]
  },
  {
   "cell_type": "code",
   "execution_count": 46,
   "metadata": {},
   "outputs": [
    {
     "name": "stdout",
     "output_type": "stream",
     "text": [
      "[CV] fold=0 ..........................................................\n",
      "[CV] fold=1 ..........................................................\n",
      "[CV] fold=2 ..........................................................\n",
      "[CV] fold=3 ..........................................................\n",
      "[CV] fold=4 ..........................................................\n",
      "[CV] fold=5 ..........................................................\n",
      "[CV] fold=6 ..........................................................\n",
      "[CV] fold=7 ..........................................................\n",
      "[CV] fold=8 ..........................................................\n",
      "[CV] fold=9 ..........................................................\n",
      "[CV] fold=10 .........................................................\n",
      "[CV] fold=11 .........................................................\n",
      "[CV] fold=12 .........................................................\n",
      "[CV] fold=13 .........................................................\n",
      "[CV] fold=14 .........................................................\n",
      "[CV] fold=15 .........................................................\n",
      "[CV] fold=16 .........................................................\n",
      "[CV] fold=17 .........................................................\n",
      "[CV] fold=18 .........................................................\n",
      "[CV] fold=19 .........................................................\n",
      "[CV] fold=20 .........................................................\n",
      "[CV] fold=21 .........................................................\n",
      "[CV] fold=22 .........................................................\n",
      "[CV] fold=23 .........................................................\n",
      "[CV] fold=24 .........................................................\n",
      "[CV] fold=25 .........................................................\n",
      "[CV] fold=26 .........................................................\n",
      "[CV] fold=27 .........................................................\n",
      "[CV] fold=28 .........................................................\n",
      "[CV] fold=29 .........................................................\n",
      "[CV] fold=30 .........................................................\n",
      "[CV] fold=31 .........................................................\n",
      "[CV] fold=32 .........................................................\n",
      "[CV] fold=33 .........................................................\n",
      "[CV] fold=34 .........................................................\n",
      "[CV] fold=35 .........................................................\n",
      "[CV] fold=36 .........................................................\n",
      "[CV] fold=37 .........................................................\n",
      "[CV] fold=38 .........................................................\n",
      "[CV] fold=39 .........................................................\n",
      "[CV] fold=40 .........................................................\n",
      "[CV] fold=41 .........................................................\n",
      "[CV] fold=42 .........................................................\n",
      "[CV] fold=43 .........................................................\n",
      "[CV] fold=44 .........................................................\n",
      "[CV] fold=45 .........................................................\n"
     ]
    },
    {
     "data": {
      "text/plain": [
       "array([ 3.26243363,  4.41768129,  6.81210662, 21.55327281, 29.03308625,\n",
       "       32.46318168,  4.77361828, 21.61663213, 72.91971231, 13.56426828,\n",
       "       17.60361111, 15.90797399, 30.61533757, 23.58692401,  9.75633997,\n",
       "        7.93654876,  4.49080487, 19.36509214,  3.41192713, 21.39268065,\n",
       "       24.14047371,  9.32209963, 10.25186702,  6.51319711, 19.94312219,\n",
       "       29.67610376, 23.5768888 , 11.26434334, 16.25190687, 17.75955672,\n",
       "       26.80553096,  7.77755402, 20.18006626, 15.22103368,  9.93099627,\n",
       "        8.64488707,  8.42297309,  3.25146534,  7.61202128, 29.82443388,\n",
       "        8.92309047,  6.79799615,  5.61937388, 25.04416726, 14.11031503,\n",
       "        8.95944733])"
      ]
     },
     "execution_count": 46,
     "metadata": {},
     "output_type": "execute_result"
    }
   ],
   "source": [
    "# crosvalscore\n",
    "pm.model_selection.cross_val_score(arima_no_exog, y, scoring='smape', cv=cv, verbose=2, averaging=\"median\")"
   ]
  },
  {
   "cell_type": "markdown",
   "metadata": {},
   "source": [
    "## 5. Persisting the model"
   ]
  },
  {
   "cell_type": "code",
   "execution_count": 47,
   "metadata": {},
   "outputs": [
    {
     "name": "stdout",
     "output_type": "stream",
     "text": [
      "Predictions: [95.54513207 95.54513207 95.54513207]\n"
     ]
    }
   ],
   "source": [
    "# save the model to disk\n",
    "filename = 'final_model.pkl'\n",
    "pickle.dump(arima_no_exog, open(filename, 'wb'))\n",
    " \n",
    "# load the model from disk\n",
    "model_loaded = pickle.load(open(filename, 'rb'))\n",
    "preds = model_loaded.predict(n_periods=3)\n",
    "print('Predictions:', preds)"
   ]
  },
  {
   "cell_type": "code",
   "execution_count": 48,
   "metadata": {},
   "outputs": [
    {
     "name": "stdout",
     "output_type": "stream",
     "text": [
      "Predictions: [148.58276734 146.87366282 145.27989052]\n"
     ]
    }
   ],
   "source": [
    "# save the model to disk\n",
    "filename = 'arima_model.pkl'\n",
    "pickle.dump(arima, open(filename, 'wb'))\n",
    " \n",
    "# load the model from disk\n",
    "model_loaded = pickle.load(open(filename, 'rb'))\n",
    "preds = model_loaded.predict(n_periods=3, X=X_test[:3])\n",
    "print('Predictions:', preds)"
   ]
  },
  {
   "cell_type": "markdown",
   "metadata": {},
   "source": [
    "## 6. Conclusion"
   ]
  },
  {
   "cell_type": "markdown",
   "metadata": {},
   "source": [
    "#### Acknowlegments:\n",
    "https://otexts.com/fpp2/  \n",
    "https://machinelearningmastery.com/arima-for-time-series-forecasting-with-python/  \n",
    "https://www.nbshare.io/notebook/136553745/Time-Series-Analysis-Using-ARIMA-From-StatsModels/  \n",
    "https://www.machinelearningplus.com/time-series/arima-model-time-series-forecasting-python/  \n",
    "https://github.com/alkaline-ml/pmdarima  \n",
    "https://alkaline-ml.com/pmdarima/index.html  \n",
    "https://medium.com/keita-starts-data-science/time-series-split-with-scikit-learn-74f5be38489e  \n",
    "https://stackoverflow.com/questions/46732748/how-do-i-use-a-timeseriessplit-with-a-gridsearchcv-object-to-tune-a-model-in-sci  \n",
    "https://towardsdatascience.com/time-based-cross-validation-d259b13d42b8  \n",
    "https://www.analyticsvidhya.com/blog/2021/08/granger-causality-in-time-series-explained-using-chicken-and-egg-problem  \n",
    "https://www.analyticsvidhya.com/blog/2021/06/random-forest-for-time-series-forecasting/  \n",
    "https://towardsdatascience.com/an-end-to-end-project-on-time-series-analysis-and-forecasting-with-python-4835e6bf050b   \n",
    "https://machinelearningmastery.com/make-sample-forecasts-arima-python/  "
   ]
  },
  {
   "cell_type": "code",
   "execution_count": null,
   "metadata": {},
   "outputs": [],
   "source": [
    "# Now plot the results and the forecast for the test set\n",
    "preds, conf_int = arima.predict(n_periods=test.shape[0],\n",
    "                                return_conf_int=True)\n",
    "\n",
    "fig, axes = plt.subplots(2, 1, figsize=(12, 8))\n",
    "x_axis = np.arange(train.shape[0] + preds.shape[0])\n",
    "axes[0].plot(x_axis[:train.shape[0]], train, alpha=0.75)\n",
    "axes[0].scatter(x_axis[train.shape[0]:], preds, alpha=0.4, marker='o')\n",
    "axes[0].scatter(x_axis[train.shape[0]:], test, alpha=0.4, marker='x')\n",
    "axes[0].fill_between(x_axis[-preds.shape[0]:], conf_int[:, 0], conf_int[:, 1],\n",
    "                     alpha=0.1, color='b')\n",
    "\n",
    "# fill the section where we \"held out\" samples in our model fit\n",
    "\n",
    "axes[0].set_title(\"Train samples & forecasted test samples\")\n",
    "\n",
    "# Now add the actual samples to the model and create NEW forecasts\n",
    "arima.update(test)\n",
    "new_preds, new_conf_int = arima.predict(n_periods=10, return_conf_int=True)\n",
    "new_x_axis = np.arange(data.shape[0] + 10)\n",
    "\n",
    "axes[1].plot(new_x_axis[:data.shape[0]], data, alpha=0.75)\n",
    "axes[1].scatter(new_x_axis[data.shape[0]:], new_preds, alpha=0.4, marker='o')\n",
    "axes[1].fill_between(new_x_axis[-new_preds.shape[0]:],\n",
    "                     new_conf_int[:, 0],\n",
    "                     new_conf_int[:, 1],\n",
    "                     alpha=0.1, color='g')\n",
    "axes[1].set_title(\"Added new observed values with new forecasts\")\n",
    "plt.show()"
   ]
  }
 ],
 "metadata": {
  "kernelspec": {
   "display_name": "Python 3",
   "language": "python",
   "name": "python3"
  },
  "language_info": {
   "codemirror_mode": {
    "name": "ipython",
    "version": 3
   },
   "file_extension": ".py",
   "mimetype": "text/x-python",
   "name": "python",
   "nbconvert_exporter": "python",
   "pygments_lexer": "ipython3",
   "version": "3.6.5"
  }
 },
 "nbformat": 4,
 "nbformat_minor": 2
}
