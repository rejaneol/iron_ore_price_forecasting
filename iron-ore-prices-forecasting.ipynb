{
 "cells": [
  {
   "cell_type": "markdown",
   "metadata": {},
   "source": [
    "# Iron Ore Prices Forecasting Project\n",
    "\n",
    "This project aims to develop a model to predict the iron ore prices.  \n",
    "Iron Ore is a commodity used to produce steel. Commodity prices are subject to the high volatility typical of market prices."
   ]
  },
  {
   "cell_type": "markdown",
   "metadata": {},
   "source": [
    "##### Project Structure\n",
    "\n",
    "1. Motivation  \n",
    "2. The Data\n",
    "3. Exploratory Data Analysis\n",
    "4. Modeling  \n",
    "4.1 POC Modeling  \n",
    "4.2 Final Model  \n",
    "5. Results\n",
    "6. Conclusion\n",
    "7. Acknowlegdments"
   ]
  },
  {
   "cell_type": "markdown",
   "metadata": {},
   "source": [
    "## 1. Motivation\n",
    "\n",
    "Overview:  \n",
    "Visualizing the Rise in Commodity Prices  \n",
    "https://elements.visualcapitalist.com/visualizing-the-rise-in-commodity-prices/  \n",
    "\n",
    "https://www.weforum.org/agenda/2021/06/global-steel-production/"
   ]
  },
  {
   "cell_type": "markdown",
   "metadata": {},
   "source": [
    "##### Importing packages"
   ]
  },
  {
   "cell_type": "code",
   "execution_count": 1,
   "metadata": {},
   "outputs": [],
   "source": [
    "import pandas as pd\n",
    "import numpy as np\n",
    "import statsmodels as sm\n",
    "\n",
    "import matplotlib.pyplot as plt\n",
    "import seaborn as sns"
   ]
  },
  {
   "cell_type": "code",
   "execution_count": 2,
   "metadata": {},
   "outputs": [],
   "source": [
    "from statsmodels.tsa import arima, stattools, seasonal, statespace\n",
    "from statsmodels.tsa.statespace import sarimax"
   ]
  },
  {
   "cell_type": "code",
   "execution_count": 3,
   "metadata": {},
   "outputs": [],
   "source": [
    "from sklearn.model_selection import GridSearchCV\n",
    "from sklearn.ensemble import RandomForestClassifier\n",
    "from sklearn.model_selection import TimeSeriesSplit"
   ]
  },
  {
   "cell_type": "markdown",
   "metadata": {},
   "source": [
    "## 2. The Data \n",
    "The data that is interesting to predict and forecaste iron ore prices are the prices itselt (the main series) and some exogenous variables related to the subject, like steel prices, scrap prices (a raw material that can replace iron ore at certain content), industrial production, and GDP growth of the main consumers."
   ]
  },
  {
   "cell_type": "markdown",
   "metadata": {},
   "source": [
    "### 2.1 Data sources:  \n",
    "- Iron Ore Prices:  \n",
    "MarketIndex.com.au/iron-ore  \n",
    "\n",
    "https://www.worldbank.org/en/research/commodity-markets#1\n",
    "\n",
    "https://www.indexmundi.com/commodities/?commodity=iron-ore&months=240  (obs Terms of Use)  \n",
    "Description: Iron ore (any origin) fines, spot price, c.f.r. China, 62% Fe beginning December 2008; previously 63.5%  \n",
    "Unit: US Dollars per Dry Metric Ton  \n",
    "\n",
    "https://www.investing.com/commodities/iron-ore-62-cfr-futures-historical-data  \n",
    "\n",
    "- Rain Fall in Australia:  \n",
    "https://www.kaggle.com/jsphyg/weather-dataset-rattle-package  \n",
    "http://www.bom.gov.au/climate/data/  \n",
    "- Scrap Prices (LME Steel Scrap)  \n",
    "https://www.lme.com/Market-Data/Reports-and-data/Historical-data-for-cash-settled-futures\n",
    "- Steel Prices  (LME Steel HRC FOB China (Argus) \n",
    "https://www.lme.com/-/media/Files/Market-data/Historic-Data/2021/Cash-settled-futures/Closing-prices/HC-Closing-Prices.xlsx\n",
    "- World Steel Production  \n",
    "https://www.worldsteel.org/steel-by-topic/statistics/annual-production-steel-data/P1_crude_steel_total_pub/CHN/IND"
   ]
  },
  {
   "cell_type": "markdown",
   "metadata": {},
   "source": [
    "### 2.2 Iron Ore Prices "
   ]
  },
  {
   "cell_type": "code",
   "execution_count": 4,
   "metadata": {
    "scrolled": false
   },
   "outputs": [
    {
     "name": "stdout",
     "output_type": "stream",
     "text": [
      "<class 'pandas.core.frame.DataFrame'>\n",
      "RangeIndex: 740 entries, 0 to 739\n",
      "Data columns (total 2 columns):\n",
      " #   Column      Non-Null Count  Dtype  \n",
      "---  ------      --------------  -----  \n",
      " 0   Unnamed: 0  740 non-null    object \n",
      " 1   IRON_ORE    740 non-null    float64\n",
      "dtypes: float64(1), object(1)\n",
      "memory usage: 11.7+ KB\n",
      "None\n"
     ]
    },
    {
     "data": {
      "text/html": [
       "<div>\n",
       "<style scoped>\n",
       "    .dataframe tbody tr th:only-of-type {\n",
       "        vertical-align: middle;\n",
       "    }\n",
       "\n",
       "    .dataframe tbody tr th {\n",
       "        vertical-align: top;\n",
       "    }\n",
       "\n",
       "    .dataframe thead th {\n",
       "        text-align: right;\n",
       "    }\n",
       "</style>\n",
       "<table border=\"1\" class=\"dataframe\">\n",
       "  <thead>\n",
       "    <tr style=\"text-align: right;\">\n",
       "      <th></th>\n",
       "      <th>Unnamed: 0</th>\n",
       "      <th>IRON_ORE</th>\n",
       "    </tr>\n",
       "  </thead>\n",
       "  <tbody>\n",
       "    <tr>\n",
       "      <th>0</th>\n",
       "      <td>1960M01</td>\n",
       "      <td>11.42</td>\n",
       "    </tr>\n",
       "    <tr>\n",
       "      <th>1</th>\n",
       "      <td>1960M02</td>\n",
       "      <td>11.42</td>\n",
       "    </tr>\n",
       "    <tr>\n",
       "      <th>2</th>\n",
       "      <td>1960M03</td>\n",
       "      <td>11.42</td>\n",
       "    </tr>\n",
       "    <tr>\n",
       "      <th>3</th>\n",
       "      <td>1960M04</td>\n",
       "      <td>11.42</td>\n",
       "    </tr>\n",
       "    <tr>\n",
       "      <th>4</th>\n",
       "      <td>1960M05</td>\n",
       "      <td>11.42</td>\n",
       "    </tr>\n",
       "  </tbody>\n",
       "</table>\n",
       "</div>"
      ],
      "text/plain": [
       "  Unnamed: 0  IRON_ORE\n",
       "0    1960M01     11.42\n",
       "1    1960M02     11.42\n",
       "2    1960M03     11.42\n",
       "3    1960M04     11.42\n",
       "4    1960M05     11.42"
      ]
     },
     "execution_count": 4,
     "metadata": {},
     "output_type": "execute_result"
    }
   ],
   "source": [
    "# Iron Ore Prices Historical Data\n",
    "\n",
    "\"\"\"\n",
    "# source: Australia \n",
    "df = pd.read_excel('..\\data\\commodities-workbook.xlsx',\n",
    "                   sheet_name = 'Iron Ore',\n",
    "                 index_col = 0,\n",
    "                   header=10\n",
    "                 )\n",
    "\"\"\"\n",
    "df = pd.read_excel('..\\data\\CMO-Historical-Data-Monthly.xlsx',\n",
    "                   sheet_name = 'Monthly Prices',\n",
    "                #index_col = 0,\n",
    "                   header=6,\n",
    "                   usecols = 'A,BL'\n",
    "                 )\n",
    "print(df.info())\n",
    "df.head()"
   ]
  },
  {
   "cell_type": "code",
   "execution_count": 5,
   "metadata": {},
   "outputs": [
    {
     "data": {
      "text/html": [
       "<div>\n",
       "<style scoped>\n",
       "    .dataframe tbody tr th:only-of-type {\n",
       "        vertical-align: middle;\n",
       "    }\n",
       "\n",
       "    .dataframe tbody tr th {\n",
       "        vertical-align: top;\n",
       "    }\n",
       "\n",
       "    .dataframe thead th {\n",
       "        text-align: right;\n",
       "    }\n",
       "</style>\n",
       "<table border=\"1\" class=\"dataframe\">\n",
       "  <thead>\n",
       "    <tr style=\"text-align: right;\">\n",
       "      <th></th>\n",
       "      <th>Price</th>\n",
       "    </tr>\n",
       "    <tr>\n",
       "      <th>Data</th>\n",
       "      <th></th>\n",
       "    </tr>\n",
       "  </thead>\n",
       "  <tbody>\n",
       "    <tr>\n",
       "      <th>1960-01-01</th>\n",
       "      <td>11.42</td>\n",
       "    </tr>\n",
       "    <tr>\n",
       "      <th>1960-02-01</th>\n",
       "      <td>11.42</td>\n",
       "    </tr>\n",
       "    <tr>\n",
       "      <th>1960-03-01</th>\n",
       "      <td>11.42</td>\n",
       "    </tr>\n",
       "    <tr>\n",
       "      <th>1960-04-01</th>\n",
       "      <td>11.42</td>\n",
       "    </tr>\n",
       "    <tr>\n",
       "      <th>1960-05-01</th>\n",
       "      <td>11.42</td>\n",
       "    </tr>\n",
       "  </tbody>\n",
       "</table>\n",
       "</div>"
      ],
      "text/plain": [
       "            Price\n",
       "Data             \n",
       "1960-01-01  11.42\n",
       "1960-02-01  11.42\n",
       "1960-03-01  11.42\n",
       "1960-04-01  11.42\n",
       "1960-05-01  11.42"
      ]
     },
     "execution_count": 5,
     "metadata": {},
     "output_type": "execute_result"
    }
   ],
   "source": [
    "# Some adjustings to timestamp format and column names\n",
    "\n",
    "new_columns_names = ['Data', 'Price']\n",
    "df.columns = new_columns_names\n",
    "\n",
    "df['Data'] = pd.to_datetime(df['Data'].str.replace('M','-'), format='%Y-%m')\n",
    "\n",
    "df.set_index('Data', inplace=True)\n",
    "\n",
    "df.head()"
   ]
  },
  {
   "cell_type": "markdown",
   "metadata": {},
   "source": [
    "### 2.3 Additional data\n",
    "\n",
    "Data for some possible exogenous variables:  \n",
    "- Steel Scrap Prices  \n",
    "- Steel Prices  \n",
    "- GDP  \n",
    "- Future Prices for Iron Ore"
   ]
  },
  {
   "cell_type": "code",
   "execution_count": 6,
   "metadata": {},
   "outputs": [
    {
     "name": "stdout",
     "output_type": "stream",
     "text": [
      "<class 'pandas.core.frame.DataFrame'>\n",
      "DatetimeIndex: 1438 entries, 2015-11-23 to 2021-07-30\n",
      "Data columns (total 15 columns):\n",
      " #   Column  Non-Null Count  Dtype  \n",
      "---  ------  --------------  -----  \n",
      " 0   M1      1438 non-null   float64\n",
      " 1   M2      1438 non-null   float64\n",
      " 2   M3      1438 non-null   float64\n",
      " 3   M4      1438 non-null   float64\n",
      " 4   M5      1438 non-null   float64\n",
      " 5   M6      1438 non-null   float64\n",
      " 6   M7      1438 non-null   float64\n",
      " 7   M8      1438 non-null   float64\n",
      " 8   M9      1438 non-null   float64\n",
      " 9   M10     1438 non-null   float64\n",
      " 10  M11     1438 non-null   float64\n",
      " 11  M12     1438 non-null   float64\n",
      " 12  M13     1438 non-null   float64\n",
      " 13  M14     1438 non-null   float64\n",
      " 14  M15     1438 non-null   float64\n",
      "dtypes: float64(15)\n",
      "memory usage: 179.8 KB\n",
      "None\n"
     ]
    },
    {
     "data": {
      "text/html": [
       "<div>\n",
       "<style scoped>\n",
       "    .dataframe tbody tr th:only-of-type {\n",
       "        vertical-align: middle;\n",
       "    }\n",
       "\n",
       "    .dataframe tbody tr th {\n",
       "        vertical-align: top;\n",
       "    }\n",
       "\n",
       "    .dataframe thead th {\n",
       "        text-align: right;\n",
       "    }\n",
       "</style>\n",
       "<table border=\"1\" class=\"dataframe\">\n",
       "  <thead>\n",
       "    <tr style=\"text-align: right;\">\n",
       "      <th></th>\n",
       "      <th>M1</th>\n",
       "      <th>M2</th>\n",
       "      <th>M3</th>\n",
       "      <th>M4</th>\n",
       "      <th>M5</th>\n",
       "      <th>M6</th>\n",
       "      <th>M7</th>\n",
       "      <th>M8</th>\n",
       "      <th>M9</th>\n",
       "      <th>M10</th>\n",
       "      <th>M11</th>\n",
       "      <th>M12</th>\n",
       "      <th>M13</th>\n",
       "      <th>M14</th>\n",
       "      <th>M15</th>\n",
       "    </tr>\n",
       "    <tr>\n",
       "      <th>USD/mt</th>\n",
       "      <th></th>\n",
       "      <th></th>\n",
       "      <th></th>\n",
       "      <th></th>\n",
       "      <th></th>\n",
       "      <th></th>\n",
       "      <th></th>\n",
       "      <th></th>\n",
       "      <th></th>\n",
       "      <th></th>\n",
       "      <th></th>\n",
       "      <th></th>\n",
       "      <th></th>\n",
       "      <th></th>\n",
       "      <th></th>\n",
       "    </tr>\n",
       "  </thead>\n",
       "  <tbody>\n",
       "    <tr>\n",
       "      <th>2015-11-23</th>\n",
       "      <td>195.0</td>\n",
       "      <td>195.0</td>\n",
       "      <td>195.0</td>\n",
       "      <td>195.0</td>\n",
       "      <td>195.0</td>\n",
       "      <td>195.0</td>\n",
       "      <td>195.0</td>\n",
       "      <td>195.0</td>\n",
       "      <td>195.0</td>\n",
       "      <td>195.0</td>\n",
       "      <td>195.0</td>\n",
       "      <td>195.0</td>\n",
       "      <td>195.0</td>\n",
       "      <td>195.0</td>\n",
       "      <td>195.0</td>\n",
       "    </tr>\n",
       "    <tr>\n",
       "      <th>2015-11-24</th>\n",
       "      <td>195.0</td>\n",
       "      <td>195.0</td>\n",
       "      <td>195.0</td>\n",
       "      <td>195.0</td>\n",
       "      <td>195.0</td>\n",
       "      <td>195.0</td>\n",
       "      <td>195.0</td>\n",
       "      <td>195.0</td>\n",
       "      <td>195.0</td>\n",
       "      <td>195.0</td>\n",
       "      <td>195.0</td>\n",
       "      <td>195.0</td>\n",
       "      <td>195.0</td>\n",
       "      <td>195.0</td>\n",
       "      <td>195.0</td>\n",
       "    </tr>\n",
       "    <tr>\n",
       "      <th>2015-11-25</th>\n",
       "      <td>195.0</td>\n",
       "      <td>193.0</td>\n",
       "      <td>193.0</td>\n",
       "      <td>193.0</td>\n",
       "      <td>193.0</td>\n",
       "      <td>193.0</td>\n",
       "      <td>193.0</td>\n",
       "      <td>193.0</td>\n",
       "      <td>193.0</td>\n",
       "      <td>193.0</td>\n",
       "      <td>193.0</td>\n",
       "      <td>193.0</td>\n",
       "      <td>193.0</td>\n",
       "      <td>193.0</td>\n",
       "      <td>193.0</td>\n",
       "    </tr>\n",
       "    <tr>\n",
       "      <th>2015-11-26</th>\n",
       "      <td>192.0</td>\n",
       "      <td>193.0</td>\n",
       "      <td>193.0</td>\n",
       "      <td>193.0</td>\n",
       "      <td>193.0</td>\n",
       "      <td>193.0</td>\n",
       "      <td>193.0</td>\n",
       "      <td>193.0</td>\n",
       "      <td>193.0</td>\n",
       "      <td>193.0</td>\n",
       "      <td>193.0</td>\n",
       "      <td>193.0</td>\n",
       "      <td>193.0</td>\n",
       "      <td>193.0</td>\n",
       "      <td>193.0</td>\n",
       "    </tr>\n",
       "    <tr>\n",
       "      <th>2015-11-27</th>\n",
       "      <td>192.0</td>\n",
       "      <td>193.0</td>\n",
       "      <td>193.0</td>\n",
       "      <td>193.0</td>\n",
       "      <td>193.0</td>\n",
       "      <td>193.0</td>\n",
       "      <td>193.0</td>\n",
       "      <td>193.0</td>\n",
       "      <td>193.0</td>\n",
       "      <td>193.0</td>\n",
       "      <td>193.0</td>\n",
       "      <td>193.0</td>\n",
       "      <td>193.0</td>\n",
       "      <td>193.0</td>\n",
       "      <td>193.0</td>\n",
       "    </tr>\n",
       "  </tbody>\n",
       "</table>\n",
       "</div>"
      ],
      "text/plain": [
       "               M1     M2     M3     M4     M5     M6     M7     M8     M9  \\\n",
       "USD/mt                                                                      \n",
       "2015-11-23  195.0  195.0  195.0  195.0  195.0  195.0  195.0  195.0  195.0   \n",
       "2015-11-24  195.0  195.0  195.0  195.0  195.0  195.0  195.0  195.0  195.0   \n",
       "2015-11-25  195.0  193.0  193.0  193.0  193.0  193.0  193.0  193.0  193.0   \n",
       "2015-11-26  192.0  193.0  193.0  193.0  193.0  193.0  193.0  193.0  193.0   \n",
       "2015-11-27  192.0  193.0  193.0  193.0  193.0  193.0  193.0  193.0  193.0   \n",
       "\n",
       "              M10    M11    M12    M13    M14    M15  \n",
       "USD/mt                                                \n",
       "2015-11-23  195.0  195.0  195.0  195.0  195.0  195.0  \n",
       "2015-11-24  195.0  195.0  195.0  195.0  195.0  195.0  \n",
       "2015-11-25  193.0  193.0  193.0  193.0  193.0  193.0  \n",
       "2015-11-26  193.0  193.0  193.0  193.0  193.0  193.0  \n",
       "2015-11-27  193.0  193.0  193.0  193.0  193.0  193.0  "
      ]
     },
     "execution_count": 6,
     "metadata": {},
     "output_type": "execute_result"
    }
   ],
   "source": [
    "# Steel Scrap Prices Historical Data\n",
    "df_scrap = pd.read_excel('..\\data\\SC Closing Prices.xlsx', \n",
    "                   index_col = 0,\n",
    "                        )\n",
    "print(df_scrap.info())\n",
    "df_scrap.head()"
   ]
  },
  {
   "cell_type": "code",
   "execution_count": 7,
   "metadata": {},
   "outputs": [
    {
     "name": "stdout",
     "output_type": "stream",
     "text": [
      "<class 'pandas.core.frame.DataFrame'>\n",
      "DatetimeIndex: 605 entries, 2019-03-11 to 2021-07-30\n",
      "Data columns (total 15 columns):\n",
      " #   Column  Non-Null Count  Dtype  \n",
      "---  ------  --------------  -----  \n",
      " 0   M1      605 non-null    float64\n",
      " 1   M2      605 non-null    float64\n",
      " 2   M3      605 non-null    float64\n",
      " 3   M4      605 non-null    float64\n",
      " 4   M5      605 non-null    float64\n",
      " 5   M6      605 non-null    float64\n",
      " 6   M7      605 non-null    float64\n",
      " 7   M8      605 non-null    float64\n",
      " 8   M9      605 non-null    float64\n",
      " 9   M10     605 non-null    float64\n",
      " 10  M11     605 non-null    float64\n",
      " 11  M12     605 non-null    float64\n",
      " 12  M13     605 non-null    float64\n",
      " 13  M14     605 non-null    float64\n",
      " 14  M15     605 non-null    float64\n",
      "dtypes: float64(15)\n",
      "memory usage: 75.6 KB\n",
      "None\n"
     ]
    },
    {
     "data": {
      "text/html": [
       "<div>\n",
       "<style scoped>\n",
       "    .dataframe tbody tr th:only-of-type {\n",
       "        vertical-align: middle;\n",
       "    }\n",
       "\n",
       "    .dataframe tbody tr th {\n",
       "        vertical-align: top;\n",
       "    }\n",
       "\n",
       "    .dataframe thead th {\n",
       "        text-align: right;\n",
       "    }\n",
       "</style>\n",
       "<table border=\"1\" class=\"dataframe\">\n",
       "  <thead>\n",
       "    <tr style=\"text-align: right;\">\n",
       "      <th></th>\n",
       "      <th>M1</th>\n",
       "      <th>M2</th>\n",
       "      <th>M3</th>\n",
       "      <th>M4</th>\n",
       "      <th>M5</th>\n",
       "      <th>M6</th>\n",
       "      <th>M7</th>\n",
       "      <th>M8</th>\n",
       "      <th>M9</th>\n",
       "      <th>M10</th>\n",
       "      <th>M11</th>\n",
       "      <th>M12</th>\n",
       "      <th>M13</th>\n",
       "      <th>M14</th>\n",
       "      <th>M15</th>\n",
       "    </tr>\n",
       "    <tr>\n",
       "      <th>USD/mt</th>\n",
       "      <th></th>\n",
       "      <th></th>\n",
       "      <th></th>\n",
       "      <th></th>\n",
       "      <th></th>\n",
       "      <th></th>\n",
       "      <th></th>\n",
       "      <th></th>\n",
       "      <th></th>\n",
       "      <th></th>\n",
       "      <th></th>\n",
       "      <th></th>\n",
       "      <th></th>\n",
       "      <th></th>\n",
       "      <th></th>\n",
       "    </tr>\n",
       "  </thead>\n",
       "  <tbody>\n",
       "    <tr>\n",
       "      <th>2019-03-11</th>\n",
       "      <td>525.0</td>\n",
       "      <td>505.0</td>\n",
       "      <td>500.0</td>\n",
       "      <td>499.0</td>\n",
       "      <td>498.0</td>\n",
       "      <td>493.0</td>\n",
       "      <td>491.0</td>\n",
       "      <td>470.0</td>\n",
       "      <td>468.0</td>\n",
       "      <td>465.0</td>\n",
       "      <td>450.0</td>\n",
       "      <td>450.0</td>\n",
       "      <td>450.0</td>\n",
       "      <td>450.0</td>\n",
       "      <td>450.0</td>\n",
       "    </tr>\n",
       "    <tr>\n",
       "      <th>2019-03-12</th>\n",
       "      <td>526.0</td>\n",
       "      <td>505.0</td>\n",
       "      <td>501.0</td>\n",
       "      <td>499.0</td>\n",
       "      <td>498.0</td>\n",
       "      <td>493.0</td>\n",
       "      <td>491.0</td>\n",
       "      <td>470.0</td>\n",
       "      <td>468.0</td>\n",
       "      <td>465.0</td>\n",
       "      <td>450.0</td>\n",
       "      <td>450.0</td>\n",
       "      <td>450.0</td>\n",
       "      <td>450.0</td>\n",
       "      <td>450.0</td>\n",
       "    </tr>\n",
       "    <tr>\n",
       "      <th>2019-03-13</th>\n",
       "      <td>528.0</td>\n",
       "      <td>505.0</td>\n",
       "      <td>501.0</td>\n",
       "      <td>499.0</td>\n",
       "      <td>498.0</td>\n",
       "      <td>493.0</td>\n",
       "      <td>491.0</td>\n",
       "      <td>470.0</td>\n",
       "      <td>468.0</td>\n",
       "      <td>465.0</td>\n",
       "      <td>450.0</td>\n",
       "      <td>450.0</td>\n",
       "      <td>450.0</td>\n",
       "      <td>450.0</td>\n",
       "      <td>450.0</td>\n",
       "    </tr>\n",
       "    <tr>\n",
       "      <th>2019-03-14</th>\n",
       "      <td>531.0</td>\n",
       "      <td>505.0</td>\n",
       "      <td>501.0</td>\n",
       "      <td>499.0</td>\n",
       "      <td>498.0</td>\n",
       "      <td>493.0</td>\n",
       "      <td>491.0</td>\n",
       "      <td>470.0</td>\n",
       "      <td>468.0</td>\n",
       "      <td>465.0</td>\n",
       "      <td>450.0</td>\n",
       "      <td>450.0</td>\n",
       "      <td>450.0</td>\n",
       "      <td>450.0</td>\n",
       "      <td>450.0</td>\n",
       "    </tr>\n",
       "    <tr>\n",
       "      <th>2019-03-15</th>\n",
       "      <td>533.0</td>\n",
       "      <td>505.5</td>\n",
       "      <td>501.0</td>\n",
       "      <td>499.0</td>\n",
       "      <td>498.0</td>\n",
       "      <td>493.0</td>\n",
       "      <td>491.0</td>\n",
       "      <td>470.0</td>\n",
       "      <td>468.0</td>\n",
       "      <td>465.0</td>\n",
       "      <td>450.0</td>\n",
       "      <td>450.0</td>\n",
       "      <td>450.0</td>\n",
       "      <td>450.0</td>\n",
       "      <td>450.0</td>\n",
       "    </tr>\n",
       "  </tbody>\n",
       "</table>\n",
       "</div>"
      ],
      "text/plain": [
       "               M1     M2     M3     M4     M5     M6     M7     M8     M9  \\\n",
       "USD/mt                                                                      \n",
       "2019-03-11  525.0  505.0  500.0  499.0  498.0  493.0  491.0  470.0  468.0   \n",
       "2019-03-12  526.0  505.0  501.0  499.0  498.0  493.0  491.0  470.0  468.0   \n",
       "2019-03-13  528.0  505.0  501.0  499.0  498.0  493.0  491.0  470.0  468.0   \n",
       "2019-03-14  531.0  505.0  501.0  499.0  498.0  493.0  491.0  470.0  468.0   \n",
       "2019-03-15  533.0  505.5  501.0  499.0  498.0  493.0  491.0  470.0  468.0   \n",
       "\n",
       "              M10    M11    M12    M13    M14    M15  \n",
       "USD/mt                                                \n",
       "2019-03-11  465.0  450.0  450.0  450.0  450.0  450.0  \n",
       "2019-03-12  465.0  450.0  450.0  450.0  450.0  450.0  \n",
       "2019-03-13  465.0  450.0  450.0  450.0  450.0  450.0  \n",
       "2019-03-14  465.0  450.0  450.0  450.0  450.0  450.0  \n",
       "2019-03-15  465.0  450.0  450.0  450.0  450.0  450.0  "
      ]
     },
     "execution_count": 7,
     "metadata": {},
     "output_type": "execute_result"
    }
   ],
   "source": [
    "# Steel Prices Historical Data\n",
    "df_steel = pd.read_excel('..\\data\\HC Closing Prices.xlsx', \n",
    "                   index_col = 0,\n",
    "                        )\n",
    "print(df_steel.info())\n",
    "df_steel.head()"
   ]
  },
  {
   "cell_type": "code",
   "execution_count": 8,
   "metadata": {},
   "outputs": [
    {
     "name": "stdout",
     "output_type": "stream",
     "text": [
      "<class 'pandas.core.frame.DataFrame'>\n",
      "DatetimeIndex: 42 entries, 2011-01-01 to 2021-04-01\n",
      "Data columns (total 7 columns):\n",
      " #   Column      Non-Null Count  Dtype  \n",
      "---  ------      --------------  -----  \n",
      " 0   LOCATION    42 non-null     object \n",
      " 1   INDICATOR   42 non-null     object \n",
      " 2   SUBJECT     42 non-null     object \n",
      " 3   MEASURE     42 non-null     object \n",
      " 4   FREQUENCY   42 non-null     object \n",
      " 5   Value       42 non-null     float64\n",
      " 6   Flag Codes  0 non-null      object \n",
      "dtypes: float64(1), object(6)\n",
      "memory usage: 2.6+ KB\n",
      "None\n"
     ]
    },
    {
     "data": {
      "text/html": [
       "<div>\n",
       "<style scoped>\n",
       "    .dataframe tbody tr th:only-of-type {\n",
       "        vertical-align: middle;\n",
       "    }\n",
       "\n",
       "    .dataframe tbody tr th {\n",
       "        vertical-align: top;\n",
       "    }\n",
       "\n",
       "    .dataframe thead th {\n",
       "        text-align: right;\n",
       "    }\n",
       "</style>\n",
       "<table border=\"1\" class=\"dataframe\">\n",
       "  <thead>\n",
       "    <tr style=\"text-align: right;\">\n",
       "      <th></th>\n",
       "      <th>LOCATION</th>\n",
       "      <th>INDICATOR</th>\n",
       "      <th>SUBJECT</th>\n",
       "      <th>MEASURE</th>\n",
       "      <th>FREQUENCY</th>\n",
       "      <th>China_gdp_pc</th>\n",
       "      <th>Flag Codes</th>\n",
       "    </tr>\n",
       "    <tr>\n",
       "      <th>TIME</th>\n",
       "      <th></th>\n",
       "      <th></th>\n",
       "      <th></th>\n",
       "      <th></th>\n",
       "      <th></th>\n",
       "      <th></th>\n",
       "      <th></th>\n",
       "    </tr>\n",
       "  </thead>\n",
       "  <tbody>\n",
       "    <tr>\n",
       "      <th>2011-01-01</th>\n",
       "      <td>CHN</td>\n",
       "      <td>QGDP</td>\n",
       "      <td>TOT</td>\n",
       "      <td>PC_CHGPP</td>\n",
       "      <td>Q</td>\n",
       "      <td>2.5</td>\n",
       "      <td>NaN</td>\n",
       "    </tr>\n",
       "    <tr>\n",
       "      <th>2011-04-01</th>\n",
       "      <td>CHN</td>\n",
       "      <td>QGDP</td>\n",
       "      <td>TOT</td>\n",
       "      <td>PC_CHGPP</td>\n",
       "      <td>Q</td>\n",
       "      <td>2.3</td>\n",
       "      <td>NaN</td>\n",
       "    </tr>\n",
       "    <tr>\n",
       "      <th>2011-07-01</th>\n",
       "      <td>CHN</td>\n",
       "      <td>QGDP</td>\n",
       "      <td>TOT</td>\n",
       "      <td>PC_CHGPP</td>\n",
       "      <td>Q</td>\n",
       "      <td>1.9</td>\n",
       "      <td>NaN</td>\n",
       "    </tr>\n",
       "    <tr>\n",
       "      <th>2011-10-01</th>\n",
       "      <td>CHN</td>\n",
       "      <td>QGDP</td>\n",
       "      <td>TOT</td>\n",
       "      <td>PC_CHGPP</td>\n",
       "      <td>Q</td>\n",
       "      <td>1.5</td>\n",
       "      <td>NaN</td>\n",
       "    </tr>\n",
       "    <tr>\n",
       "      <th>2012-01-01</th>\n",
       "      <td>CHN</td>\n",
       "      <td>QGDP</td>\n",
       "      <td>TOT</td>\n",
       "      <td>PC_CHGPP</td>\n",
       "      <td>Q</td>\n",
       "      <td>1.9</td>\n",
       "      <td>NaN</td>\n",
       "    </tr>\n",
       "  </tbody>\n",
       "</table>\n",
       "</div>"
      ],
      "text/plain": [
       "           LOCATION INDICATOR SUBJECT   MEASURE FREQUENCY  China_gdp_pc  \\\n",
       "TIME                                                                      \n",
       "2011-01-01      CHN      QGDP     TOT  PC_CHGPP         Q           2.5   \n",
       "2011-04-01      CHN      QGDP     TOT  PC_CHGPP         Q           2.3   \n",
       "2011-07-01      CHN      QGDP     TOT  PC_CHGPP         Q           1.9   \n",
       "2011-10-01      CHN      QGDP     TOT  PC_CHGPP         Q           1.5   \n",
       "2012-01-01      CHN      QGDP     TOT  PC_CHGPP         Q           1.9   \n",
       "\n",
       "           Flag Codes  \n",
       "TIME                   \n",
       "2011-01-01        NaN  \n",
       "2011-04-01        NaN  \n",
       "2011-07-01        NaN  \n",
       "2011-10-01        NaN  \n",
       "2012-01-01        NaN  "
      ]
     },
     "execution_count": 8,
     "metadata": {},
     "output_type": "execute_result"
    }
   ],
   "source": [
    "# China GDP Growth\n",
    "df_gdp = pd.read_csv('..\\data\\quarterly-gdp-oecd.csv',\n",
    "                    parse_dates = ['TIME'])\n",
    "df_chn_gdp = df_gdp[(df_gdp['LOCATION'] == 'CHN') & (df_gdp['FREQUENCY'] == 'Q') & (df_gdp['MEASURE'] == 'PC_CHGPP')].set_index('TIME')\n",
    "print(df_chn_gdp.info())\n",
    "df_chn_gdp.rename(columns = {'Value':'China_gdp_pc'}, inplace=True)\n",
    "df_chn_gdp.head()"
   ]
  },
  {
   "cell_type": "markdown",
   "metadata": {},
   "source": [
    "### 2.4 Data Preparation"
   ]
  },
  {
   "cell_type": "markdown",
   "metadata": {},
   "source": [
    "Merging all the series in one single dataset"
   ]
  },
  {
   "cell_type": "code",
   "execution_count": 9,
   "metadata": {},
   "outputs": [],
   "source": [
    "# Preparing Scrap data\n",
    "scrap_col_names = []\n",
    "for col in df_scrap.columns:\n",
    "    scrap_col_names.append('scrap_'+col)\n",
    "df_scrap.columns = scrap_col_names\n",
    "\n",
    "# Preparing Steel data\n",
    "steel_col_names = []\n",
    "for col in df_steel.columns:\n",
    "    steel_col_names.append('steel_'+col)\n",
    "df_steel.columns = steel_col_names"
   ]
  },
  {
   "cell_type": "code",
   "execution_count": 10,
   "metadata": {},
   "outputs": [
    {
     "data": {
      "text/html": [
       "<div>\n",
       "<style scoped>\n",
       "    .dataframe tbody tr th:only-of-type {\n",
       "        vertical-align: middle;\n",
       "    }\n",
       "\n",
       "    .dataframe tbody tr th {\n",
       "        vertical-align: top;\n",
       "    }\n",
       "\n",
       "    .dataframe thead th {\n",
       "        text-align: right;\n",
       "    }\n",
       "</style>\n",
       "<table border=\"1\" class=\"dataframe\">\n",
       "  <thead>\n",
       "    <tr style=\"text-align: right;\">\n",
       "      <th></th>\n",
       "      <th>Price</th>\n",
       "      <th>scrap_M1</th>\n",
       "      <th>steel_M1</th>\n",
       "      <th>China_gdp_pc</th>\n",
       "    </tr>\n",
       "    <tr>\n",
       "      <th>Data</th>\n",
       "      <th></th>\n",
       "      <th></th>\n",
       "      <th></th>\n",
       "      <th></th>\n",
       "    </tr>\n",
       "  </thead>\n",
       "  <tbody>\n",
       "    <tr>\n",
       "      <th>1960-01-01</th>\n",
       "      <td>11.42</td>\n",
       "      <td>NaN</td>\n",
       "      <td>NaN</td>\n",
       "      <td>NaN</td>\n",
       "    </tr>\n",
       "    <tr>\n",
       "      <th>1960-02-01</th>\n",
       "      <td>11.42</td>\n",
       "      <td>NaN</td>\n",
       "      <td>NaN</td>\n",
       "      <td>NaN</td>\n",
       "    </tr>\n",
       "    <tr>\n",
       "      <th>1960-03-01</th>\n",
       "      <td>11.42</td>\n",
       "      <td>NaN</td>\n",
       "      <td>NaN</td>\n",
       "      <td>NaN</td>\n",
       "    </tr>\n",
       "    <tr>\n",
       "      <th>1960-04-01</th>\n",
       "      <td>11.42</td>\n",
       "      <td>NaN</td>\n",
       "      <td>NaN</td>\n",
       "      <td>NaN</td>\n",
       "    </tr>\n",
       "    <tr>\n",
       "      <th>1960-05-01</th>\n",
       "      <td>11.42</td>\n",
       "      <td>NaN</td>\n",
       "      <td>NaN</td>\n",
       "      <td>NaN</td>\n",
       "    </tr>\n",
       "  </tbody>\n",
       "</table>\n",
       "</div>"
      ],
      "text/plain": [
       "            Price  scrap_M1  steel_M1  China_gdp_pc\n",
       "Data                                               \n",
       "1960-01-01  11.42       NaN       NaN           NaN\n",
       "1960-02-01  11.42       NaN       NaN           NaN\n",
       "1960-03-01  11.42       NaN       NaN           NaN\n",
       "1960-04-01  11.42       NaN       NaN           NaN\n",
       "1960-05-01  11.42       NaN       NaN           NaN"
      ]
     },
     "execution_count": 10,
     "metadata": {},
     "output_type": "execute_result"
    }
   ],
   "source": [
    "# Preparing a dataset with endogenous and exogenous variables\n",
    "df_all = df.copy()\n",
    "all_series = [df_scrap['scrap_M1'], df_steel['steel_M1'], df_chn_gdp['China_gdp_pc']]\n",
    "for s in all_series:\n",
    "    df_all = df_all.join(s, how='left')\n",
    "df_all.head()"
   ]
  },
  {
   "cell_type": "code",
   "execution_count": 11,
   "metadata": {},
   "outputs": [
    {
     "data": {
      "text/html": [
       "<div>\n",
       "<style scoped>\n",
       "    .dataframe tbody tr th:only-of-type {\n",
       "        vertical-align: middle;\n",
       "    }\n",
       "\n",
       "    .dataframe tbody tr th {\n",
       "        vertical-align: top;\n",
       "    }\n",
       "\n",
       "    .dataframe thead th {\n",
       "        text-align: right;\n",
       "    }\n",
       "</style>\n",
       "<table border=\"1\" class=\"dataframe\">\n",
       "  <thead>\n",
       "    <tr style=\"text-align: right;\">\n",
       "      <th></th>\n",
       "      <th>Price</th>\n",
       "      <th>scrap_M1</th>\n",
       "      <th>steel_M1</th>\n",
       "      <th>China_gdp_pc</th>\n",
       "    </tr>\n",
       "    <tr>\n",
       "      <th>Data</th>\n",
       "      <th></th>\n",
       "      <th></th>\n",
       "      <th></th>\n",
       "      <th></th>\n",
       "    </tr>\n",
       "  </thead>\n",
       "  <tbody>\n",
       "    <tr>\n",
       "      <th>2020-11-01</th>\n",
       "      <td>124.36</td>\n",
       "      <td>NaN</td>\n",
       "      <td>NaN</td>\n",
       "      <td>NaN</td>\n",
       "    </tr>\n",
       "    <tr>\n",
       "      <th>2020-12-01</th>\n",
       "      <td>155.43</td>\n",
       "      <td>372.0</td>\n",
       "      <td>596.5</td>\n",
       "      <td>NaN</td>\n",
       "    </tr>\n",
       "    <tr>\n",
       "      <th>2021-01-01</th>\n",
       "      <td>169.63</td>\n",
       "      <td>NaN</td>\n",
       "      <td>NaN</td>\n",
       "      <td>0.4</td>\n",
       "    </tr>\n",
       "    <tr>\n",
       "      <th>2021-02-01</th>\n",
       "      <td>163.80</td>\n",
       "      <td>387.5</td>\n",
       "      <td>619.5</td>\n",
       "      <td>NaN</td>\n",
       "    </tr>\n",
       "    <tr>\n",
       "      <th>2021-03-01</th>\n",
       "      <td>168.18</td>\n",
       "      <td>471.5</td>\n",
       "      <td>694.0</td>\n",
       "      <td>NaN</td>\n",
       "    </tr>\n",
       "    <tr>\n",
       "      <th>2021-04-01</th>\n",
       "      <td>179.83</td>\n",
       "      <td>460.0</td>\n",
       "      <td>802.0</td>\n",
       "      <td>1.3</td>\n",
       "    </tr>\n",
       "    <tr>\n",
       "      <th>2021-05-01</th>\n",
       "      <td>207.72</td>\n",
       "      <td>NaN</td>\n",
       "      <td>NaN</td>\n",
       "      <td>NaN</td>\n",
       "    </tr>\n",
       "    <tr>\n",
       "      <th>2021-06-01</th>\n",
       "      <td>214.43</td>\n",
       "      <td>509.0</td>\n",
       "      <td>919.0</td>\n",
       "      <td>NaN</td>\n",
       "    </tr>\n",
       "    <tr>\n",
       "      <th>2021-07-01</th>\n",
       "      <td>214.14</td>\n",
       "      <td>510.0</td>\n",
       "      <td>873.0</td>\n",
       "      <td>NaN</td>\n",
       "    </tr>\n",
       "    <tr>\n",
       "      <th>2021-08-01</th>\n",
       "      <td>162.16</td>\n",
       "      <td>NaN</td>\n",
       "      <td>NaN</td>\n",
       "      <td>NaN</td>\n",
       "    </tr>\n",
       "  </tbody>\n",
       "</table>\n",
       "</div>"
      ],
      "text/plain": [
       "             Price  scrap_M1  steel_M1  China_gdp_pc\n",
       "Data                                                \n",
       "2020-11-01  124.36       NaN       NaN           NaN\n",
       "2020-12-01  155.43     372.0     596.5           NaN\n",
       "2021-01-01  169.63       NaN       NaN           0.4\n",
       "2021-02-01  163.80     387.5     619.5           NaN\n",
       "2021-03-01  168.18     471.5     694.0           NaN\n",
       "2021-04-01  179.83     460.0     802.0           1.3\n",
       "2021-05-01  207.72       NaN       NaN           NaN\n",
       "2021-06-01  214.43     509.0     919.0           NaN\n",
       "2021-07-01  214.14     510.0     873.0           NaN\n",
       "2021-08-01  162.16       NaN       NaN           NaN"
      ]
     },
     "execution_count": 11,
     "metadata": {},
     "output_type": "execute_result"
    }
   ],
   "source": [
    "df_all.tail(10)"
   ]
  },
  {
   "cell_type": "markdown",
   "metadata": {},
   "source": [
    "## 3. Exploratory Data Analysis"
   ]
  },
  {
   "cell_type": "markdown",
   "metadata": {},
   "source": [
    "### 3.1 Overview of Historical Data"
   ]
  },
  {
   "cell_type": "code",
   "execution_count": 21,
   "metadata": {
    "scrolled": false
   },
   "outputs": [
    {
     "data": {
      "text/plain": [
       "<Figure size 1152x504 with 0 Axes>"
      ]
     },
     "metadata": {},
     "output_type": "display_data"
    },
    {
     "data": {
      "image/png": "[encoded data removed]",
      "text/plain": [
       "<Figure size 432x288 with 1 Axes>"
      ]
     },
     "metadata": {},
     "output_type": "display_data"
    }
   ],
   "source": [
    "plt.figure(figsize = (16,7))\n",
    "df_all[['Price','scrap_M1','steel_M1']].plot()\n",
    "plt.show();"
   ]
  },
  {
   "cell_type": "markdown",
   "metadata": {},
   "source": [
    "### 3.2 Iron Ore Prices EDA"
   ]
  },
  {
   "cell_type": "markdown",
   "metadata": {},
   "source": [
    "As it is possible to infer from the above chart, there is minor variation on the iron ore prices before 2005. So, only the most recent data starting on 2005 will be investigated.  \n",
    "  \n",
    "Historical prices series are typical time series data. The iron ore prices will be investigated using time series approach. \n",
    "It can present trend and seasonality.\n",
    "\n",
    "When data have a trend, the autocorrelations for small lags tend to be large and positive because observations nearby in time are also nearby in size. So the ACF of trended time series tend to have positive values that slowly decrease as the lags increase. When data are seasonal, the autocorrelations will be larger for the seasonal lags (at multiples of the seasonal frequency) than for other lags (https://otexts.com/fpp2/autocorrelation.html)\n",
    "\n",
    "When data are both trended and seasonal, you see a combination of these effects. \n",
    "\n",
    "Let's take a look at:  \n",
    "- Auto Correlation plot\n",
    "- Lag plot"
   ]
  },
  {
   "cell_type": "code",
   "execution_count": 13,
   "metadata": {},
   "outputs": [
    {
     "data": {
      "image/png": "[encoded data removed]",
      "text/plain": [
       "<Figure size 432x288 with 1 Axes>"
      ]
     },
     "metadata": {},
     "output_type": "display_data"
    }
   ],
   "source": [
    "# Subset the original series to only most recent data (>2005)\n",
    "df = df[df.index>='2005'].copy()\n",
    "df['Price'].plot();"
   ]
  },
  {
   "cell_type": "code",
   "execution_count": 14,
   "metadata": {},
   "outputs": [
    {
     "name": "stdout",
     "output_type": "stream",
     "text": [
      "The iron ore prices over the period from 2005 to 2021 ranges from US$40.5 to US$214.43.\n"
     ]
    },
    {
     "data": {
      "text/plain": [
       "count    200.000000\n",
       "mean     104.976116\n",
       "std       43.516408\n",
       "min       40.500000\n",
       "25%       67.300000\n",
       "50%       91.937000\n",
       "75%      136.721250\n",
       "max      214.430000\n",
       "Name: Price, dtype: float64"
      ]
     },
     "execution_count": 14,
     "metadata": {},
     "output_type": "execute_result"
    }
   ],
   "source": [
    "print(\"The iron ore prices over the period from {0} to {1} ranges from US${2} to US${3}.\"\\\n",
    ".format(df.index.min().year,df.index.max().year,df['Price'].min(), df['Price'].max()))\n",
    "df['Price'].describe()"
   ]
  },
  {
   "cell_type": "markdown",
   "metadata": {},
   "source": [
    "There is a sharp decrease in prices around 2008-2009; this is due to financial crisis in 2008."
   ]
  },
  {
   "cell_type": "markdown",
   "metadata": {},
   "source": [
    "**Auto Correlation Plot - Comments:**  \n",
    "We can see from the chart below that there is a positive correlation with the first ~40 lags that is significant for the about first 12 lags.  \n",
    "The stronger correlations values (>0.5) are about 8 lags.  \n",
    "It is interesting to see that after 50 lags the autocorrelation turns to be significant again, but negative. Perhaps this could be due to a cyclic movement - a business cycle. The most negative correlation can be observed at 60 lags. It is not possible to see a clear seasonality effect."
   ]
  },
  {
   "cell_type": "code",
   "execution_count": 15,
   "metadata": {},
   "outputs": [
    {
     "data": {
      "image/png": "[encoded data removed]",
      "text/plain": [
       "<Figure size 432x288 with 1 Axes>"
      ]
     },
     "metadata": {},
     "output_type": "display_data"
    }
   ],
   "source": [
    "pd.plotting.autocorrelation_plot(df['Price']);"
   ]
  },
  {
   "cell_type": "markdown",
   "metadata": {},
   "source": [
    "**Lag Plot - Comments:**  \n",
    "A Lag plot is a scatter plot of a time series against a lag of itself. It is also used to check for autocorrelation. If there is any pattern existing in the series, the series is autocorrelated. If there is no such pattern, the series is likely to be random white noise.  \n",
    "As it can be seen in the chart below, there's a strong linear pattern between the iron ore price and its lag."
   ]
  },
  {
   "cell_type": "code",
   "execution_count": 16,
   "metadata": {},
   "outputs": [
    {
     "data": {
      "image/png": "[encoded data removed]",
      "text/plain": [
       "<Figure size 432x288 with 1 Axes>"
      ]
     },
     "metadata": {},
     "output_type": "display_data"
    }
   ],
   "source": [
    "pd.plotting.lag_plot(df['Price']);"
   ]
  },
  {
   "cell_type": "markdown",
   "metadata": {},
   "source": [
    "#### Testing for Stationarity  \n",
    "\"A stationary time series is one whose properties do not depend on the time at which the series is observed. Thus, time series with trends, or with seasonality, are not stationary — the trend and seasonality will affect the value of the time series at different times. On the other hand, a white noise series is stationary — it does not matter when you observe it, it should look much the same at any point in time.\"(https://otexts.com/fpp2/stationarity.html)\n",
    "\n",
    "Several tests can be performed to infer whether a series is stationary or not. The null hypothesis is that the data are stationary, and the test look for evidence that the null hypothesis is false. Consequently, small p-values (e.g., less than 0.05) suggest that differencing is required. The AdFuller test and the Kwiatkowski-Phillips-Schmidt-Shin (KPSS) test area examples of stationarity tests."
   ]
  },
  {
   "cell_type": "code",
   "execution_count": 17,
   "metadata": {},
   "outputs": [
    {
     "name": "stdout",
     "output_type": "stream",
     "text": [
      "ADF Test Statistic : -2.7863168879054623\n",
      "p-value : 0.06025504181421079\n",
      "Number of Lags Used : 1\n",
      "Number of Observations Used : 198\n",
      "Weak evidence against null hypothesis: it indicates that the series is non-stationary.\n"
     ]
    }
   ],
   "source": [
    "### Testing For Stationarity\n",
    "def adfuller_test(s):\n",
    "    \"\"\"\n",
    "    Input:\n",
    "    s: series to test for stationarity\n",
    "    \n",
    "    Description:\n",
    "    Stationary data means data which has no trend with respect to the time\n",
    "    Ho: It is non stationary\n",
    "    H1: It is stationary\n",
    "    \"\"\"\n",
    "    result= sm.tsa.stattools.adfuller(s)\n",
    "    labels = ['ADF Test Statistic','p-value','Number of Lags Used','Number of Observations Used']\n",
    "    for value,label in zip(result,labels):\n",
    "        print(label+' : '+str(value) )\n",
    "    if result[1] <= 0.05:\n",
    "        print(\"P value is less than 0.05: Reject the null hypothesis(Ho) for non stationary series.\")\n",
    "    else:\n",
    "        print(\"Weak evidence against null hypothesis: it indicates that the series is non-stationary.\")\n",
    "\n",
    "adfuller_test(df['Price'])"
   ]
  },
  {
   "cell_type": "code",
   "execution_count": 18,
   "metadata": {},
   "outputs": [
    {
     "name": "stdout",
     "output_type": "stream",
     "text": [
      "\n",
      "KPSS Statistic for level: 0.149973\n",
      "p-value: 0.100000\n",
      "\n",
      "KPSS Statistic for trend: 0.135966\n",
      "p-value: 0.068581\n"
     ]
    },
    {
     "name": "stderr",
     "output_type": "stream",
     "text": [
      "C:\\Users\\Rejane\\Anaconda3\\lib\\site-packages\\statsmodels\\tsa\\stattools.py:1875: FutureWarning: The behavior of using nlags=None will change in release 0.13.Currently nlags=None is the same as nlags=\"legacy\", and so a sample-size lag length is used. After the next release, the default will change to be the same as nlags=\"auto\" which uses an automatic lag length selection method. To silence this warning, either use \"auto\" or \"legacy\"\n",
      "  warnings.warn(msg, FutureWarning)\n",
      "C:\\Users\\Rejane\\Anaconda3\\lib\\site-packages\\statsmodels\\tsa\\stattools.py:1911: InterpolationWarning: The test statistic is outside of the range of p-values available in the\n",
      "look-up table. The actual p-value is greater than the p-value returned.\n",
      "\n",
      "  warn_msg.format(direction=\"greater\"), InterpolationWarning\n"
     ]
    }
   ],
   "source": [
    "# Test for trend and seasonality\n",
    "# KPSS Test\n",
    "def kpss_test(series):\n",
    "    \"\"\"\n",
    "    Input: series to test for stationarity\n",
    "    \n",
    "    Description: the Kwiatkowski-Phillips-Schmidt-Shin (KPSS) test for the null hypothesis that the series is level or trend stationary.\n",
    "    \"\"\"\n",
    "result = sm.tsa.stattools.kpss(df['Price'], regression='c')\n",
    "print('\\nKPSS Statistic for level: %f' % result[0])\n",
    "print('p-value: %f' % result[1])\n",
    "#for key, value in result[3].items():\n",
    "#    print('Critical Values:')\n",
    "#    print(f'   {key}, {value}')\n",
    "result = sm.tsa.stattools.kpss(df['Price'], regression='ct')\n",
    "print('\\nKPSS Statistic for trend: %f' % result[0])\n",
    "print('p-value: %f' % result[1])\n",
    "#for key, value in result[3].items():\n",
    "#    print('Critical Values:')\n",
    "#    print(f'   {key}, {value}')"
   ]
  },
  {
   "cell_type": "markdown",
   "metadata": {},
   "source": [
    "### 3.3 Exogenous Variables EDA"
   ]
  },
  {
   "cell_type": "markdown",
   "metadata": {},
   "source": [
    "Ref: https://www.statsmodels.org/stable/generated/statsmodels.tsa.stattools.grangercausalitytests.html  \n",
    "\"The Null hypothesis for grangercausalitytests is that the time series in the second column, x2, does NOT Granger cause the time series in the first column, x1. Grange causality means that past values of x2 have a statistically significant effect on the current value of x1, taking past values of x1 into account as regressors. We reject the null hypothesis that x2 does not Granger cause x1 if the pvalues are below a desired size of the test.\n",
    "\n",
    "The null hypothesis for all four test is that the coefficients corresponding to past values of the second time series are zero.\n",
    "So the Null hypothesis is: the series in the second column, does not Granger cause the series in the first. If the P-Values are less than a significance level (0.05) then you reject the null hypothesis and conclude that the said lag of X is indeed useful.\""
   ]
  },
  {
   "cell_type": "code",
   "execution_count": 19,
   "metadata": {},
   "outputs": [],
   "source": [
    "exogenous = df_all[['scrap_M1','steel_M1','China_gdp_pc']]"
   ]
  },
  {
   "cell_type": "code",
   "execution_count": 20,
   "metadata": {},
   "outputs": [
    {
     "name": "stdout",
     "output_type": "stream",
     "text": [
      "scrap_M1\n",
      "\n",
      "Granger Causality\n",
      "number of lags (no zero) 1\n",
      "ssr based F test:         F=0.3028  , p=0.5852  , df_denom=40, df_num=1\n",
      "ssr based chi2 test:   chi2=0.3255  , p=0.5683  , df=1\n",
      "likelihood ratio test: chi2=0.3243  , p=0.5690  , df=1\n",
      "parameter F test:         F=0.3028  , p=0.5852  , df_denom=40, df_num=1\n",
      "\n",
      "Granger Causality\n",
      "number of lags (no zero) 2\n",
      "ssr based F test:         F=0.9892  , p=0.3815  , df_denom=37, df_num=2\n",
      "ssr based chi2 test:   chi2=2.2457  , p=0.3254  , df=2\n",
      "likelihood ratio test: chi2=2.1877  , p=0.3349  , df=2\n",
      "parameter F test:         F=0.9892  , p=0.3815  , df_denom=37, df_num=2\n",
      "\n",
      "Granger Causality\n",
      "number of lags (no zero) 3\n",
      "ssr based F test:         F=1.5364  , p=0.2228  , df_denom=34, df_num=3\n",
      "ssr based chi2 test:   chi2=5.5583  , p=0.1352  , df=3\n",
      "likelihood ratio test: chi2=5.2124  , p=0.1569  , df=3\n",
      "parameter F test:         F=1.5364  , p=0.2228  , df_denom=34, df_num=3\n",
      "\n",
      "Granger Causality\n",
      "number of lags (no zero) 4\n",
      "ssr based F test:         F=1.0524  , p=0.3964  , df_denom=31, df_num=4\n",
      "ssr based chi2 test:   chi2=5.4319  , p=0.2458  , df=4\n",
      "likelihood ratio test: chi2=5.0934  , p=0.2778  , df=4\n",
      "parameter F test:         F=1.0524  , p=0.3964  , df_denom=31, df_num=4\n",
      "\n",
      "steel_M1\n",
      "\n",
      "Granger Causality\n",
      "number of lags (no zero) 1\n",
      "ssr based F test:         F=0.0055  , p=0.9421  , df_denom=14, df_num=1\n",
      "ssr based chi2 test:   chi2=0.0066  , p=0.9351  , df=1\n",
      "likelihood ratio test: chi2=0.0066  , p=0.9351  , df=1\n",
      "parameter F test:         F=0.0055  , p=0.9421  , df_denom=14, df_num=1\n",
      "\n",
      "Granger Causality\n",
      "number of lags (no zero) 2\n",
      "ssr based F test:         F=0.2773  , p=0.7630  , df_denom=11, df_num=2\n",
      "ssr based chi2 test:   chi2=0.8067  , p=0.6681  , df=2\n",
      "likelihood ratio test: chi2=0.7870  , p=0.6747  , df=2\n",
      "parameter F test:         F=0.2773  , p=0.7630  , df_denom=11, df_num=2\n",
      "\n",
      "Granger Causality\n",
      "number of lags (no zero) 3\n",
      "ssr based F test:         F=2.6735  , p=0.1183  , df_denom=8, df_num=3\n",
      "ssr based chi2 test:   chi2=15.0386 , p=0.0018  , df=3\n",
      "likelihood ratio test: chi2=10.4165 , p=0.0153  , df=3\n",
      "parameter F test:         F=2.6735  , p=0.1183  , df_denom=8, df_num=3\n",
      "\n",
      "Granger Causality\n",
      "number of lags (no zero) 4\n",
      "ssr based F test:         F=1.2416  , p=0.4004  , df_denom=5, df_num=4\n",
      "ssr based chi2 test:   chi2=13.9056 , p=0.0076  , df=4\n",
      "likelihood ratio test: chi2=9.6568  , p=0.0466  , df=4\n",
      "parameter F test:         F=1.2416  , p=0.4004  , df_denom=5, df_num=4\n",
      "\n",
      "China_gdp_pc\n",
      "\n",
      "Granger Causality\n",
      "number of lags (no zero) 1\n",
      "ssr based F test:         F=2.6111  , p=0.1144  , df_denom=38, df_num=1\n",
      "ssr based chi2 test:   chi2=2.8172  , p=0.0933  , df=1\n",
      "likelihood ratio test: chi2=2.7246  , p=0.0988  , df=1\n",
      "parameter F test:         F=2.6111  , p=0.1144  , df_denom=38, df_num=1\n",
      "\n",
      "Granger Causality\n",
      "number of lags (no zero) 2\n",
      "ssr based F test:         F=1.3499  , p=0.2724  , df_denom=35, df_num=2\n",
      "ssr based chi2 test:   chi2=3.0856  , p=0.2138  , df=2\n",
      "likelihood ratio test: chi2=2.9724  , p=0.2262  , df=2\n",
      "parameter F test:         F=1.3499  , p=0.2724  , df_denom=35, df_num=2\n",
      "\n",
      "Granger Causality\n",
      "number of lags (no zero) 3\n",
      "ssr based F test:         F=1.5199  , p=0.2282  , df_denom=32, df_num=3\n",
      "ssr based chi2 test:   chi2=5.5573  , p=0.1353  , df=3\n",
      "likelihood ratio test: chi2=5.1954  , p=0.1580  , df=3\n",
      "parameter F test:         F=1.5199  , p=0.2282  , df_denom=32, df_num=3\n",
      "\n",
      "Granger Causality\n",
      "number of lags (no zero) 4\n",
      "ssr based F test:         F=3.2176  , p=0.0266  , df_denom=29, df_num=4\n",
      "ssr based chi2 test:   chi2=16.8646 , p=0.0021  , df=4\n",
      "likelihood ratio test: chi2=13.9567 , p=0.0074  , df=4\n",
      "parameter F test:         F=3.2176  , p=0.0266  , df_denom=29, df_num=4\n",
      "\n"
     ]
    }
   ],
   "source": [
    "# Test for causality\n",
    "#df['month'] = pd.Series(df.index).dt.month\n",
    "for s in exogenous:\n",
    "    print(s)\n",
    "    sm.tsa.stattools.grangercausalitytests(df_all[['Price', s]].dropna(), maxlag=4)\n",
    "    print()"
   ]
  },
  {
   "cell_type": "markdown",
   "metadata": {},
   "source": [
    "**Comments from Granger Causality Tests Results:**  \n",
    "- Scrap prices don't make Iron Ore prices to change.  \n",
    "- Steel prices from past 3rd and 4th months make Iron Ore prices to change.  \n",
    "- China GDP Growth from last quarter and from the same quarter in previous year influence Iron Ore prices."
   ]
  },
  {
   "cell_type": "markdown",
   "metadata": {},
   "source": [
    "#### Acknowlegments:\n",
    "https://otexts.com/fpp2/  \n",
    "https://machinelearningmastery.com/arima-for-time-series-forecasting-with-python/  \n",
    "https://www.nbshare.io/notebook/136553745/Time-Series-Analysis-Using-ARIMA-From-StatsModels/  \n",
    "https://www.machinelearningplus.com/time-series/arima-model-time-series-forecasting-python/  \n",
    "https://github.com/alkaline-ml/pmdarima\n",
    "https://medium.com/keita-starts-data-science/time-series-split-with-scikit-learn-74f5be38489e\n",
    "https://stackoverflow.com/questions/46732748/how-do-i-use-a-timeseriessplit-with-a-gridsearchcv-object-to-tune-a-model-in-sci\n",
    "https://towardsdatascience.com/time-based-cross-validation-d259b13d42b8  \n",
    "https://www.analyticsvidhya.com/blog/2021/08/granger-causality-in-time-series-explained-using-chicken-and-egg-problem\n",
    "https://www.analyticsvidhya.com/blog/2021/06/random-forest-for-time-series-forecasting/\n",
    "https://towardsdatascience.com/an-end-to-end-project-on-time-series-analysis-and-forecasting-with-python-4835e6bf050b"
   ]
  },
  {
   "cell_type": "code",
   "execution_count": null,
   "metadata": {},
   "outputs": [],
   "source": []
  }
 ],
 "metadata": {
  "kernelspec": {
   "display_name": "Python 3",
   "language": "python",
   "name": "python3"
  },
  "language_info": {
   "codemirror_mode": {
    "name": "ipython",
    "version": 3
   },
   "file_extension": ".py",
   "mimetype": "text/x-python",
   "name": "python",
   "nbconvert_exporter": "python",
   "pygments_lexer": "ipython3",
   "version": "3.6.5"
  }
 },
 "nbformat": 4,
 "nbformat_minor": 2
}
